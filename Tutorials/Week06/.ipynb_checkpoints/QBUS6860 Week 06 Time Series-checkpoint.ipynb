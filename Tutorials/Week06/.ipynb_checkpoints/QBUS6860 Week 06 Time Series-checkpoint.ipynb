{
 "cells": [
  {
   "cell_type": "markdown",
   "metadata": {},
   "source": [
    "<center><h1>QBUS6860 - Visual Data Analytics</h1></center>"
   ]
  },
  {
   "cell_type": "markdown",
   "metadata": {},
   "source": [
    "# Tutorial 6 - Time Series\n",
    "\n",
    "## Learning objectives and tasks:\n",
    "\n",
    "1. Preparing a time series dataframe using data munging functions covered in Lecture 2;\n",
    "2. Manipulating dates - rolling up from detailed (for example, hourly) timestamps to broader (for example, daily) intervals;\n",
    "3. Calculation of variables over time - sum or average of time series variable over time."
   ]
  },
  {
   "cell_type": "markdown",
   "metadata": {},
   "source": [
    "## Task 1: Preparing a time series dataframe"
   ]
  },
  {
   "cell_type": "code",
   "execution_count": 1,
   "metadata": {},
   "outputs": [
    {
     "data": {
      "text/html": [
       "<div>\n",
       "<style scoped>\n",
       "    .dataframe tbody tr th:only-of-type {\n",
       "        vertical-align: middle;\n",
       "    }\n",
       "\n",
       "    .dataframe tbody tr th {\n",
       "        vertical-align: top;\n",
       "    }\n",
       "\n",
       "    .dataframe thead th {\n",
       "        text-align: right;\n",
       "    }\n",
       "</style>\n",
       "<table border=\"1\" class=\"dataframe\">\n",
       "  <thead>\n",
       "    <tr style=\"text-align: right;\">\n",
       "      <th></th>\n",
       "      <th>REGIONID</th>\n",
       "      <th>INTERVAL_DATETIME</th>\n",
       "      <th>OPERATIONAL_DEMAND</th>\n",
       "    </tr>\n",
       "  </thead>\n",
       "  <tbody>\n",
       "    <tr>\n",
       "      <th>0</th>\n",
       "      <td>NSW1</td>\n",
       "      <td>2022/09/18 00:00:00</td>\n",
       "      <td>7568</td>\n",
       "    </tr>\n",
       "    <tr>\n",
       "      <th>1</th>\n",
       "      <td>QLD1</td>\n",
       "      <td>2022/09/18 00:00:00</td>\n",
       "      <td>5575</td>\n",
       "    </tr>\n",
       "    <tr>\n",
       "      <th>2</th>\n",
       "      <td>SA1</td>\n",
       "      <td>2022/09/18 00:00:00</td>\n",
       "      <td>1578</td>\n",
       "    </tr>\n",
       "    <tr>\n",
       "      <th>3</th>\n",
       "      <td>TAS1</td>\n",
       "      <td>2022/09/18 00:00:00</td>\n",
       "      <td>1071</td>\n",
       "    </tr>\n",
       "    <tr>\n",
       "      <th>4</th>\n",
       "      <td>VIC1</td>\n",
       "      <td>2022/09/18 00:00:00</td>\n",
       "      <td>5349</td>\n",
       "    </tr>\n",
       "    <tr>\n",
       "      <th>...</th>\n",
       "      <td>...</td>\n",
       "      <td>...</td>\n",
       "      <td>...</td>\n",
       "    </tr>\n",
       "    <tr>\n",
       "      <th>1675</th>\n",
       "      <td>NSW1</td>\n",
       "      <td>2022/09/24 23:30:00</td>\n",
       "      <td>7561</td>\n",
       "    </tr>\n",
       "    <tr>\n",
       "      <th>1676</th>\n",
       "      <td>QLD1</td>\n",
       "      <td>2022/09/24 23:30:00</td>\n",
       "      <td>5694</td>\n",
       "    </tr>\n",
       "    <tr>\n",
       "      <th>1677</th>\n",
       "      <td>SA1</td>\n",
       "      <td>2022/09/24 23:30:00</td>\n",
       "      <td>1428</td>\n",
       "    </tr>\n",
       "    <tr>\n",
       "      <th>1678</th>\n",
       "      <td>TAS1</td>\n",
       "      <td>2022/09/24 23:30:00</td>\n",
       "      <td>1184</td>\n",
       "    </tr>\n",
       "    <tr>\n",
       "      <th>1679</th>\n",
       "      <td>VIC1</td>\n",
       "      <td>2022/09/24 23:30:00</td>\n",
       "      <td>5137</td>\n",
       "    </tr>\n",
       "  </tbody>\n",
       "</table>\n",
       "<p>1680 rows × 3 columns</p>\n",
       "</div>"
      ],
      "text/plain": [
       "     REGIONID    INTERVAL_DATETIME  OPERATIONAL_DEMAND\n",
       "0        NSW1  2022/09/18 00:00:00                7568\n",
       "1        QLD1  2022/09/18 00:00:00                5575\n",
       "2         SA1  2022/09/18 00:00:00                1578\n",
       "3        TAS1  2022/09/18 00:00:00                1071\n",
       "4        VIC1  2022/09/18 00:00:00                5349\n",
       "...       ...                  ...                 ...\n",
       "1675     NSW1  2022/09/24 23:30:00                7561\n",
       "1676     QLD1  2022/09/24 23:30:00                5694\n",
       "1677      SA1  2022/09/24 23:30:00                1428\n",
       "1678     TAS1  2022/09/24 23:30:00                1184\n",
       "1679     VIC1  2022/09/24 23:30:00                5137\n",
       "\n",
       "[1680 rows x 3 columns]"
      ]
     },
     "execution_count": 1,
     "metadata": {},
     "output_type": "execute_result"
    }
   ],
   "source": [
    "import numpy as np\n",
    "from datetime import date\n",
    "import pandas as pd\n",
    "import matplotlib.pyplot as plt\n",
    "import seaborn as sns\n",
    "\n",
    "df=pd.read_csv('electricity.csv') \n",
    "df"
   ]
  },
  {
   "cell_type": "markdown",
   "metadata": {},
   "source": [
    "> Ask yourself: \n",
    "> 1. What do you notice about this dataset? \n",
    "> 2. Is it readily suitable for plotting time series charts?"
   ]
  },
  {
   "cell_type": "code",
   "execution_count": 2,
   "metadata": {},
   "outputs": [
    {
     "name": "stdout",
     "output_type": "stream",
     "text": [
      "<class 'pandas.core.frame.DataFrame'>\n",
      "RangeIndex: 1680 entries, 0 to 1679\n",
      "Data columns (total 3 columns):\n",
      " #   Column              Non-Null Count  Dtype \n",
      "---  ------              --------------  ----- \n",
      " 0   REGIONID            1680 non-null   object\n",
      " 1   INTERVAL_DATETIME   1680 non-null   object\n",
      " 2   OPERATIONAL_DEMAND  1680 non-null   int64 \n",
      "dtypes: int64(1), object(2)\n",
      "memory usage: 39.5+ KB\n"
     ]
    }
   ],
   "source": [
    "# Inspect dataframe variables\n",
    "df.info()"
   ]
  },
  {
   "cell_type": "code",
   "execution_count": 3,
   "metadata": {},
   "outputs": [
    {
     "data": {
      "text/html": [
       "<div>\n",
       "<style scoped>\n",
       "    .dataframe tbody tr th:only-of-type {\n",
       "        vertical-align: middle;\n",
       "    }\n",
       "\n",
       "    .dataframe tbody tr th {\n",
       "        vertical-align: top;\n",
       "    }\n",
       "\n",
       "    .dataframe thead th {\n",
       "        text-align: right;\n",
       "    }\n",
       "</style>\n",
       "<table border=\"1\" class=\"dataframe\">\n",
       "  <thead>\n",
       "    <tr style=\"text-align: right;\">\n",
       "      <th></th>\n",
       "      <th>region</th>\n",
       "      <th>datetime</th>\n",
       "      <th>demand</th>\n",
       "    </tr>\n",
       "  </thead>\n",
       "  <tbody>\n",
       "    <tr>\n",
       "      <th>0</th>\n",
       "      <td>NSW1</td>\n",
       "      <td>2022/09/18 00:00:00</td>\n",
       "      <td>7568</td>\n",
       "    </tr>\n",
       "    <tr>\n",
       "      <th>1</th>\n",
       "      <td>QLD1</td>\n",
       "      <td>2022/09/18 00:00:00</td>\n",
       "      <td>5575</td>\n",
       "    </tr>\n",
       "    <tr>\n",
       "      <th>2</th>\n",
       "      <td>SA1</td>\n",
       "      <td>2022/09/18 00:00:00</td>\n",
       "      <td>1578</td>\n",
       "    </tr>\n",
       "    <tr>\n",
       "      <th>3</th>\n",
       "      <td>TAS1</td>\n",
       "      <td>2022/09/18 00:00:00</td>\n",
       "      <td>1071</td>\n",
       "    </tr>\n",
       "    <tr>\n",
       "      <th>4</th>\n",
       "      <td>VIC1</td>\n",
       "      <td>2022/09/18 00:00:00</td>\n",
       "      <td>5349</td>\n",
       "    </tr>\n",
       "    <tr>\n",
       "      <th>5</th>\n",
       "      <td>NSW1</td>\n",
       "      <td>2022/09/18 00:30:00</td>\n",
       "      <td>7356</td>\n",
       "    </tr>\n",
       "    <tr>\n",
       "      <th>6</th>\n",
       "      <td>QLD1</td>\n",
       "      <td>2022/09/18 00:30:00</td>\n",
       "      <td>5399</td>\n",
       "    </tr>\n",
       "    <tr>\n",
       "      <th>7</th>\n",
       "      <td>SA1</td>\n",
       "      <td>2022/09/18 00:30:00</td>\n",
       "      <td>1551</td>\n",
       "    </tr>\n",
       "    <tr>\n",
       "      <th>8</th>\n",
       "      <td>TAS1</td>\n",
       "      <td>2022/09/18 00:30:00</td>\n",
       "      <td>1058</td>\n",
       "    </tr>\n",
       "    <tr>\n",
       "      <th>9</th>\n",
       "      <td>VIC1</td>\n",
       "      <td>2022/09/18 00:30:00</td>\n",
       "      <td>5172</td>\n",
       "    </tr>\n",
       "  </tbody>\n",
       "</table>\n",
       "</div>"
      ],
      "text/plain": [
       "  region             datetime  demand\n",
       "0   NSW1  2022/09/18 00:00:00    7568\n",
       "1   QLD1  2022/09/18 00:00:00    5575\n",
       "2    SA1  2022/09/18 00:00:00    1578\n",
       "3   TAS1  2022/09/18 00:00:00    1071\n",
       "4   VIC1  2022/09/18 00:00:00    5349\n",
       "5   NSW1  2022/09/18 00:30:00    7356\n",
       "6   QLD1  2022/09/18 00:30:00    5399\n",
       "7    SA1  2022/09/18 00:30:00    1551\n",
       "8   TAS1  2022/09/18 00:30:00    1058\n",
       "9   VIC1  2022/09/18 00:30:00    5172"
      ]
     },
     "execution_count": 3,
     "metadata": {},
     "output_type": "execute_result"
    }
   ],
   "source": [
    "# Rename variables in dataframe\n",
    "df.rename(columns = {'REGIONID':'region', \n",
    "                     'INTERVAL_DATETIME':'datetime', \n",
    "                     'OPERATIONAL_DEMAND':'demand'}, \n",
    "          inplace = True)\n",
    "df.head(10)"
   ]
  },
  {
   "cell_type": "markdown",
   "metadata": {},
   "source": [
    "To create line plots, the dataframe needs to be shaped in a way where successive rows in a single column represent a single series (a single variable across time).\n",
    "\n",
    "Currently <code>df</code> is not suitable because every row represents a different region. \n",
    "\n",
    "There are several ways to create a new dataframe that is suitable for line plots."
   ]
  },
  {
   "cell_type": "code",
   "execution_count": 4,
   "metadata": {},
   "outputs": [
    {
     "data": {
      "text/html": [
       "<div>\n",
       "<style scoped>\n",
       "    .dataframe tbody tr th:only-of-type {\n",
       "        vertical-align: middle;\n",
       "    }\n",
       "\n",
       "    .dataframe tbody tr th {\n",
       "        vertical-align: top;\n",
       "    }\n",
       "\n",
       "    .dataframe thead th {\n",
       "        text-align: right;\n",
       "    }\n",
       "</style>\n",
       "<table border=\"1\" class=\"dataframe\">\n",
       "  <thead>\n",
       "    <tr style=\"text-align: right;\">\n",
       "      <th></th>\n",
       "      <th>datetime</th>\n",
       "      <th>nsw</th>\n",
       "      <th>qld</th>\n",
       "      <th>sa</th>\n",
       "      <th>tas</th>\n",
       "      <th>vic</th>\n",
       "    </tr>\n",
       "  </thead>\n",
       "  <tbody>\n",
       "    <tr>\n",
       "      <th>0</th>\n",
       "      <td>2022/09/18 00:00:00</td>\n",
       "      <td>7568</td>\n",
       "      <td>5575</td>\n",
       "      <td>1578</td>\n",
       "      <td>1071</td>\n",
       "      <td>5349</td>\n",
       "    </tr>\n",
       "    <tr>\n",
       "      <th>1</th>\n",
       "      <td>2022/09/18 00:30:00</td>\n",
       "      <td>7356</td>\n",
       "      <td>5399</td>\n",
       "      <td>1551</td>\n",
       "      <td>1058</td>\n",
       "      <td>5172</td>\n",
       "    </tr>\n",
       "    <tr>\n",
       "      <th>2</th>\n",
       "      <td>2022/09/18 01:00:00</td>\n",
       "      <td>7167</td>\n",
       "      <td>5269</td>\n",
       "      <td>1551</td>\n",
       "      <td>1042</td>\n",
       "      <td>4968</td>\n",
       "    </tr>\n",
       "    <tr>\n",
       "      <th>3</th>\n",
       "      <td>2022/09/18 01:30:00</td>\n",
       "      <td>6986</td>\n",
       "      <td>5187</td>\n",
       "      <td>1503</td>\n",
       "      <td>1034</td>\n",
       "      <td>4831</td>\n",
       "    </tr>\n",
       "    <tr>\n",
       "      <th>4</th>\n",
       "      <td>2022/09/18 02:00:00</td>\n",
       "      <td>6774</td>\n",
       "      <td>5106</td>\n",
       "      <td>1462</td>\n",
       "      <td>1028</td>\n",
       "      <td>4623</td>\n",
       "    </tr>\n",
       "    <tr>\n",
       "      <th>...</th>\n",
       "      <td>...</td>\n",
       "      <td>...</td>\n",
       "      <td>...</td>\n",
       "      <td>...</td>\n",
       "      <td>...</td>\n",
       "      <td>...</td>\n",
       "    </tr>\n",
       "    <tr>\n",
       "      <th>331</th>\n",
       "      <td>2022/09/24 21:30:00</td>\n",
       "      <td>7939</td>\n",
       "      <td>6173</td>\n",
       "      <td>1624</td>\n",
       "      <td>1308</td>\n",
       "      <td>5450</td>\n",
       "    </tr>\n",
       "    <tr>\n",
       "      <th>332</th>\n",
       "      <td>2022/09/24 22:00:00</td>\n",
       "      <td>7824</td>\n",
       "      <td>6034</td>\n",
       "      <td>1594</td>\n",
       "      <td>1278</td>\n",
       "      <td>5326</td>\n",
       "    </tr>\n",
       "    <tr>\n",
       "      <th>333</th>\n",
       "      <td>2022/09/24 22:30:00</td>\n",
       "      <td>7798</td>\n",
       "      <td>5911</td>\n",
       "      <td>1553</td>\n",
       "      <td>1248</td>\n",
       "      <td>5220</td>\n",
       "    </tr>\n",
       "    <tr>\n",
       "      <th>334</th>\n",
       "      <td>2022/09/24 23:00:00</td>\n",
       "      <td>7667</td>\n",
       "      <td>5764</td>\n",
       "      <td>1478</td>\n",
       "      <td>1212</td>\n",
       "      <td>5083</td>\n",
       "    </tr>\n",
       "    <tr>\n",
       "      <th>335</th>\n",
       "      <td>2022/09/24 23:30:00</td>\n",
       "      <td>7561</td>\n",
       "      <td>5694</td>\n",
       "      <td>1428</td>\n",
       "      <td>1184</td>\n",
       "      <td>5137</td>\n",
       "    </tr>\n",
       "  </tbody>\n",
       "</table>\n",
       "<p>336 rows × 6 columns</p>\n",
       "</div>"
      ],
      "text/plain": [
       "                datetime   nsw   qld    sa   tas   vic\n",
       "0    2022/09/18 00:00:00  7568  5575  1578  1071  5349\n",
       "1    2022/09/18 00:30:00  7356  5399  1551  1058  5172\n",
       "2    2022/09/18 01:00:00  7167  5269  1551  1042  4968\n",
       "3    2022/09/18 01:30:00  6986  5187  1503  1034  4831\n",
       "4    2022/09/18 02:00:00  6774  5106  1462  1028  4623\n",
       "..                   ...   ...   ...   ...   ...   ...\n",
       "331  2022/09/24 21:30:00  7939  6173  1624  1308  5450\n",
       "332  2022/09/24 22:00:00  7824  6034  1594  1278  5326\n",
       "333  2022/09/24 22:30:00  7798  5911  1553  1248  5220\n",
       "334  2022/09/24 23:00:00  7667  5764  1478  1212  5083\n",
       "335  2022/09/24 23:30:00  7561  5694  1428  1184  5137\n",
       "\n",
       "[336 rows x 6 columns]"
      ]
     },
     "execution_count": 4,
     "metadata": {},
     "output_type": "execute_result"
    }
   ],
   "source": [
    "# Option 1 (for illustration only for now): pivoting entire dataframe into separate time series first,\n",
    "# then select two columns, 'datetime' and another region to form a new dataframe for line plots\n",
    "# refer to data munging functions in Lecture 2. we will apply this transformation in Task 3.2\n",
    "df.\\\n",
    "    pivot(columns='region', index='datetime', values='demand').\\\n",
    "    reset_index().\\\n",
    "    rename_axis(None, axis=1).\\\n",
    "    rename(columns={'NSW1':'nsw', 'QLD1':'qld', 'SA1':'sa', 'TAS1':'tas', 'VIC1':'vic'})"
   ]
  },
  {
   "cell_type": "code",
   "execution_count": 5,
   "metadata": {},
   "outputs": [
    {
     "data": {
      "text/html": [
       "<div>\n",
       "<style scoped>\n",
       "    .dataframe tbody tr th:only-of-type {\n",
       "        vertical-align: middle;\n",
       "    }\n",
       "\n",
       "    .dataframe tbody tr th {\n",
       "        vertical-align: top;\n",
       "    }\n",
       "\n",
       "    .dataframe thead th {\n",
       "        text-align: right;\n",
       "    }\n",
       "</style>\n",
       "<table border=\"1\" class=\"dataframe\">\n",
       "  <thead>\n",
       "    <tr style=\"text-align: right;\">\n",
       "      <th></th>\n",
       "      <th>region</th>\n",
       "      <th>datetime</th>\n",
       "      <th>demand</th>\n",
       "    </tr>\n",
       "  </thead>\n",
       "  <tbody>\n",
       "    <tr>\n",
       "      <th>0</th>\n",
       "      <td>NSW1</td>\n",
       "      <td>2022/09/18 00:00:00</td>\n",
       "      <td>7568</td>\n",
       "    </tr>\n",
       "    <tr>\n",
       "      <th>5</th>\n",
       "      <td>NSW1</td>\n",
       "      <td>2022/09/18 00:30:00</td>\n",
       "      <td>7356</td>\n",
       "    </tr>\n",
       "    <tr>\n",
       "      <th>10</th>\n",
       "      <td>NSW1</td>\n",
       "      <td>2022/09/18 01:00:00</td>\n",
       "      <td>7167</td>\n",
       "    </tr>\n",
       "    <tr>\n",
       "      <th>15</th>\n",
       "      <td>NSW1</td>\n",
       "      <td>2022/09/18 01:30:00</td>\n",
       "      <td>6986</td>\n",
       "    </tr>\n",
       "    <tr>\n",
       "      <th>20</th>\n",
       "      <td>NSW1</td>\n",
       "      <td>2022/09/18 02:00:00</td>\n",
       "      <td>6774</td>\n",
       "    </tr>\n",
       "    <tr>\n",
       "      <th>25</th>\n",
       "      <td>NSW1</td>\n",
       "      <td>2022/09/18 02:30:00</td>\n",
       "      <td>6571</td>\n",
       "    </tr>\n",
       "    <tr>\n",
       "      <th>30</th>\n",
       "      <td>NSW1</td>\n",
       "      <td>2022/09/18 03:00:00</td>\n",
       "      <td>6420</td>\n",
       "    </tr>\n",
       "    <tr>\n",
       "      <th>35</th>\n",
       "      <td>NSW1</td>\n",
       "      <td>2022/09/18 03:30:00</td>\n",
       "      <td>6272</td>\n",
       "    </tr>\n",
       "    <tr>\n",
       "      <th>40</th>\n",
       "      <td>NSW1</td>\n",
       "      <td>2022/09/18 04:00:00</td>\n",
       "      <td>6232</td>\n",
       "    </tr>\n",
       "    <tr>\n",
       "      <th>45</th>\n",
       "      <td>NSW1</td>\n",
       "      <td>2022/09/18 04:30:00</td>\n",
       "      <td>6252</td>\n",
       "    </tr>\n",
       "  </tbody>\n",
       "</table>\n",
       "</div>"
      ],
      "text/plain": [
       "   region             datetime  demand\n",
       "0    NSW1  2022/09/18 00:00:00    7568\n",
       "5    NSW1  2022/09/18 00:30:00    7356\n",
       "10   NSW1  2022/09/18 01:00:00    7167\n",
       "15   NSW1  2022/09/18 01:30:00    6986\n",
       "20   NSW1  2022/09/18 02:00:00    6774\n",
       "25   NSW1  2022/09/18 02:30:00    6571\n",
       "30   NSW1  2022/09/18 03:00:00    6420\n",
       "35   NSW1  2022/09/18 03:30:00    6272\n",
       "40   NSW1  2022/09/18 04:00:00    6232\n",
       "45   NSW1  2022/09/18 04:30:00    6252"
      ]
     },
     "execution_count": 5,
     "metadata": {},
     "output_type": "execute_result"
    }
   ],
   "source": [
    "# Option 2: Filter on 'region' to focus on NSW only\n",
    "# this results in a dataframe with 3 variables. 'region' is redundant and not necessary for line plots\n",
    "df = df[df['region']=='NSW1']\n",
    "df.head(10)"
   ]
  },
  {
   "cell_type": "markdown",
   "metadata": {},
   "source": [
    "We can quickly use <code>seaborn</code>'s <code>lineplot</code> to draw time series. Let us try it first. Clearly we will use <code>datetime</code> for the  x-axis and <code>demand</code> for the y-axis. "
   ]
  },
  {
   "cell_type": "code",
   "execution_count": 6,
   "metadata": {},
   "outputs": [
    {
     "data": {
      "text/plain": [
       "<AxesSubplot:xlabel='datetime', ylabel='demand'>"
      ]
     },
     "execution_count": 6,
     "metadata": {},
     "output_type": "execute_result"
    },
    {
     "data": {
      "image/png": "[encoded data removed]",
      "text/plain": [
       "<Figure size 1080x576 with 1 Axes>"
      ]
     },
     "metadata": {
      "needs_background": "light"
     },
     "output_type": "display_data"
    }
   ],
   "source": [
    "plt.figure(figsize = (15, 8))\n",
    "sns.lineplot(x = 'datetime', y = 'demand', data = df)"
   ]
  },
  {
   "cell_type": "markdown",
   "metadata": {},
   "source": [
    "> Ask yourself: \n",
    "> 1. What do you notice in the plot above? \n",
    "> 2. How would you change the plot?"
   ]
  },
  {
   "cell_type": "markdown",
   "metadata": {},
   "source": [
    "## Task 2: Dealing with datetime data type to explore time series characteristics\n",
    "\n",
    "From the above plot, we have seen that it is hard to see the details of date. All the xticks labels are cluttered because the date string are too long and too many.  How could we improve this?\n",
    "\n",
    "Basically <code>seaborn</code> has clever ways to selectly show x-axis tick labels. As the date information are text <code>string</code>, it is hard for <code>seaborn</code> to decide which labels (dates) should be drawn which should be discarded.  When x-axis is presented as numerical values, <code>seaborn</code> knows how to deal with. \n",
    "\n",
    "Clearly we know the information in <code>datetime</code> is time (dates), so we shall let <code>seaborn</code> know of this. <code>seaborn</code> knows how to deal with time.  This comes to the following code to convert text dates into actual time, which is called <code>datetime</code> object.\n",
    "\n",
    "Notice that currently the 'datetime' variable is an object data type because to <code>pandas</code>, this variable contains only strings (or text)."
   ]
  },
  {
   "cell_type": "code",
   "execution_count": 7,
   "metadata": {},
   "outputs": [
    {
     "data": {
      "text/plain": [
       "0     2022/09/18 00:00:00\n",
       "5     2022/09/18 00:30:00\n",
       "10    2022/09/18 01:00:00\n",
       "Name: datetime, dtype: object"
      ]
     },
     "execution_count": 7,
     "metadata": {},
     "output_type": "execute_result"
    }
   ],
   "source": [
    "# Currently 'datetime' is an object with YYYY/MM/DD format and '/' separators\n",
    "df[\"datetime\"].head(3)"
   ]
  },
  {
   "cell_type": "markdown",
   "metadata": {},
   "source": [
    "To change 'datetime' variable into a datetime object, we apply the following transformation. Note that from the print out above, we know the text date is in the form of like 2020/01/25, so use the format argument to tell <code>pandas</code> how to explain the text date."
   ]
  },
  {
   "cell_type": "code",
   "execution_count": 8,
   "metadata": {
    "scrolled": true
   },
   "outputs": [
    {
     "name": "stderr",
     "output_type": "stream",
     "text": [
      "<ipython-input-8-b65ee25ba01c>:2: SettingWithCopyWarning: \n",
      "A value is trying to be set on a copy of a slice from a DataFrame.\n",
      "Try using .loc[row_indexer,col_indexer] = value instead\n",
      "\n",
      "See the caveats in the documentation: https://pandas.pydata.org/pandas-docs/stable/user_guide/indexing.html#returning-a-view-versus-a-copy\n",
      "  df[\"datetime\"] = pd.to_datetime(df[\"datetime\"], format = \"%Y-%m-%d\")\n"
     ]
    },
    {
     "data": {
      "text/plain": [
       "0    2022-09-18 00:00:00\n",
       "5    2022-09-18 00:30:00\n",
       "10   2022-09-18 01:00:00\n",
       "Name: datetime, dtype: datetime64[ns]"
      ]
     },
     "execution_count": 8,
     "metadata": {},
     "output_type": "execute_result"
    }
   ],
   "source": [
    "# Now 'datetime' is a datetime object with YYYY-MM-DD format and '-' separators\n",
    "df[\"datetime\"] = pd.to_datetime(df[\"datetime\"], format = \"%Y-%m-%d\")\n",
    "df[\"datetime\"].head(3)"
   ]
  },
  {
   "cell_type": "code",
   "execution_count": 9,
   "metadata": {},
   "outputs": [
    {
     "name": "stdout",
     "output_type": "stream",
     "text": [
      "<class 'pandas.core.frame.DataFrame'>\n",
      "Int64Index: 336 entries, 0 to 1675\n",
      "Data columns (total 3 columns):\n",
      " #   Column    Non-Null Count  Dtype         \n",
      "---  ------    --------------  -----         \n",
      " 0   region    336 non-null    object        \n",
      " 1   datetime  336 non-null    datetime64[ns]\n",
      " 2   demand    336 non-null    int64         \n",
      "dtypes: datetime64[ns](1), int64(1), object(1)\n",
      "memory usage: 10.5+ KB\n"
     ]
    }
   ],
   "source": [
    "# Notice how 'datetime' is no longer an object, but a datetime64 data type\n",
    "df.info()"
   ]
  },
  {
   "cell_type": "code",
   "execution_count": 10,
   "metadata": {
    "scrolled": false
   },
   "outputs": [
    {
     "data": {
      "text/plain": [
       "<AxesSubplot:xlabel='datetime', ylabel='demand'>"
      ]
     },
     "execution_count": 10,
     "metadata": {},
     "output_type": "execute_result"
    },
    {
     "data": {
      "image/png": "[encoded data removed]",
      "text/plain": [
       "<Figure size 1080x576 with 1 Axes>"
      ]
     },
     "metadata": {
      "needs_background": "light"
     },
     "output_type": "display_data"
    }
   ],
   "source": [
    "# Applying the same codes from above to create a line plot\n",
    "plt.figure(figsize = (15, 8))\n",
    "sns.lineplot(x = 'datetime', y = 'demand', data = df)"
   ]
  },
  {
   "cell_type": "markdown",
   "metadata": {},
   "source": [
    "This is much much better, we can see the x-axis values as YYYY-MM-DD in better time intervals. "
   ]
  },
  {
   "cell_type": "markdown",
   "metadata": {},
   "source": [
    "> Ask yourself: \n",
    "> 1. What characteristics (trends, cycles, seasonality) do you notice in the time series above?\n",
    "> 2. How do the characteristics change over time?"
   ]
  },
  {
   "cell_type": "markdown",
   "metadata": {},
   "source": [
    "Given that <code>datetime</code> is in datetime, we can now manipulate our dataframe by:\n",
    "1. Focussing on specific time periods of interest,\n",
    "2. Summarizing and performing calculations over groups of time period."
   ]
  },
  {
   "cell_type": "markdown",
   "metadata": {},
   "source": [
    "## Task 3: Further transformations on time series data\n",
    "\n",
    "Generally speaking, when we are provided with time series data, it is important to focus on specific time periods (for example, if you are provided with 10 years of financial data you would only need recent 1-2 years of data to perform meaningful forecasting), and to summarize data over time (for example, in the case of more detailed, semi-hourly <code>electricity</code> dataset, it may be more meaningful to report summary statistics at less detailed, daily level).\n",
    "\n",
    "### Task 3.1. Focussing on specific time periods of interest"
   ]
  },
  {
   "cell_type": "markdown",
   "metadata": {},
   "source": [
    "**Example 3.1.** How does the demand for electricity in NSW look like before 2022-09-18 05:00?"
   ]
  },
  {
   "cell_type": "code",
   "execution_count": 11,
   "metadata": {},
   "outputs": [
    {
     "data": {
      "text/html": [
       "<div>\n",
       "<style scoped>\n",
       "    .dataframe tbody tr th:only-of-type {\n",
       "        vertical-align: middle;\n",
       "    }\n",
       "\n",
       "    .dataframe tbody tr th {\n",
       "        vertical-align: top;\n",
       "    }\n",
       "\n",
       "    .dataframe thead th {\n",
       "        text-align: right;\n",
       "    }\n",
       "</style>\n",
       "<table border=\"1\" class=\"dataframe\">\n",
       "  <thead>\n",
       "    <tr style=\"text-align: right;\">\n",
       "      <th></th>\n",
       "      <th>region</th>\n",
       "      <th>datetime</th>\n",
       "      <th>demand</th>\n",
       "    </tr>\n",
       "  </thead>\n",
       "  <tbody>\n",
       "    <tr>\n",
       "      <th>0</th>\n",
       "      <td>NSW1</td>\n",
       "      <td>2022-09-18 00:00:00</td>\n",
       "      <td>7568</td>\n",
       "    </tr>\n",
       "    <tr>\n",
       "      <th>5</th>\n",
       "      <td>NSW1</td>\n",
       "      <td>2022-09-18 00:30:00</td>\n",
       "      <td>7356</td>\n",
       "    </tr>\n",
       "    <tr>\n",
       "      <th>10</th>\n",
       "      <td>NSW1</td>\n",
       "      <td>2022-09-18 01:00:00</td>\n",
       "      <td>7167</td>\n",
       "    </tr>\n",
       "    <tr>\n",
       "      <th>15</th>\n",
       "      <td>NSW1</td>\n",
       "      <td>2022-09-18 01:30:00</td>\n",
       "      <td>6986</td>\n",
       "    </tr>\n",
       "    <tr>\n",
       "      <th>20</th>\n",
       "      <td>NSW1</td>\n",
       "      <td>2022-09-18 02:00:00</td>\n",
       "      <td>6774</td>\n",
       "    </tr>\n",
       "    <tr>\n",
       "      <th>25</th>\n",
       "      <td>NSW1</td>\n",
       "      <td>2022-09-18 02:30:00</td>\n",
       "      <td>6571</td>\n",
       "    </tr>\n",
       "    <tr>\n",
       "      <th>30</th>\n",
       "      <td>NSW1</td>\n",
       "      <td>2022-09-18 03:00:00</td>\n",
       "      <td>6420</td>\n",
       "    </tr>\n",
       "    <tr>\n",
       "      <th>35</th>\n",
       "      <td>NSW1</td>\n",
       "      <td>2022-09-18 03:30:00</td>\n",
       "      <td>6272</td>\n",
       "    </tr>\n",
       "    <tr>\n",
       "      <th>40</th>\n",
       "      <td>NSW1</td>\n",
       "      <td>2022-09-18 04:00:00</td>\n",
       "      <td>6232</td>\n",
       "    </tr>\n",
       "    <tr>\n",
       "      <th>45</th>\n",
       "      <td>NSW1</td>\n",
       "      <td>2022-09-18 04:30:00</td>\n",
       "      <td>6252</td>\n",
       "    </tr>\n",
       "  </tbody>\n",
       "</table>\n",
       "</div>"
      ],
      "text/plain": [
       "   region            datetime  demand\n",
       "0    NSW1 2022-09-18 00:00:00    7568\n",
       "5    NSW1 2022-09-18 00:30:00    7356\n",
       "10   NSW1 2022-09-18 01:00:00    7167\n",
       "15   NSW1 2022-09-18 01:30:00    6986\n",
       "20   NSW1 2022-09-18 02:00:00    6774\n",
       "25   NSW1 2022-09-18 02:30:00    6571\n",
       "30   NSW1 2022-09-18 03:00:00    6420\n",
       "35   NSW1 2022-09-18 03:30:00    6272\n",
       "40   NSW1 2022-09-18 04:00:00    6232\n",
       "45   NSW1 2022-09-18 04:30:00    6252"
      ]
     },
     "execution_count": 11,
     "metadata": {},
     "output_type": "execute_result"
    }
   ],
   "source": [
    "# Step 1: select time periods before a cut-off datetime into a new dataframe\n",
    "df1 = df[df['datetime'] < pd.Timestamp('2022-09-18 05:00')]\n",
    "df1"
   ]
  },
  {
   "cell_type": "code",
   "execution_count": 12,
   "metadata": {
    "scrolled": false
   },
   "outputs": [
    {
     "data": {
      "text/plain": [
       "<AxesSubplot:xlabel='datetime', ylabel='demand'>"
      ]
     },
     "execution_count": 12,
     "metadata": {},
     "output_type": "execute_result"
    },
    {
     "data": {
      "image/png": "[encoded data removed]",
      "text/plain": [
       "<Figure size 1080x576 with 1 Axes>"
      ]
     },
     "metadata": {
      "needs_background": "light"
     },
     "output_type": "display_data"
    }
   ],
   "source": [
    "# Step 2: create line plot based on new dataframe\n",
    "plt.figure(figsize = (15, 8))\n",
    "sns.lineplot(x = 'datetime', y = 'demand', data = df1)"
   ]
  },
  {
   "cell_type": "markdown",
   "metadata": {},
   "source": [
    "**Exercise 3.1.**  How does the demand for electricity in NSW look like after 2022-09-21 12:00?"
   ]
  },
  {
   "cell_type": "code",
   "execution_count": 13,
   "metadata": {},
   "outputs": [],
   "source": [
    "# Type your code here\n",
    "\n",
    "\n",
    "\n",
    "\n"
   ]
  },
  {
   "cell_type": "code",
   "execution_count": 14,
   "metadata": {},
   "outputs": [
    {
     "data": {
      "text/plain": [
       "<AxesSubplot:xlabel='datetime', ylabel='demand'>"
      ]
     },
     "execution_count": 14,
     "metadata": {},
     "output_type": "execute_result"
    },
    {
     "data": {
      "image/png": "[encoded data removed]",
      "text/plain": [
       "<Figure size 1080x576 with 1 Axes>"
      ]
     },
     "metadata": {
      "needs_background": "light"
     },
     "output_type": "display_data"
    }
   ],
   "source": [
    "# Solutions for Exercise 3.1.\n",
    "# Step 1: select time periods after a cut-off datetime into a new dataframe\n",
    "df2 = df[df['datetime'] > pd.Timestamp('2022-09-21 12:00')]\n",
    "\n",
    "# Step 2: create line plot based on new dataframe\n",
    "plt.figure(figsize = (15, 8))\n",
    "sns.lineplot(x = 'datetime', y = 'demand', data = df2)"
   ]
  },
  {
   "cell_type": "markdown",
   "metadata": {},
   "source": [
    "### Task 3.2. Summarizing over groups of time period"
   ]
  },
  {
   "cell_type": "markdown",
   "metadata": {},
   "source": [
    "In this task, we will be structuring the original dataframe differently to perform calculations over time within the same region. For more information about reshaping a dataframe: https://pandas.pydata.org/pandas-docs/stable/user_guide/reshaping.html. You may wish to refer to data munging functions from Lecture 2 too."
   ]
  },
  {
   "cell_type": "code",
   "execution_count": 15,
   "metadata": {},
   "outputs": [
    {
     "data": {
      "text/html": [
       "<div>\n",
       "<style scoped>\n",
       "    .dataframe tbody tr th:only-of-type {\n",
       "        vertical-align: middle;\n",
       "    }\n",
       "\n",
       "    .dataframe tbody tr th {\n",
       "        vertical-align: top;\n",
       "    }\n",
       "\n",
       "    .dataframe thead th {\n",
       "        text-align: right;\n",
       "    }\n",
       "</style>\n",
       "<table border=\"1\" class=\"dataframe\">\n",
       "  <thead>\n",
       "    <tr style=\"text-align: right;\">\n",
       "      <th></th>\n",
       "      <th>datetime</th>\n",
       "      <th>nsw</th>\n",
       "      <th>qld</th>\n",
       "      <th>sa</th>\n",
       "      <th>tas</th>\n",
       "      <th>vic</th>\n",
       "    </tr>\n",
       "  </thead>\n",
       "  <tbody>\n",
       "    <tr>\n",
       "      <th>0</th>\n",
       "      <td>2022-09-18 00:00:00</td>\n",
       "      <td>7568</td>\n",
       "      <td>5575</td>\n",
       "      <td>1578</td>\n",
       "      <td>1071</td>\n",
       "      <td>5349</td>\n",
       "    </tr>\n",
       "    <tr>\n",
       "      <th>1</th>\n",
       "      <td>2022-09-18 00:30:00</td>\n",
       "      <td>7356</td>\n",
       "      <td>5399</td>\n",
       "      <td>1551</td>\n",
       "      <td>1058</td>\n",
       "      <td>5172</td>\n",
       "    </tr>\n",
       "    <tr>\n",
       "      <th>2</th>\n",
       "      <td>2022-09-18 01:00:00</td>\n",
       "      <td>7167</td>\n",
       "      <td>5269</td>\n",
       "      <td>1551</td>\n",
       "      <td>1042</td>\n",
       "      <td>4968</td>\n",
       "    </tr>\n",
       "    <tr>\n",
       "      <th>3</th>\n",
       "      <td>2022-09-18 01:30:00</td>\n",
       "      <td>6986</td>\n",
       "      <td>5187</td>\n",
       "      <td>1503</td>\n",
       "      <td>1034</td>\n",
       "      <td>4831</td>\n",
       "    </tr>\n",
       "    <tr>\n",
       "      <th>4</th>\n",
       "      <td>2022-09-18 02:00:00</td>\n",
       "      <td>6774</td>\n",
       "      <td>5106</td>\n",
       "      <td>1462</td>\n",
       "      <td>1028</td>\n",
       "      <td>4623</td>\n",
       "    </tr>\n",
       "    <tr>\n",
       "      <th>5</th>\n",
       "      <td>2022-09-18 02:30:00</td>\n",
       "      <td>6571</td>\n",
       "      <td>5055</td>\n",
       "      <td>1386</td>\n",
       "      <td>1024</td>\n",
       "      <td>4475</td>\n",
       "    </tr>\n",
       "    <tr>\n",
       "      <th>6</th>\n",
       "      <td>2022-09-18 03:00:00</td>\n",
       "      <td>6420</td>\n",
       "      <td>5042</td>\n",
       "      <td>1329</td>\n",
       "      <td>1034</td>\n",
       "      <td>4381</td>\n",
       "    </tr>\n",
       "    <tr>\n",
       "      <th>7</th>\n",
       "      <td>2022-09-18 03:30:00</td>\n",
       "      <td>6272</td>\n",
       "      <td>5010</td>\n",
       "      <td>1294</td>\n",
       "      <td>1040</td>\n",
       "      <td>4296</td>\n",
       "    </tr>\n",
       "    <tr>\n",
       "      <th>8</th>\n",
       "      <td>2022-09-18 04:00:00</td>\n",
       "      <td>6232</td>\n",
       "      <td>5005</td>\n",
       "      <td>1265</td>\n",
       "      <td>1039</td>\n",
       "      <td>4255</td>\n",
       "    </tr>\n",
       "    <tr>\n",
       "      <th>9</th>\n",
       "      <td>2022-09-18 04:30:00</td>\n",
       "      <td>6252</td>\n",
       "      <td>5033</td>\n",
       "      <td>1235</td>\n",
       "      <td>1044</td>\n",
       "      <td>4241</td>\n",
       "    </tr>\n",
       "  </tbody>\n",
       "</table>\n",
       "</div>"
      ],
      "text/plain": [
       "             datetime   nsw   qld    sa   tas   vic\n",
       "0 2022-09-18 00:00:00  7568  5575  1578  1071  5349\n",
       "1 2022-09-18 00:30:00  7356  5399  1551  1058  5172\n",
       "2 2022-09-18 01:00:00  7167  5269  1551  1042  4968\n",
       "3 2022-09-18 01:30:00  6986  5187  1503  1034  4831\n",
       "4 2022-09-18 02:00:00  6774  5106  1462  1028  4623\n",
       "5 2022-09-18 02:30:00  6571  5055  1386  1024  4475\n",
       "6 2022-09-18 03:00:00  6420  5042  1329  1034  4381\n",
       "7 2022-09-18 03:30:00  6272  5010  1294  1040  4296\n",
       "8 2022-09-18 04:00:00  6232  5005  1265  1039  4255\n",
       "9 2022-09-18 04:30:00  6252  5033  1235  1044  4241"
      ]
     },
     "execution_count": 15,
     "metadata": {},
     "output_type": "execute_result"
    }
   ],
   "source": [
    "# Importing the data from scratch, reshaping the dataframe and applying datetime transformation\n",
    "df = pd.read_csv('electricity.csv') \n",
    "df = df.pivot(columns='REGIONID', index='INTERVAL_DATETIME', values='OPERATIONAL_DEMAND').\\\n",
    "    reset_index().\\\n",
    "    rename_axis(None, axis=1).\\\n",
    "    rename(columns={'INTERVAL_DATETIME':'datetime', 'NSW1':'nsw', 'QLD1':'qld', 'SA1':'sa', 'TAS1':'tas', 'VIC1':'vic'})\n",
    "df['datetime'] = pd.to_datetime(df[\"datetime\"], format = \"%Y-%m-%d\")\n",
    "df.head(10)"
   ]
  },
  {
   "cell_type": "code",
   "execution_count": 16,
   "metadata": {},
   "outputs": [
    {
     "data": {
      "text/plain": [
       "(336, 6)"
      ]
     },
     "execution_count": 16,
     "metadata": {},
     "output_type": "execute_result"
    }
   ],
   "source": [
    "# After reshaping the dataframe, the new dataframe has 336 rows (7 days x 48 observations per day) and 6 columns\n",
    "df.shape"
   ]
  },
  {
   "cell_type": "code",
   "execution_count": 17,
   "metadata": {},
   "outputs": [
    {
     "name": "stdout",
     "output_type": "stream",
     "text": [
      "<class 'pandas.core.frame.DataFrame'>\n",
      "RangeIndex: 336 entries, 0 to 335\n",
      "Data columns (total 6 columns):\n",
      " #   Column    Non-Null Count  Dtype         \n",
      "---  ------    --------------  -----         \n",
      " 0   datetime  336 non-null    datetime64[ns]\n",
      " 1   nsw       336 non-null    int64         \n",
      " 2   qld       336 non-null    int64         \n",
      " 3   sa        336 non-null    int64         \n",
      " 4   tas       336 non-null    int64         \n",
      " 5   vic       336 non-null    int64         \n",
      "dtypes: datetime64[ns](1), int64(5)\n",
      "memory usage: 15.9 KB\n"
     ]
    }
   ],
   "source": [
    "# Check the shape and dtype of the dataframe\n",
    "df.info()"
   ]
  },
  {
   "cell_type": "markdown",
   "metadata": {},
   "source": [
    "**Example 3.2.** For NSW and QLD, how does the hourly demand look like over time? Refer to: https://pandas.pydata.org/pandas-docs/stable/reference/api/pandas.Series.dt.to_period.html and https://pandas.pydata.org/pandas-docs/stable/user_guide/timeseries.html#timeseries-offset-aliases"
   ]
  },
  {
   "cell_type": "code",
   "execution_count": 18,
   "metadata": {},
   "outputs": [
    {
     "data": {
      "text/plain": [
       "0      2022-09-18 00:00\n",
       "1      2022-09-18 00:00\n",
       "2      2022-09-18 01:00\n",
       "3      2022-09-18 01:00\n",
       "4      2022-09-18 02:00\n",
       "             ...       \n",
       "331    2022-09-24 21:00\n",
       "332    2022-09-24 22:00\n",
       "333    2022-09-24 22:00\n",
       "334    2022-09-24 23:00\n",
       "335    2022-09-24 23:00\n",
       "Name: datetime, Length: 336, dtype: period[H]"
      ]
     },
     "execution_count": 18,
     "metadata": {},
     "output_type": "execute_result"
    }
   ],
   "source": [
    "# Step 1. establish time period of interest i.e. hourly, daily, weekly etc using .to_period() and the appropriate offset alias\n",
    "# note that 'datetime' variable is now period datatype, and is presented at hourly level\n",
    "# this step is optional if you are sure of the offset alias to use\n",
    "df[\"datetime\"].dt.to_period('H')"
   ]
  },
  {
   "cell_type": "code",
   "execution_count": 19,
   "metadata": {},
   "outputs": [
    {
     "data": {
      "text/html": [
       "<div>\n",
       "<style scoped>\n",
       "    .dataframe tbody tr th:only-of-type {\n",
       "        vertical-align: middle;\n",
       "    }\n",
       "\n",
       "    .dataframe tbody tr th {\n",
       "        vertical-align: top;\n",
       "    }\n",
       "\n",
       "    .dataframe thead th {\n",
       "        text-align: right;\n",
       "    }\n",
       "</style>\n",
       "<table border=\"1\" class=\"dataframe\">\n",
       "  <thead>\n",
       "    <tr style=\"text-align: right;\">\n",
       "      <th></th>\n",
       "      <th>datetime</th>\n",
       "      <th>nsw</th>\n",
       "      <th>qld</th>\n",
       "    </tr>\n",
       "  </thead>\n",
       "  <tbody>\n",
       "    <tr>\n",
       "      <th>0</th>\n",
       "      <td>2022-09-18 00:00:00</td>\n",
       "      <td>14924</td>\n",
       "      <td>10974</td>\n",
       "    </tr>\n",
       "    <tr>\n",
       "      <th>1</th>\n",
       "      <td>2022-09-18 01:00:00</td>\n",
       "      <td>14153</td>\n",
       "      <td>10456</td>\n",
       "    </tr>\n",
       "    <tr>\n",
       "      <th>2</th>\n",
       "      <td>2022-09-18 02:00:00</td>\n",
       "      <td>13345</td>\n",
       "      <td>10161</td>\n",
       "    </tr>\n",
       "    <tr>\n",
       "      <th>3</th>\n",
       "      <td>2022-09-18 03:00:00</td>\n",
       "      <td>12692</td>\n",
       "      <td>10052</td>\n",
       "    </tr>\n",
       "    <tr>\n",
       "      <th>4</th>\n",
       "      <td>2022-09-18 04:00:00</td>\n",
       "      <td>12484</td>\n",
       "      <td>10038</td>\n",
       "    </tr>\n",
       "    <tr>\n",
       "      <th>...</th>\n",
       "      <td>...</td>\n",
       "      <td>...</td>\n",
       "      <td>...</td>\n",
       "    </tr>\n",
       "    <tr>\n",
       "      <th>163</th>\n",
       "      <td>2022-09-24 19:00:00</td>\n",
       "      <td>16955</td>\n",
       "      <td>13213</td>\n",
       "    </tr>\n",
       "    <tr>\n",
       "      <th>164</th>\n",
       "      <td>2022-09-24 20:00:00</td>\n",
       "      <td>16421</td>\n",
       "      <td>12953</td>\n",
       "    </tr>\n",
       "    <tr>\n",
       "      <th>165</th>\n",
       "      <td>2022-09-24 21:00:00</td>\n",
       "      <td>16002</td>\n",
       "      <td>12500</td>\n",
       "    </tr>\n",
       "    <tr>\n",
       "      <th>166</th>\n",
       "      <td>2022-09-24 22:00:00</td>\n",
       "      <td>15622</td>\n",
       "      <td>11945</td>\n",
       "    </tr>\n",
       "    <tr>\n",
       "      <th>167</th>\n",
       "      <td>2022-09-24 23:00:00</td>\n",
       "      <td>15228</td>\n",
       "      <td>11458</td>\n",
       "    </tr>\n",
       "  </tbody>\n",
       "</table>\n",
       "<p>168 rows × 3 columns</p>\n",
       "</div>"
      ],
      "text/plain": [
       "               datetime    nsw    qld\n",
       "0   2022-09-18 00:00:00  14924  10974\n",
       "1   2022-09-18 01:00:00  14153  10456\n",
       "2   2022-09-18 02:00:00  13345  10161\n",
       "3   2022-09-18 03:00:00  12692  10052\n",
       "4   2022-09-18 04:00:00  12484  10038\n",
       "..                  ...    ...    ...\n",
       "163 2022-09-24 19:00:00  16955  13213\n",
       "164 2022-09-24 20:00:00  16421  12953\n",
       "165 2022-09-24 21:00:00  16002  12500\n",
       "166 2022-09-24 22:00:00  15622  11945\n",
       "167 2022-09-24 23:00:00  15228  11458\n",
       "\n",
       "[168 rows x 3 columns]"
      ]
     },
     "execution_count": 19,
     "metadata": {},
     "output_type": "execute_result"
    }
   ],
   "source": [
    "# Step 2. calculate hourly demand for selected regions using summary statistics across time period of interest\n",
    "# note that it is necessary to convert 'datetime' from period datatype to string and finally datetime datatype for plotting\n",
    "df3 = df[['nsw','qld']].groupby(df[\"datetime\"].dt.to_period('H')).sum().reset_index()\n",
    "df3['datetime'] = df3['datetime'].astype(str)\n",
    "df3['datetime'] = pd.to_datetime(df3['datetime'], format = \"%Y-%m-%d\")\n",
    "df3"
   ]
  },
  {
   "cell_type": "markdown",
   "metadata": {},
   "source": [
    "> Ask yourself:\n",
    "> 1. What do you notice about the shape of this dataframe, compared to the dataframe in Task 1?\n",
    "> 2. How would you ensure that the calculation is correct?"
   ]
  },
  {
   "cell_type": "code",
   "execution_count": 20,
   "metadata": {
    "scrolled": true
   },
   "outputs": [
    {
     "name": "stdout",
     "output_type": "stream",
     "text": [
      "<class 'pandas.core.frame.DataFrame'>\n",
      "RangeIndex: 168 entries, 0 to 167\n",
      "Data columns (total 3 columns):\n",
      " #   Column    Non-Null Count  Dtype         \n",
      "---  ------    --------------  -----         \n",
      " 0   datetime  168 non-null    datetime64[ns]\n",
      " 1   nsw       168 non-null    int64         \n",
      " 2   qld       168 non-null    int64         \n",
      "dtypes: datetime64[ns](1), int64(2)\n",
      "memory usage: 4.1 KB\n"
     ]
    }
   ],
   "source": [
    "# Quick check to ensure all dtypes are correct\n",
    "df3.info()"
   ]
  },
  {
   "cell_type": "code",
   "execution_count": 21,
   "metadata": {},
   "outputs": [
    {
     "data": {
      "text/plain": [
       "<matplotlib.legend.Legend at 0x7f2076b5c340>"
      ]
     },
     "execution_count": 21,
     "metadata": {},
     "output_type": "execute_result"
    },
    {
     "data": {
      "image/png": "[encoded data removed]",
      "text/plain": [
       "<Figure size 1080x576 with 1 Axes>"
      ]
     },
     "metadata": {
      "needs_background": "light"
     },
     "output_type": "display_data"
    }
   ],
   "source": [
    "# Step 3. create line plot based on aggregated dataframe\n",
    "# apply best practices in data visualization (setting meaningful axis labels, legends, and title)\n",
    "plt.figure(figsize = (15, 8))\n",
    "sns.lineplot(x = 'datetime', y = 'nsw', data = df3, color = 'b')\n",
    "sns.lineplot(x = 'datetime', y = 'qld', data = df3, color = 'g')\n",
    "plt.title('Hourly Total Demand for Electricity in NSW and QLD across 7 Days')\n",
    "plt.xlabel('Date')\n",
    "plt.ylabel('Demand for Electricity')\n",
    "plt.legend(labels=['NSW','QLD'], facecolor='white')"
   ]
  },
  {
   "cell_type": "markdown",
   "metadata": {},
   "source": [
    "> Ask yourself: What insights can you derive from this plot?"
   ]
  },
  {
   "cell_type": "markdown",
   "metadata": {},
   "source": [
    "**Exercise 3.2.** How does the daily average demand for electricity look like between 2022-09-20 and 2022-09-24 (inclusive) for SA, TAS and VIC?"
   ]
  },
  {
   "cell_type": "code",
   "execution_count": 22,
   "metadata": {},
   "outputs": [],
   "source": [
    "# Type your code here\n",
    "\n",
    "\n",
    "\n",
    "\n",
    "\n",
    "\n",
    "\n",
    "\n",
    "\n",
    "\n",
    "\n"
   ]
  },
  {
   "cell_type": "code",
   "execution_count": 23,
   "metadata": {},
   "outputs": [
    {
     "data": {
      "text/html": [
       "<div>\n",
       "<style scoped>\n",
       "    .dataframe tbody tr th:only-of-type {\n",
       "        vertical-align: middle;\n",
       "    }\n",
       "\n",
       "    .dataframe tbody tr th {\n",
       "        vertical-align: top;\n",
       "    }\n",
       "\n",
       "    .dataframe thead th {\n",
       "        text-align: right;\n",
       "    }\n",
       "</style>\n",
       "<table border=\"1\" class=\"dataframe\">\n",
       "  <thead>\n",
       "    <tr style=\"text-align: right;\">\n",
       "      <th></th>\n",
       "      <th>datetime</th>\n",
       "      <th>nsw</th>\n",
       "      <th>qld</th>\n",
       "      <th>sa</th>\n",
       "      <th>tas</th>\n",
       "      <th>vic</th>\n",
       "    </tr>\n",
       "  </thead>\n",
       "  <tbody>\n",
       "    <tr>\n",
       "      <th>0</th>\n",
       "      <td>2022-09-18 00:00:00</td>\n",
       "      <td>7568</td>\n",
       "      <td>5575</td>\n",
       "      <td>1578</td>\n",
       "      <td>1071</td>\n",
       "      <td>5349</td>\n",
       "    </tr>\n",
       "    <tr>\n",
       "      <th>1</th>\n",
       "      <td>2022-09-18 00:30:00</td>\n",
       "      <td>7356</td>\n",
       "      <td>5399</td>\n",
       "      <td>1551</td>\n",
       "      <td>1058</td>\n",
       "      <td>5172</td>\n",
       "    </tr>\n",
       "    <tr>\n",
       "      <th>2</th>\n",
       "      <td>2022-09-18 01:00:00</td>\n",
       "      <td>7167</td>\n",
       "      <td>5269</td>\n",
       "      <td>1551</td>\n",
       "      <td>1042</td>\n",
       "      <td>4968</td>\n",
       "    </tr>\n",
       "    <tr>\n",
       "      <th>3</th>\n",
       "      <td>2022-09-18 01:30:00</td>\n",
       "      <td>6986</td>\n",
       "      <td>5187</td>\n",
       "      <td>1503</td>\n",
       "      <td>1034</td>\n",
       "      <td>4831</td>\n",
       "    </tr>\n",
       "    <tr>\n",
       "      <th>4</th>\n",
       "      <td>2022-09-18 02:00:00</td>\n",
       "      <td>6774</td>\n",
       "      <td>5106</td>\n",
       "      <td>1462</td>\n",
       "      <td>1028</td>\n",
       "      <td>4623</td>\n",
       "    </tr>\n",
       "  </tbody>\n",
       "</table>\n",
       "</div>"
      ],
      "text/plain": [
       "             datetime   nsw   qld    sa   tas   vic\n",
       "0 2022-09-18 00:00:00  7568  5575  1578  1071  5349\n",
       "1 2022-09-18 00:30:00  7356  5399  1551  1058  5172\n",
       "2 2022-09-18 01:00:00  7167  5269  1551  1042  4968\n",
       "3 2022-09-18 01:30:00  6986  5187  1503  1034  4831\n",
       "4 2022-09-18 02:00:00  6774  5106  1462  1028  4623"
      ]
     },
     "execution_count": 23,
     "metadata": {},
     "output_type": "execute_result"
    }
   ],
   "source": [
    "# Quick reference back to dataframe at the beginning of Task 3.2.\n",
    "df.head()"
   ]
  },
  {
   "cell_type": "code",
   "execution_count": 24,
   "metadata": {},
   "outputs": [
    {
     "name": "stderr",
     "output_type": "stream",
     "text": [
      "<ipython-input-24-cef1e7f012c5>:3: UserWarning: Boolean Series key will be reindexed to match DataFrame index.\n",
      "  df4 = df[df['datetime']>='2022-09-20'][df['datetime']<'2022-09-25'][['datetime','sa', 'tas', 'vic']]\n"
     ]
    },
    {
     "data": {
      "text/html": [
       "<div>\n",
       "<style scoped>\n",
       "    .dataframe tbody tr th:only-of-type {\n",
       "        vertical-align: middle;\n",
       "    }\n",
       "\n",
       "    .dataframe tbody tr th {\n",
       "        vertical-align: top;\n",
       "    }\n",
       "\n",
       "    .dataframe thead th {\n",
       "        text-align: right;\n",
       "    }\n",
       "</style>\n",
       "<table border=\"1\" class=\"dataframe\">\n",
       "  <thead>\n",
       "    <tr style=\"text-align: right;\">\n",
       "      <th></th>\n",
       "      <th>datetime</th>\n",
       "      <th>sa</th>\n",
       "      <th>tas</th>\n",
       "      <th>vic</th>\n",
       "    </tr>\n",
       "  </thead>\n",
       "  <tbody>\n",
       "    <tr>\n",
       "      <th>96</th>\n",
       "      <td>2022-09-20 00:00:00</td>\n",
       "      <td>1567</td>\n",
       "      <td>1073</td>\n",
       "      <td>5421</td>\n",
       "    </tr>\n",
       "    <tr>\n",
       "      <th>97</th>\n",
       "      <td>2022-09-20 00:30:00</td>\n",
       "      <td>1549</td>\n",
       "      <td>1073</td>\n",
       "      <td>5186</td>\n",
       "    </tr>\n",
       "    <tr>\n",
       "      <th>98</th>\n",
       "      <td>2022-09-20 01:00:00</td>\n",
       "      <td>1559</td>\n",
       "      <td>1061</td>\n",
       "      <td>5015</td>\n",
       "    </tr>\n",
       "    <tr>\n",
       "      <th>99</th>\n",
       "      <td>2022-09-20 01:30:00</td>\n",
       "      <td>1525</td>\n",
       "      <td>1044</td>\n",
       "      <td>4878</td>\n",
       "    </tr>\n",
       "    <tr>\n",
       "      <th>100</th>\n",
       "      <td>2022-09-20 02:00:00</td>\n",
       "      <td>1463</td>\n",
       "      <td>1032</td>\n",
       "      <td>4733</td>\n",
       "    </tr>\n",
       "    <tr>\n",
       "      <th>...</th>\n",
       "      <td>...</td>\n",
       "      <td>...</td>\n",
       "      <td>...</td>\n",
       "      <td>...</td>\n",
       "    </tr>\n",
       "    <tr>\n",
       "      <th>331</th>\n",
       "      <td>2022-09-24 21:30:00</td>\n",
       "      <td>1624</td>\n",
       "      <td>1308</td>\n",
       "      <td>5450</td>\n",
       "    </tr>\n",
       "    <tr>\n",
       "      <th>332</th>\n",
       "      <td>2022-09-24 22:00:00</td>\n",
       "      <td>1594</td>\n",
       "      <td>1278</td>\n",
       "      <td>5326</td>\n",
       "    </tr>\n",
       "    <tr>\n",
       "      <th>333</th>\n",
       "      <td>2022-09-24 22:30:00</td>\n",
       "      <td>1553</td>\n",
       "      <td>1248</td>\n",
       "      <td>5220</td>\n",
       "    </tr>\n",
       "    <tr>\n",
       "      <th>334</th>\n",
       "      <td>2022-09-24 23:00:00</td>\n",
       "      <td>1478</td>\n",
       "      <td>1212</td>\n",
       "      <td>5083</td>\n",
       "    </tr>\n",
       "    <tr>\n",
       "      <th>335</th>\n",
       "      <td>2022-09-24 23:30:00</td>\n",
       "      <td>1428</td>\n",
       "      <td>1184</td>\n",
       "      <td>5137</td>\n",
       "    </tr>\n",
       "  </tbody>\n",
       "</table>\n",
       "<p>240 rows × 4 columns</p>\n",
       "</div>"
      ],
      "text/plain": [
       "               datetime    sa   tas   vic\n",
       "96  2022-09-20 00:00:00  1567  1073  5421\n",
       "97  2022-09-20 00:30:00  1549  1073  5186\n",
       "98  2022-09-20 01:00:00  1559  1061  5015\n",
       "99  2022-09-20 01:30:00  1525  1044  4878\n",
       "100 2022-09-20 02:00:00  1463  1032  4733\n",
       "..                  ...   ...   ...   ...\n",
       "331 2022-09-24 21:30:00  1624  1308  5450\n",
       "332 2022-09-24 22:00:00  1594  1278  5326\n",
       "333 2022-09-24 22:30:00  1553  1248  5220\n",
       "334 2022-09-24 23:00:00  1478  1212  5083\n",
       "335 2022-09-24 23:30:00  1428  1184  5137\n",
       "\n",
       "[240 rows x 4 columns]"
      ]
     },
     "execution_count": 24,
     "metadata": {},
     "output_type": "execute_result"
    }
   ],
   "source": [
    "# Solutions for Exercise 3.2.\n",
    "# Step 1: establish time period and region of interest\n",
    "df4 = df[df['datetime']>='2022-09-20'][df['datetime']<'2022-09-25'][['datetime','sa', 'tas', 'vic']]\n",
    "df4"
   ]
  },
  {
   "cell_type": "code",
   "execution_count": 25,
   "metadata": {},
   "outputs": [
    {
     "data": {
      "text/html": [
       "<div>\n",
       "<style scoped>\n",
       "    .dataframe tbody tr th:only-of-type {\n",
       "        vertical-align: middle;\n",
       "    }\n",
       "\n",
       "    .dataframe tbody tr th {\n",
       "        vertical-align: top;\n",
       "    }\n",
       "\n",
       "    .dataframe thead th {\n",
       "        text-align: right;\n",
       "    }\n",
       "</style>\n",
       "<table border=\"1\" class=\"dataframe\">\n",
       "  <thead>\n",
       "    <tr style=\"text-align: right;\">\n",
       "      <th></th>\n",
       "      <th>datetime</th>\n",
       "      <th>sa</th>\n",
       "      <th>tas</th>\n",
       "      <th>vic</th>\n",
       "    </tr>\n",
       "  </thead>\n",
       "  <tbody>\n",
       "    <tr>\n",
       "      <th>0</th>\n",
       "      <td>2022-09-20</td>\n",
       "      <td>1566.666667</td>\n",
       "      <td>1136.833333</td>\n",
       "      <td>4904.750000</td>\n",
       "    </tr>\n",
       "    <tr>\n",
       "      <th>1</th>\n",
       "      <td>2022-09-21</td>\n",
       "      <td>1469.916667</td>\n",
       "      <td>1062.145833</td>\n",
       "      <td>5124.020833</td>\n",
       "    </tr>\n",
       "    <tr>\n",
       "      <th>2</th>\n",
       "      <td>2022-09-22</td>\n",
       "      <td>1144.562500</td>\n",
       "      <td>954.520833</td>\n",
       "      <td>4213.375000</td>\n",
       "    </tr>\n",
       "    <tr>\n",
       "      <th>3</th>\n",
       "      <td>2022-09-23</td>\n",
       "      <td>1343.750000</td>\n",
       "      <td>1073.479167</td>\n",
       "      <td>4663.395833</td>\n",
       "    </tr>\n",
       "    <tr>\n",
       "      <th>4</th>\n",
       "      <td>2022-09-24</td>\n",
       "      <td>1072.916667</td>\n",
       "      <td>1227.000000</td>\n",
       "      <td>4248.520833</td>\n",
       "    </tr>\n",
       "  </tbody>\n",
       "</table>\n",
       "</div>"
      ],
      "text/plain": [
       "    datetime           sa          tas          vic\n",
       "0 2022-09-20  1566.666667  1136.833333  4904.750000\n",
       "1 2022-09-21  1469.916667  1062.145833  5124.020833\n",
       "2 2022-09-22  1144.562500   954.520833  4213.375000\n",
       "3 2022-09-23  1343.750000  1073.479167  4663.395833\n",
       "4 2022-09-24  1072.916667  1227.000000  4248.520833"
      ]
     },
     "execution_count": 25,
     "metadata": {},
     "output_type": "execute_result"
    }
   ],
   "source": [
    "# Step 2: calculate average demand for selected regions using summary statistics across time period of interest\n",
    "# note that it is necessary to convert 'datetime' from period datatype to string and finally datetime datatype for plotting\n",
    "df4 = df4.groupby(df4[\"datetime\"].dt.to_period('D')).mean().reset_index()\n",
    "df4['datetime'] = df4['datetime'].astype(str)\n",
    "df4['datetime'] = pd.to_datetime(df4['datetime'], format = \"%Y-%m-%d\")\n",
    "df4"
   ]
  },
  {
   "cell_type": "code",
   "execution_count": 26,
   "metadata": {
    "scrolled": false
   },
   "outputs": [
    {
     "data": {
      "text/plain": [
       "<matplotlib.legend.Legend at 0x7f20769622e0>"
      ]
     },
     "execution_count": 26,
     "metadata": {},
     "output_type": "execute_result"
    },
    {
     "data": {
      "image/png": "[encoded data removed]",
      "text/plain": [
       "<Figure size 1080x576 with 1 Axes>"
      ]
     },
     "metadata": {
      "needs_background": "light"
     },
     "output_type": "display_data"
    }
   ],
   "source": [
    "# Step 3. create a line plot based on aggregated dataframe\n",
    "# apply best practices in data visualization (setting meaningful axis labels, legends, and title)\n",
    "plt.figure(figsize = (15, 8))\n",
    "sns.lineplot(x = 'datetime', y = 'sa', data = df4, color = 'b')\n",
    "sns.lineplot(x = 'datetime', y = 'tas', data = df4, color = 'g')\n",
    "sns.lineplot(x = 'datetime', y = 'vic', data = df4, color = 'y')\n",
    "plt.title('Daily Average Demand for Electricity in SA, TAS and VIC across 5 Days')\n",
    "plt.xlabel('Date')\n",
    "plt.ylabel('Demand for Electricity')\n",
    "plt.legend(labels=['SA','TAS', 'VIC'], facecolor='white')"
   ]
  },
  {
   "cell_type": "markdown",
   "metadata": {},
   "source": [
    "> Ask yourself: What insights can you derive from this plot?"
   ]
  }
 ],
 "metadata": {
  "kernelspec": {
   "display_name": "Python 3",
   "language": "python",
   "name": "python3"
  },
  "language_info": {
   "codemirror_mode": {
    "name": "ipython",
    "version": 3
   },
   "file_extension": ".py",
   "mimetype": "text/x-python",
   "name": "python",
   "nbconvert_exporter": "python",
   "pygments_lexer": "ipython3",
   "version": "3.8.5"
  },
  "latex_envs": {
   "LaTeX_envs_menu_present": true,
   "autoclose": false,
   "autocomplete": true,
   "bibliofile": "biblio.bib",
   "cite_by": "apalike",
   "current_citInitial": 1,
   "eqLabelWithNumbers": true,
   "eqNumInitial": 1,
   "hotkeys": {
    "equation": "Ctrl-E",
    "itemize": "Ctrl-I"
   },
   "labels_anchors": false,
   "latex_user_defs": false,
   "report_style_numbering": false,
   "user_envs_cfg": false
  },
  "varInspector": {
   "cols": {
    "lenName": 16,
    "lenType": 16,
    "lenVar": 40
   },
   "kernels_config": {
    "python": {
     "delete_cmd_postfix": "",
     "delete_cmd_prefix": "del ",
     "library": "var_list.py",
     "varRefreshCmd": "print(var_dic_list())"
    },
    "r": {
     "delete_cmd_postfix": ") ",
     "delete_cmd_prefix": "rm(",
     "library": "var_list.r",
     "varRefreshCmd": "cat(var_dic_list()) "
    }
   },
   "types_to_exclude": [
    "module",
    "function",
    "builtin_function_or_method",
    "instance",
    "_Feature"
   ],
   "window_display": false
  }
 },
 "nbformat": 4,
 "nbformat_minor": 2
}
