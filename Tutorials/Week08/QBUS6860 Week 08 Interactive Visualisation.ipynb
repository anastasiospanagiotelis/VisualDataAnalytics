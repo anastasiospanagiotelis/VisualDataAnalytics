{
 "cells": [
  {
   "cell_type": "markdown",
   "metadata": {},
   "source": [
    "<center><h1>QBUS6860 - Visual Data Analytics</h1></center>"
   ]
  },
  {
   "cell_type": "markdown",
   "metadata": {},
   "source": [
    "# Tutorial 08 - Interactive visualizations and dashboards\n",
    "\n",
    "## Learning objectives and tasks:\n",
    "\n",
    "1. Produce a dynamic map to present historical land temperature\n",
    "2. Expand on an existing script of a dashboard created using <code>dash</code>\n",
    "3. Demonstration: Create a standalone interactive dashboard with <code>bokeh</code>"
   ]
  },
  {
   "cell_type": "code",
   "execution_count": 1,
   "metadata": {},
   "outputs": [],
   "source": [
    "import seaborn as sns\n",
    "import matplotlib.pyplot as plt\n",
    "import pandas as pd\n",
    "import plotly.express as px\n",
    "from dash import Dash, dcc, html, Input, Output"
   ]
  },
  {
   "cell_type": "markdown",
   "metadata": {},
   "source": [
    "## Task 1: Dynamic map to present historical land temperature globally"
   ]
  },
  {
   "cell_type": "markdown",
   "metadata": {},
   "source": [
    "### Step 1: Importing Data \n"
   ]
  },
  {
   "cell_type": "code",
   "execution_count": 2,
   "metadata": {},
   "outputs": [
    {
     "data": {
      "text/html": [
       "<div>\n",
       "<style scoped>\n",
       "    .dataframe tbody tr th:only-of-type {\n",
       "        vertical-align: middle;\n",
       "    }\n",
       "\n",
       "    .dataframe tbody tr th {\n",
       "        vertical-align: top;\n",
       "    }\n",
       "\n",
       "    .dataframe thead th {\n",
       "        text-align: right;\n",
       "    }\n",
       "</style>\n",
       "<table border=\"1\" class=\"dataframe\">\n",
       "  <thead>\n",
       "    <tr style=\"text-align: right;\">\n",
       "      <th></th>\n",
       "      <th>dt</th>\n",
       "      <th>AverageTemperature</th>\n",
       "      <th>AverageTemperatureUncertainty</th>\n",
       "      <th>Country</th>\n",
       "    </tr>\n",
       "  </thead>\n",
       "  <tbody>\n",
       "    <tr>\n",
       "      <th>0</th>\n",
       "      <td>1743-11-01</td>\n",
       "      <td>4.384</td>\n",
       "      <td>2.294</td>\n",
       "      <td>Åland</td>\n",
       "    </tr>\n",
       "    <tr>\n",
       "      <th>1</th>\n",
       "      <td>1743-12-01</td>\n",
       "      <td>NaN</td>\n",
       "      <td>NaN</td>\n",
       "      <td>Åland</td>\n",
       "    </tr>\n",
       "    <tr>\n",
       "      <th>2</th>\n",
       "      <td>1744-01-01</td>\n",
       "      <td>NaN</td>\n",
       "      <td>NaN</td>\n",
       "      <td>Åland</td>\n",
       "    </tr>\n",
       "    <tr>\n",
       "      <th>3</th>\n",
       "      <td>1744-02-01</td>\n",
       "      <td>NaN</td>\n",
       "      <td>NaN</td>\n",
       "      <td>Åland</td>\n",
       "    </tr>\n",
       "    <tr>\n",
       "      <th>4</th>\n",
       "      <td>1744-03-01</td>\n",
       "      <td>NaN</td>\n",
       "      <td>NaN</td>\n",
       "      <td>Åland</td>\n",
       "    </tr>\n",
       "  </tbody>\n",
       "</table>\n",
       "</div>"
      ],
      "text/plain": [
       "           dt  AverageTemperature  AverageTemperatureUncertainty Country\n",
       "0  1743-11-01               4.384                          2.294   Åland\n",
       "1  1743-12-01                 NaN                            NaN   Åland\n",
       "2  1744-01-01                 NaN                            NaN   Åland\n",
       "3  1744-02-01                 NaN                            NaN   Åland\n",
       "4  1744-03-01                 NaN                            NaN   Åland"
      ]
     },
     "execution_count": 2,
     "metadata": {},
     "output_type": "execute_result"
    }
   ],
   "source": [
    "df = pd.read_csv('GlobalLandTemperaturesByCountry.csv')\n",
    "df.head()"
   ]
  },
  {
   "cell_type": "markdown",
   "metadata": {},
   "source": [
    "### Step 2: Let's explore the data a bit more"
   ]
  },
  {
   "cell_type": "code",
   "execution_count": 3,
   "metadata": {},
   "outputs": [
    {
     "name": "stdout",
     "output_type": "stream",
     "text": [
      "           dt  AverageTemperature  AverageTemperatureUncertainty Country\n",
      "0  1743-11-01               4.384                          2.294   Åland\n",
      "1  1743-12-01                 NaN                            NaN   Åland\n",
      "2  1744-01-01                 NaN                            NaN   Åland\n",
      "3  1744-02-01                 NaN                            NaN   Åland\n",
      "4  1744-03-01                 NaN                            NaN   Åland\n"
     ]
    }
   ],
   "source": [
    "print(df.head())"
   ]
  },
  {
   "cell_type": "code",
   "execution_count": 4,
   "metadata": {},
   "outputs": [
    {
     "name": "stdout",
     "output_type": "stream",
     "text": [
      "                dt  AverageTemperature  AverageTemperatureUncertainty  \\\n",
      "577457  2013-05-01              19.059                          1.022   \n",
      "577458  2013-06-01              17.613                          0.473   \n",
      "577459  2013-07-01              17.000                          0.453   \n",
      "577460  2013-08-01              19.759                          0.717   \n",
      "577461  2013-09-01                 NaN                            NaN   \n",
      "\n",
      "         Country  \n",
      "577457  Zimbabwe  \n",
      "577458  Zimbabwe  \n",
      "577459  Zimbabwe  \n",
      "577460  Zimbabwe  \n",
      "577461  Zimbabwe  \n"
     ]
    }
   ],
   "source": [
    "print(df.tail())"
   ]
  },
  {
   "cell_type": "code",
   "execution_count": 5,
   "metadata": {},
   "outputs": [
    {
     "data": {
      "text/plain": [
       "dt                                   0\n",
       "AverageTemperature               32651\n",
       "AverageTemperatureUncertainty    31912\n",
       "Country                              0\n",
       "dtype: int64"
      ]
     },
     "execution_count": 5,
     "metadata": {},
     "output_type": "execute_result"
    }
   ],
   "source": [
    "df.isnull().sum()"
   ]
  },
  {
   "cell_type": "markdown",
   "metadata": {},
   "source": [
    "### Step 3: Let's clean the data\n",
    "\n",
    "#### 1) We will drop “AverageTemperatureUncertainty” as we will not need it"
   ]
  },
  {
   "cell_type": "code",
   "execution_count": 6,
   "metadata": {},
   "outputs": [],
   "source": [
    "df = df.drop(\"AverageTemperatureUncertainty\", axis=1)"
   ]
  },
  {
   "cell_type": "markdown",
   "metadata": {},
   "source": [
    "#### 2) We will rename columns to have a better workable columns"
   ]
  },
  {
   "cell_type": "code",
   "execution_count": 7,
   "metadata": {},
   "outputs": [],
   "source": [
    "df = df.rename(columns={'dt':'Date'})\n",
    "df = df.rename(columns={'AverageTemperature':'AvTemp'})"
   ]
  },
  {
   "cell_type": "markdown",
   "metadata": {},
   "source": [
    "#### 3) Finally, we will drop the rows with the null values  \n",
    "\n",
    "We have around 32000 rows with null values in AverageTemperature column. And in total we have around 577000 rows, so dropping them will not affect our analysis"
   ]
  },
  {
   "cell_type": "code",
   "execution_count": 8,
   "metadata": {},
   "outputs": [],
   "source": [
    "df = df.dropna()"
   ]
  },
  {
   "cell_type": "markdown",
   "metadata": {},
   "source": [
    "#### 4) Now we cleansed the data so let's have a look at the new dataset to check it\n",
    "\n",
    "I like to look at first few rows of my data (you might want to look at fewer rows)"
   ]
  },
  {
   "cell_type": "code",
   "execution_count": 9,
   "metadata": {},
   "outputs": [
    {
     "data": {
      "text/html": [
       "<div>\n",
       "<style scoped>\n",
       "    .dataframe tbody tr th:only-of-type {\n",
       "        vertical-align: middle;\n",
       "    }\n",
       "\n",
       "    .dataframe tbody tr th {\n",
       "        vertical-align: top;\n",
       "    }\n",
       "\n",
       "    .dataframe thead th {\n",
       "        text-align: right;\n",
       "    }\n",
       "</style>\n",
       "<table border=\"1\" class=\"dataframe\">\n",
       "  <thead>\n",
       "    <tr style=\"text-align: right;\">\n",
       "      <th></th>\n",
       "      <th>Date</th>\n",
       "      <th>AvTemp</th>\n",
       "      <th>Country</th>\n",
       "    </tr>\n",
       "  </thead>\n",
       "  <tbody>\n",
       "    <tr>\n",
       "      <th>0</th>\n",
       "      <td>1743-11-01</td>\n",
       "      <td>4.384</td>\n",
       "      <td>Åland</td>\n",
       "    </tr>\n",
       "    <tr>\n",
       "      <th>5</th>\n",
       "      <td>1744-04-01</td>\n",
       "      <td>1.530</td>\n",
       "      <td>Åland</td>\n",
       "    </tr>\n",
       "    <tr>\n",
       "      <th>6</th>\n",
       "      <td>1744-05-01</td>\n",
       "      <td>6.702</td>\n",
       "      <td>Åland</td>\n",
       "    </tr>\n",
       "    <tr>\n",
       "      <th>7</th>\n",
       "      <td>1744-06-01</td>\n",
       "      <td>11.609</td>\n",
       "      <td>Åland</td>\n",
       "    </tr>\n",
       "    <tr>\n",
       "      <th>8</th>\n",
       "      <td>1744-07-01</td>\n",
       "      <td>15.342</td>\n",
       "      <td>Åland</td>\n",
       "    </tr>\n",
       "    <tr>\n",
       "      <th>10</th>\n",
       "      <td>1744-09-01</td>\n",
       "      <td>11.702</td>\n",
       "      <td>Åland</td>\n",
       "    </tr>\n",
       "    <tr>\n",
       "      <th>11</th>\n",
       "      <td>1744-10-01</td>\n",
       "      <td>5.477</td>\n",
       "      <td>Åland</td>\n",
       "    </tr>\n",
       "    <tr>\n",
       "      <th>12</th>\n",
       "      <td>1744-11-01</td>\n",
       "      <td>3.407</td>\n",
       "      <td>Åland</td>\n",
       "    </tr>\n",
       "    <tr>\n",
       "      <th>13</th>\n",
       "      <td>1744-12-01</td>\n",
       "      <td>-2.181</td>\n",
       "      <td>Åland</td>\n",
       "    </tr>\n",
       "    <tr>\n",
       "      <th>14</th>\n",
       "      <td>1745-01-01</td>\n",
       "      <td>-3.850</td>\n",
       "      <td>Åland</td>\n",
       "    </tr>\n",
       "  </tbody>\n",
       "</table>\n",
       "</div>"
      ],
      "text/plain": [
       "          Date  AvTemp Country\n",
       "0   1743-11-01   4.384   Åland\n",
       "5   1744-04-01   1.530   Åland\n",
       "6   1744-05-01   6.702   Åland\n",
       "7   1744-06-01  11.609   Åland\n",
       "8   1744-07-01  15.342   Åland\n",
       "10  1744-09-01  11.702   Åland\n",
       "11  1744-10-01   5.477   Åland\n",
       "12  1744-11-01   3.407   Åland\n",
       "13  1744-12-01  -2.181   Åland\n",
       "14  1745-01-01  -3.850   Åland"
      ]
     },
     "execution_count": 9,
     "metadata": {},
     "output_type": "execute_result"
    }
   ],
   "source": [
    "df.head(10)"
   ]
  },
  {
   "cell_type": "markdown",
   "metadata": {},
   "source": [
    "### Step 4: Now we need to filter data\n",
    "\n",
    "#### 1) We will group the dataframe by Country name and the date.  \n",
    "#### 2) We will also sort the values by date from latest to earliest time (luckily in Python we can do it together with grouping operation 1) above.\n",
    "\n"
   ]
  },
  {
   "cell_type": "code",
   "execution_count": 10,
   "metadata": {},
   "outputs": [
    {
     "data": {
      "text/html": [
       "<div>\n",
       "<style scoped>\n",
       "    .dataframe tbody tr th:only-of-type {\n",
       "        vertical-align: middle;\n",
       "    }\n",
       "\n",
       "    .dataframe tbody tr th {\n",
       "        vertical-align: top;\n",
       "    }\n",
       "\n",
       "    .dataframe thead th {\n",
       "        text-align: right;\n",
       "    }\n",
       "</style>\n",
       "<table border=\"1\" class=\"dataframe\">\n",
       "  <thead>\n",
       "    <tr style=\"text-align: right;\">\n",
       "      <th></th>\n",
       "      <th>Country</th>\n",
       "      <th>Date</th>\n",
       "      <th>AvTemp</th>\n",
       "    </tr>\n",
       "  </thead>\n",
       "  <tbody>\n",
       "    <tr>\n",
       "      <th>318859</th>\n",
       "      <td>Mexico</td>\n",
       "      <td>2013-09-01</td>\n",
       "      <td>24.990</td>\n",
       "    </tr>\n",
       "    <tr>\n",
       "      <th>396261</th>\n",
       "      <td>Puerto Rico</td>\n",
       "      <td>2013-09-01</td>\n",
       "      <td>28.048</td>\n",
       "    </tr>\n",
       "    <tr>\n",
       "      <th>89235</th>\n",
       "      <td>Canada</td>\n",
       "      <td>2013-09-01</td>\n",
       "      <td>7.922</td>\n",
       "    </tr>\n",
       "    <tr>\n",
       "      <th>250579</th>\n",
       "      <td>Jamaica</td>\n",
       "      <td>2013-09-01</td>\n",
       "      <td>28.398</td>\n",
       "    </tr>\n",
       "    <tr>\n",
       "      <th>117566</th>\n",
       "      <td>Cuba</td>\n",
       "      <td>2013-09-01</td>\n",
       "      <td>28.424</td>\n",
       "    </tr>\n",
       "    <tr>\n",
       "      <th>418707</th>\n",
       "      <td>Saint Pierre And Miquelon</td>\n",
       "      <td>2013-09-01</td>\n",
       "      <td>13.745</td>\n",
       "    </tr>\n",
       "    <tr>\n",
       "      <th>507893</th>\n",
       "      <td>Turks And Caicas Islands</td>\n",
       "      <td>2013-09-01</td>\n",
       "      <td>29.770</td>\n",
       "    </tr>\n",
       "    <tr>\n",
       "      <th>144806</th>\n",
       "      <td>El Salvador</td>\n",
       "      <td>2013-09-01</td>\n",
       "      <td>26.405</td>\n",
       "    </tr>\n",
       "    <tr>\n",
       "      <th>73944</th>\n",
       "      <td>British Virgin Islands</td>\n",
       "      <td>2013-09-01</td>\n",
       "      <td>28.991</td>\n",
       "    </tr>\n",
       "    <tr>\n",
       "      <th>39448</th>\n",
       "      <td>Bahamas</td>\n",
       "      <td>2013-09-01</td>\n",
       "      <td>28.657</td>\n",
       "    </tr>\n",
       "  </tbody>\n",
       "</table>\n",
       "</div>"
      ],
      "text/plain": [
       "                          Country        Date  AvTemp\n",
       "318859                     Mexico  2013-09-01  24.990\n",
       "396261                Puerto Rico  2013-09-01  28.048\n",
       "89235                      Canada  2013-09-01   7.922\n",
       "250579                    Jamaica  2013-09-01  28.398\n",
       "117566                       Cuba  2013-09-01  28.424\n",
       "418707  Saint Pierre And Miquelon  2013-09-01  13.745\n",
       "507893   Turks And Caicas Islands  2013-09-01  29.770\n",
       "144806                El Salvador  2013-09-01  26.405\n",
       "73944      British Virgin Islands  2013-09-01  28.991\n",
       "39448                     Bahamas  2013-09-01  28.657"
      ]
     },
     "execution_count": 10,
     "metadata": {},
     "output_type": "execute_result"
    }
   ],
   "source": [
    "df_countries = df.groupby(['Country', 'Date']).sum().reset_index().sort_values('Date', ascending=False)\n",
    "df_countries.head(10)"
   ]
  },
  {
   "cell_type": "markdown",
   "metadata": {},
   "source": [
    "Our historical climate data is showing temperatures for all months between 1744 to 2013.  That's too much data, so let's work with a selection from 2005 to 2013.\n",
    "You can select longer period, but it will take time to get a map.  If getting a map takes too long, select a shorter time period (play around, try different periods)"
   ]
  },
  {
   "cell_type": "code",
   "execution_count": 11,
   "metadata": {},
   "outputs": [
    {
     "data": {
      "text/html": [
       "<div>\n",
       "<style scoped>\n",
       "    .dataframe tbody tr th:only-of-type {\n",
       "        vertical-align: middle;\n",
       "    }\n",
       "\n",
       "    .dataframe tbody tr th {\n",
       "        vertical-align: top;\n",
       "    }\n",
       "\n",
       "    .dataframe thead th {\n",
       "        text-align: right;\n",
       "    }\n",
       "</style>\n",
       "<table border=\"1\" class=\"dataframe\">\n",
       "  <thead>\n",
       "    <tr style=\"text-align: right;\">\n",
       "      <th></th>\n",
       "      <th>Country</th>\n",
       "      <th>Date</th>\n",
       "      <th>AvTemp</th>\n",
       "    </tr>\n",
       "  </thead>\n",
       "  <tbody>\n",
       "    <tr>\n",
       "      <th>199293</th>\n",
       "      <td>Grenada</td>\n",
       "      <td>2013-01-01</td>\n",
       "      <td>26.579</td>\n",
       "    </tr>\n",
       "    <tr>\n",
       "      <th>476632</th>\n",
       "      <td>Sweden</td>\n",
       "      <td>2013-01-01</td>\n",
       "      <td>-7.811</td>\n",
       "    </tr>\n",
       "    <tr>\n",
       "      <th>418699</th>\n",
       "      <td>Saint Pierre And Miquelon</td>\n",
       "      <td>2013-01-01</td>\n",
       "      <td>-4.640</td>\n",
       "    </tr>\n",
       "    <tr>\n",
       "      <th>3971</th>\n",
       "      <td>Africa</td>\n",
       "      <td>2013-01-01</td>\n",
       "      <td>22.138</td>\n",
       "    </tr>\n",
       "    <tr>\n",
       "      <th>31324</th>\n",
       "      <td>Australia</td>\n",
       "      <td>2013-01-01</td>\n",
       "      <td>29.861</td>\n",
       "    </tr>\n",
       "  </tbody>\n",
       "</table>\n",
       "</div>"
      ],
      "text/plain": [
       "                          Country        Date  AvTemp\n",
       "199293                    Grenada  2013-01-01  26.579\n",
       "476632                     Sweden  2013-01-01  -7.811\n",
       "418699  Saint Pierre And Miquelon  2013-01-01  -4.640\n",
       "3971                       Africa  2013-01-01  22.138\n",
       "31324                   Australia  2013-01-01  29.861"
      ]
     },
     "execution_count": 11,
     "metadata": {},
     "output_type": "execute_result"
    }
   ],
   "source": [
    "start_date = '2005-01-01'\n",
    "end_date = '2013-01-01'\n",
    "\n",
    "mask = (df_countries['Date'] > start_date) & (df_countries['Date'] <= end_date)\n",
    "df_countries = df_countries.loc[mask]\n",
    "df_countries.head(5)"
   ]
  },
  {
   "cell_type": "markdown",
   "metadata": {},
   "source": [
    "### Step 5: Overall visualisation"
   ]
  },
  {
   "cell_type": "code",
   "execution_count": 12,
   "metadata": {},
   "outputs": [
    {
     "data": {
      "text/html": [
       "<div>\n",
       "<style scoped>\n",
       "    .dataframe tbody tr th:only-of-type {\n",
       "        vertical-align: middle;\n",
       "    }\n",
       "\n",
       "    .dataframe tbody tr th {\n",
       "        vertical-align: top;\n",
       "    }\n",
       "\n",
       "    .dataframe thead th {\n",
       "        text-align: right;\n",
       "    }\n",
       "</style>\n",
       "<table border=\"1\" class=\"dataframe\">\n",
       "  <thead>\n",
       "    <tr style=\"text-align: right;\">\n",
       "      <th></th>\n",
       "      <th>Date</th>\n",
       "      <th>Country</th>\n",
       "      <th>AvTemp</th>\n",
       "    </tr>\n",
       "  </thead>\n",
       "  <tbody>\n",
       "    <tr>\n",
       "      <th>0</th>\n",
       "      <td>2005-02-01</td>\n",
       "      <td>Afghanistan</td>\n",
       "      <td>1.822</td>\n",
       "    </tr>\n",
       "    <tr>\n",
       "      <th>1</th>\n",
       "      <td>2005-02-01</td>\n",
       "      <td>Africa</td>\n",
       "      <td>23.878</td>\n",
       "    </tr>\n",
       "    <tr>\n",
       "      <th>2</th>\n",
       "      <td>2005-02-01</td>\n",
       "      <td>Albania</td>\n",
       "      <td>2.257</td>\n",
       "    </tr>\n",
       "    <tr>\n",
       "      <th>3</th>\n",
       "      <td>2005-02-01</td>\n",
       "      <td>Algeria</td>\n",
       "      <td>13.500</td>\n",
       "    </tr>\n",
       "    <tr>\n",
       "      <th>4</th>\n",
       "      <td>2005-02-01</td>\n",
       "      <td>American Samoa</td>\n",
       "      <td>28.000</td>\n",
       "    </tr>\n",
       "  </tbody>\n",
       "</table>\n",
       "</div>"
      ],
      "text/plain": [
       "         Date         Country  AvTemp\n",
       "0  2005-02-01     Afghanistan   1.822\n",
       "1  2005-02-01          Africa  23.878\n",
       "2  2005-02-01         Albania   2.257\n",
       "3  2005-02-01         Algeria  13.500\n",
       "4  2005-02-01  American Samoa  28.000"
      ]
     },
     "execution_count": 12,
     "metadata": {},
     "output_type": "execute_result"
    }
   ],
   "source": [
    "# Reorder the dataframe by ascending order of date and country name\n",
    "df_countrydate = df_countries.groupby(['Date','Country']).sum().reset_index()\n",
    "df_countrydate.head(5)"
   ]
  },
  {
   "cell_type": "markdown",
   "metadata": {},
   "source": [
    "**Exercise 1:** Using the image of the dynamic map below as a guide, complete the blanks in the codes:"
   ]
  },
  {
   "cell_type": "markdown",
   "metadata": {},
   "source": [
    "<img src = 'tutorial7_task1.png' />"
   ]
  },
  {
   "cell_type": "code",
   "execution_count": 13,
   "metadata": {},
   "outputs": [
    {
     "ename": "SyntaxError",
     "evalue": "invalid syntax (<ipython-input-13-d30fb74af4f0>, line 20)",
     "output_type": "error",
     "traceback": [
      "\u001b[0;36m  File \u001b[0;32m\"<ipython-input-13-d30fb74af4f0>\"\u001b[0;36m, line \u001b[0;32m20\u001b[0m\n\u001b[0;31m    showframe = ,\u001b[0m\n\u001b[0m                ^\u001b[0m\n\u001b[0;31mSyntaxError\u001b[0m\u001b[0;31m:\u001b[0m invalid syntax\n"
     ]
    }
   ],
   "source": [
    "import plotly.express as px\n",
    "import plotly.graph_objs as go\n",
    "from plotly.subplots import make_subplots\n",
    "from plotly.offline import download_plotlyjs, init_notebook_mode, plot, iplot\n",
    "\n",
    "# Create the visualization\n",
    "# For more information: https://plotly.com/python-api-reference/generated/plotly.express.choropleth.html\n",
    "fig = px.choropleth(df_countrydate,\n",
    "    locations=\"       \",\n",
    "    locationmode = \"             \",\n",
    "    color=\"    \",\n",
    "    hover_name=\"Country\",\n",
    "    animation_frame=\"    \"\n",
    "    )\n",
    "\n",
    "fig.update_layout(\n",
    "    title_text = '                ',\n",
    "    title_x = 0.5,\n",
    "    geo=dict(\n",
    "        showframe = ,\n",
    "        showcoastlines = False,\n",
    "        ))\n",
    "\n",
    "fig.show() "
   ]
  },
  {
   "cell_type": "code",
   "execution_count": null,
   "metadata": {},
   "outputs": [],
   "source": [
    "# Solutions\n",
    "import plotly.express as px\n",
    "import plotly.graph_objs as go\n",
    "from plotly.subplots import make_subplots\n",
    "from plotly.offline import download_plotlyjs, init_notebook_mode, plot, iplot\n",
    "\n",
    "# Create the visualization\n",
    "fig = px.choropleth(df_countrydate,\n",
    "    locations=\"Country\",\n",
    "    locationmode = \"country names\",\n",
    "    color=\"AvTemp\",\n",
    "    hover_name=\"Country\",\n",
    "    animation_frame=\"Date\"\n",
    "    )\n",
    "\n",
    "fig.update_layout(\n",
    "    title_text = 'Average Monthly Temperature Change 2005-2013',\n",
    "    title_x = 0.5,\n",
    "    geo=dict(\n",
    "        showframe = False,\n",
    "        showcoastlines = False,\n",
    "        ))\n",
    "\n",
    "fig.show() "
   ]
  },
  {
   "cell_type": "markdown",
   "metadata": {},
   "source": [
    "> Ask yourself:\n",
    "> 1. What is your experience like when you watched the dynamic map play?\n",
    "> 2. What would you change in this dynamic map?"
   ]
  },
  {
   "cell_type": "markdown",
   "metadata": {},
   "source": [
    "## Task 2: Expand on an existing script of a dashboard created using <code>dash</code>\n",
    "\n",
    "In this task, we will learn to expand the functionality and the look of the dashboard that was presented during Lecture 7. As a quick re-cap, the original underlying dataframe behind the dashboard, and the content of the dashboard (which changes according to the slider) are seen below:"
   ]
  },
  {
   "cell_type": "code",
   "execution_count": null,
   "metadata": {},
   "outputs": [],
   "source": [
    "df = px.data.gapminder()\n",
    "df.head(3)"
   ]
  },
  {
   "cell_type": "markdown",
   "metadata": {},
   "source": [
    "<img src = 'tutorial7_lecture.png' />"
   ]
  },
  {
   "cell_type": "markdown",
   "metadata": {},
   "source": [
    "**Note:** The script below, adapted from Lecture 7 is <u>**not**</u> meant to be executed in this Jupyter notebook. Refer to slide 23 of Lecture 7 for instructions."
   ]
  },
  {
   "cell_type": "code",
   "execution_count": null,
   "metadata": {},
   "outputs": [],
   "source": [
    "from dash import Dash, dcc, html, Input, Output\n",
    "import plotly.express as px\n",
    "\n",
    "app = Dash(__name__)\n",
    "\n",
    "# The layout describes what the app looks like using HTML. The layout is a hierarchical tree of components\n",
    "# For more information: https://dash.plotly.com/dash-html-components\n",
    "app.layout = html.Div([\n",
    "\n",
    "    # This is an interactive graph component. \n",
    "    # For more information: https://dash.plotly.com/interactive-graphing & https://dash.plotly.com/dash-core-components/graph\n",
    "    dcc.Graph(id=\"scatter-plot\"),\n",
    "    html.P(\"Select a year:\"),\n",
    "    dcc.Slider(1952,2007,5,\n",
    "        value = 1952,\n",
    "        id='year-slider',\n",
    "        marks={i: '{}'.format(i) for i in range(1952,2007,5)}\n",
    "    )\n",
    "])\n",
    "\n",
    "# This is a callback decorator, which functions to change an output based on an input \n",
    "# The component_id and component_property keywords are optional\n",
    "# For more information: https://dash.plotly.com/basic-callbacks\n",
    "@app.callback(\n",
    "    Output(component_id=\"scatter-plot\", component_property=\"figure\"), \n",
    "    Input(component_id=\"year-slider\", component_property=\"value\")\n",
    "    )\n",
    "\n",
    "def update_plot(year, continent):\n",
    "    \n",
    "    # replace with your own data source\n",
    "    gm = px.data.gapminder()\n",
    "    \n",
    "    # using filtered data frame\n",
    "    gmy = gm[gm['year']==year]\n",
    "\n",
    "    # standard plotly graph - plotly documentation includes template codes for Dash\n",
    "    fig = px.scatter( \n",
    "        gmy, y='lifeExp', x='gdpPercap',\n",
    "        size='pop', color= 'continent', hover_data = ['country'],\n",
    "        log_x=True, log_y = True,\n",
    "        title = 'Health vs. Wealth across the world in '+str(year)\n",
    "    )\n",
    "    return fig\n",
    "\n",
    "app.run_server(debug=True)"
   ]
  },
  {
   "cell_type": "markdown",
   "metadata": {},
   "source": [
    "**Exercise 2:** Fill in the blanks below (and run the script in your terminal separately) to create an updated dashboard which now contains:\n",
    "\n",
    "1. A markdown for description\n",
    "2. Checkboxes for each continent\n",
    "3. Actions in checkboxes that update the underlying dataframe"
   ]
  },
  {
   "cell_type": "markdown",
   "metadata": {},
   "source": [
    "<img src = 'tutorial7_task2.png' />"
   ]
  },
  {
   "cell_type": "code",
   "execution_count": null,
   "metadata": {},
   "outputs": [],
   "source": [
    "from dash import Dash, dcc, html, Input, Output\n",
    "import plotly.express as px\n",
    "\n",
    "app = Dash(__name__)\n",
    "\n",
    "##### Fill in the blanks with your code here #####\n",
    "markdown_text = '''\n",
    "\n",
    "\n",
    "'''\n",
    "\n",
    "# The layout describes what the app looks like using HTML. The layout is a hierarchical tree of components\n",
    "# For more information: https://dash.plotly.com/dash-html-components\n",
    "app.layout = html.Div([\n",
    "\n",
    "    # This is a markdown component, a Dash Core Component. DCCs are interactive components\n",
    "    # For more information: https://dash.plotly.com/dash-core-components\n",
    "    dcc.Markdown(children=             ),                                       ##### Fill in the blanks with your code here #####\n",
    "\n",
    "    # This is an interactive graph component. \n",
    "    # For more information: https://dash.plotly.com/interactive-graphing & https://dash.plotly.com/dash-core-components/graph\n",
    "    dcc.Graph(id=\"scatter-plot\"),\n",
    "    html.P(\"Select a year:\"),\n",
    "    dcc.Slider(1952,2007,5,\n",
    "        value = 1952,\n",
    "        id='year-slider',\n",
    "        marks={i: '{}'.format(i) for i in range(1952,2007,5)}\n",
    "    ),\n",
    "    \n",
    "    html.Br(),                                                                       \n",
    "    html.Label(\"                                                 :\"),           ##### Fill in the blanks with your code here ##### \n",
    "    dcc.Checklist(options=[                                                 ],  ##### Fill in the blanks with your code here ##### \n",
    "        value=[                                                 ],              ##### Fill in the blanks with your code here ##### \n",
    "        inline=True,                                                                 \n",
    "        id='continent-slider'),                                                      \n",
    "])\n",
    "\n",
    "# This is a callback decorator, which functions to change an output based on an input \n",
    "# The component_id and component_property keywords are optional\n",
    "# For more information: https://dash.plotly.com/basic-callbacks\n",
    "@app.callback(\n",
    "    Output(component_id=\"scatter-plot\", component_property=\"figure\"), \n",
    "    Input(component_id=\"year-slider\", component_property=\"value\"),\n",
    "    Input(component_id=\"                \", component_property=\"value\")          ##### Fill in the blanks with your code here #####\n",
    "    )\n",
    "\n",
    "def update_plot(year, continent):\n",
    "    \n",
    "    # replace with your own data source\n",
    "    gm = px.data.gapminder()\n",
    "    \n",
    "    # using filtered data frame\n",
    "    gmy = gm[(gm['year']==year) & (gm['continent'].isin(         ))]            ##### Fill in the blanks with your code here #####\n",
    "\n",
    "    # standard plotly graph - plotly documentation includes template codes for Dash\n",
    "    fig = px.scatter( \n",
    "        gmy, y='lifeExp', x='gdpPercap',\n",
    "        size='pop', color= 'continent', hover_data = ['country'],\n",
    "        log_x=True, log_y = True,\n",
    "        title = 'Health vs. Wealth across the world in '+str(year)\n",
    "    )\n",
    "    return fig\n",
    "\n",
    "app.run_server(debug=True)"
   ]
  },
  {
   "cell_type": "code",
   "execution_count": null,
   "metadata": {},
   "outputs": [],
   "source": [
    "# Solutions:\n",
    "from dash import Dash, dcc, html, Input, Output\n",
    "import plotly.express as px\n",
    "\n",
    "app = Dash(__name__)\n",
    "\n",
    "# new\n",
    "markdown_text = '''\n",
    "#### The bubble chart below describes the relationship between life expectancy, \n",
    "GDP and population (indicated by size of each bubble) across continents in a particular year.\n",
    "'''\n",
    "\n",
    "# The layout describes what the app looks like using HTML. The layout is a hierarchical tree of components\n",
    "# For more information: https://dash.plotly.com/dash-html-components\n",
    "app.layout = html.Div([\n",
    "\n",
    "    # This is a markdown component, a Dash Core Component. DCCs are interactive components\n",
    "    # For more information: https://dash.plotly.com/dash-core-components\n",
    "    dcc.Markdown(children=markdown_text),                                            # new\n",
    "\n",
    "    # This is an interactive graph component. \n",
    "    # For more information: https://dash.plotly.com/interactive-graphing & https://dash.plotly.com/dash-core-components/graph\n",
    "    dcc.Graph(id=\"scatter-plot\"),\n",
    "    html.P(\"Select a year:\"),\n",
    "    dcc.Slider(1952,2007,5,\n",
    "        value = 1952,\n",
    "        id='year-slider',\n",
    "        marks={i: '{}'.format(i) for i in range(1952,2007,5)}\n",
    "    ),\n",
    "\n",
    "    html.Br(),                                                                       # new\n",
    "    html.Label(\"Select continents of interest in checkboxes below:\"),                # new\n",
    "    dcc.Checklist(options=['Asia', 'Europe', 'Africa', 'Americas', 'Oceania'],       # new\n",
    "        value=['Asia', 'Europe', 'Africa', 'Americas', 'Oceania'],                   # new\n",
    "        inline=True,                                                                 # new\n",
    "        id='continent-slider'),                                                      # new\n",
    "])\n",
    "\n",
    "# This is a callback decorator, which functions to change an output based on an input \n",
    "# The component_id and component_property keywords are optional\n",
    "# For more information: https://dash.plotly.com/basic-callbacks\n",
    "@app.callback(\n",
    "    Output(component_id=\"scatter-plot\", component_property=\"figure\"), \n",
    "    Input(component_id=\"year-slider\", component_property=\"value\"),\n",
    "    Input(component_id=\"continent-slider\", component_property=\"value\")               # new\n",
    "    )\n",
    "\n",
    "def update_plot(year, continent):\n",
    "    \n",
    "    # replace with your own data source\n",
    "    gm = px.data.gapminder()\n",
    "    \n",
    "    # using filtered data frame\n",
    "    gmy = gm[(gm['year']==year) & (gm['continent'].isin(continent))]                 # new\n",
    "\n",
    "    # standard plotly graph - plotly documentation includes template codes for Dash\n",
    "    fig = px.scatter( \n",
    "        gmy, y='lifeExp', x='gdpPercap',\n",
    "        size='pop', color= 'continent', hover_data = ['country'],\n",
    "        log_x=True, log_y = True,\n",
    "        title = 'Health vs. Wealth across the world in '+str(year)\n",
    "    )\n",
    "    return fig\n",
    "\n",
    "app.run_server(debug=True)"
   ]
  },
  {
   "cell_type": "markdown",
   "metadata": {},
   "source": [
    "## Task 3: Demonstration: Creating a  <code>bokeh</code> standalone dashboard\n",
    "\n",
    "Now we are going to learn another way of using <code>bokeh</code> to produce more sophisticated dashboard.  We will start with the example from \n",
    "\n",
    "https://optimizemydayjob.medium.com/a-guide-to-interactive-python-dashboards-using-bokeh-2fc4904b20f2\n",
    "\n",
    "Similar to Task 2 above, we will be using a python <code>.py</code> file to create the following dashboard:\n"
   ]
  },
  {
   "cell_type": "markdown",
   "metadata": {},
   "source": [
    "<img src = 'tutorial7_task3.png' />"
   ]
  },
  {
   "cell_type": "markdown",
   "metadata": {},
   "source": [
    "### Step 1.  Import Packages and Load the Data"
   ]
  },
  {
   "cell_type": "code",
   "execution_count": null,
   "metadata": {},
   "outputs": [],
   "source": [
    "import pandas as pd\n",
    "import numpy as np\n",
    "import random\n",
    "from datetime import datetime as dt\n",
    "from bokeh.io import output_file, show\n",
    "from bokeh.layouts import gridplot, layout\n",
    "from bokeh.palettes import Category20\n",
    "from bokeh.plotting import figure, curdoc\n",
    "from bokeh.models import (ColumnDataSource, CDSView, RadioButtonGroup, GroupFilter, DataTable,\n",
    "                          TableColumn, DateFormatter, CategoricalColorMapper, CheckboxGroup,\n",
    "                          TextInput, Column, Row, Div, HoverTool, Slider, RangeSlider, MultiChoice)\n",
    "\n",
    "# Read the data:\n",
    "data = pd.read_csv(r'/Users/leesi/usyd/qbus6860/data/all_stocks_5yr.csv')\n",
    "\n",
    "# Format the date variable to datetime and sort the data by date:\n",
    "data['date'] = pd.to_datetime(data['date'], format='%Y-%m-%d')\n",
    "data.sort_values(by='date', ascending=False, inplace=True)\n",
    "\n",
    "# Create the month and year variables:\n",
    "data['Month'] = pd.to_datetime(data['date']).dt.month\n",
    "data['Year'] = pd.to_datetime(data['date']).dt.year"
   ]
  },
  {
   "cell_type": "markdown",
   "metadata": {},
   "source": [
    "As you can see, after reading in the data, we convert the <code>date</code> column into <code>Datetime</code> objects (we will learn more about this in doing time series plotting), then create two new columns <code>Month</code> and <code>Year</code>.  Please add your code to see the <code>data</code>.\n",
    "\n",
    "### Step 2.   Get Data for Dashboard definition\n",
    "\n",
    "Let us prepare several variables for the use in plotting"
   ]
  },
  {
   "cell_type": "code",
   "execution_count": null,
   "metadata": {},
   "outputs": [],
   "source": [
    "# INITIAL VARIABLES:\n",
    "# Create a sorted list of ticker names:\n",
    "tickers = sorted(list(data.Name.unique()))\n",
    "# Creat a sorted list of months:\n",
    "month = sorted(list(data.Month.unique()))\n",
    "# Creat a sorted list of years:\n",
    "year = sorted(list(data.Year.unique()))"
   ]
  },
  {
   "cell_type": "markdown",
   "metadata": {},
   "source": [
    "### Step 3.  Define Widgets\n",
    "\n",
    "Most of time, similar to any windows, online form etc, we always see such as Button, InputField, Sliders, Droplist etc.  All these are normally called Widgets.  Many apps provide their own ways to produce to be used in an interface design.  <code>bokeh</code> defines all these tools we can use.  We have already import them at the beginning.  The following code will create a MultiChoice (or droplist), a Slider and a RangeSlider for our dashboard."
   ]
  },
  {
   "cell_type": "code",
   "execution_count": null,
   "metadata": {},
   "outputs": [],
   "source": [
    "# WIDGETS:\n",
    "# Initialize the ticker choice:\n",
    "ticker_button = MultiChoice(value=tickers[:2], options=tickers)\n",
    "# Initialize the year slider:\n",
    "year_slider = Slider(start=year[0], end=year[-1], value=year[1], step=1, title='Year')\n",
    "# Initialize the month range slider:\n",
    "month_slider = RangeSlider(start=month[0], end=month[-1], value=month[:2], step=1, title='Month')"
   ]
  },
  {
   "cell_type": "markdown",
   "metadata": {},
   "source": [
    "### Step 4. Organize Data in Table to be shown on the Dashboard\n",
    "\n",
    "Next we prepare the data for the Dashboard that we are going to create. We only pick up the data within the definition of the above three widgets.  In this table, we will only show the Data, Stock Code (Name) and Close prices."
   ]
  },
  {
   "cell_type": "code",
   "execution_count": null,
   "metadata": {},
   "outputs": [],
   "source": [
    "# Filter the initial data source:\n",
    "df = data[(data['Name'].isin(ticker_button.value)) & (data['Month'] >= month_slider.value[0]) & (data['Month'] <= month_slider.value[1]) & (data['Year'] == year_slider.value)]\n",
    "# Pass the filtered data source to the ColumnDataSource class:\n",
    "source = ColumnDataSource(data=df)\n",
    "\n",
    "# TABLE\n",
    "# Creating the list of columns:\n",
    "columns = [\n",
    "        TableColumn(field=\"date\", title=\"Date\", formatter=DateFormatter(format=\"%Y-%m-%d\")),\n",
    "        TableColumn(field=\"Name\", title=\"Name\"),\n",
    "        TableColumn(field=\"close\", title=\"Close\"),\n",
    "    ]\n",
    "# Initializing the table:\n",
    "table = DataTable(source=source, columns=columns, height=500)"
   ]
  },
  {
   "cell_type": "markdown",
   "metadata": {},
   "source": [
    "### Step 5.  Define Actions for Widgets \n",
    "\n",
    "In interactive dashboard, we shall repeatedly draw the plots. So it is better to define our own functions to be called everytime when an update is needed.  For example, <code>plot_function</code> will take the stock names from the droplist (<code>ticker</code>), and pick up the \"close\" prices of those stocks and draw them as lineplots."
   ]
  },
  {
   "cell_type": "code",
   "execution_count": null,
   "metadata": {},
   "outputs": [],
   "source": [
    "# PLOT\n",
    "def plot_function(tickers):\n",
    "    # Getting some colors:\n",
    "    colors = list(Category20.values())[17]\n",
    "    random_colors = []\n",
    "    for c in range(len(tickers)):\n",
    "        random_colors.append(random.choice(colors))\n",
    "\n",
    "    # Create the hovertool:\n",
    "    TOOLTIPS = HoverTool(tooltips=[    ('date', '$x{%Y-%m-%d}'),\n",
    "                   ('close', '$@{close}{0.0}'),\n",
    "                   ('high', '$@{high}{0.0}'),\n",
    "                   ('low', '$@{low}{0.0}'),\n",
    "                   ('volume', '@volume{0.00 a}')],\n",
    "                         formatters={'$x': 'datetime'})\n",
    "\n",
    "    # Create the figure to store all the plot lines in:\n",
    "    p = figure(x_axis_type='datetime', width=1000, height=500)\n",
    "\n",
    "    # Loop through the tickers and colors and create plot line for each:\n",
    "    for t, rc in zip(tickers, random_colors):\n",
    "        view = CDSView(source=source, filters=[GroupFilter(column_name='Name', group=t)])\n",
    "        p.line(x='date', y='close', source=source, view=view, line_color=rc, line_width=4)\n",
    "\n",
    "    # Add the hovertool to the figure:\n",
    "    p.add_tools(TOOLTIPS)\n",
    "    return p\n",
    "p = plot_function(tickers)\n",
    "\n",
    "def text_function(attr, old, new):\n",
    "    new_text = new\n",
    "    old_text = old\n",
    "    text_data = pd.read_json('text_data.json')\n",
    "\n",
    "def filter_function():\n",
    "    # Filter the data according to the widgets:\n",
    "    new_src = data[(data['Name'].isin(ticker_button.value)) & (data['Month'] >= month_slider.value[0]) & (data['Month'] <= month_slider.value[1]) & (data['Year'] == year_slider.value)]\n",
    "\n",
    "    # Replace the data in the current data source with the new data:\n",
    "    source.data = new_src.to_dict('series')\n",
    "\n",
    "def change_function(attr, old, new):\n",
    "    filter_function()\n"
   ]
  },
  {
   "cell_type": "markdown",
   "metadata": {},
   "source": [
    "Now set the function (or action to be taken) to the relevant widgets."
   ]
  },
  {
   "cell_type": "code",
   "execution_count": null,
   "metadata": {},
   "outputs": [],
   "source": [
    "ticker_button.on_change('value', change_function)\n",
    "month_slider.on_change('value', change_function)\n",
    "year_slider.on_change('value', change_function)"
   ]
  },
  {
   "cell_type": "markdown",
   "metadata": {},
   "source": [
    "### Step 6.  Build our Dashboard"
   ]
  },
  {
   "cell_type": "code",
   "execution_count": null,
   "metadata": {},
   "outputs": [],
   "source": [
    "# Header\n",
    "title = Div(text='<h1 style=\"text-align: center\">Stock Dashboard</h1>')\n",
    "\n",
    "widgets_col = Column(month_slider, year_slider)   # Two sliders are arranged in column way\n",
    "widgets_row = Row(widgets_col, ticker_button) \n",
    "layout = layout([[title],\n",
    "                 [widgets_row],\n",
    "                 [p,table]])\n",
    "curdoc().title = 'Stock Dashboard'\n",
    "curdoc().add_root(layout)"
   ]
  },
  {
   "cell_type": "markdown",
   "metadata": {},
   "source": [
    "The above code defines the dashboard layout:  Two sliders are arranged in column way, then on the right is the droplist (ticker_button) from which users can choose different stocks. Finally there are three rows:  A title row at the top showing a title, then the first widgets (two sliders and a droplist), and the last row with a plot (<code>bokeh</code> figure object) and a table."
   ]
  },
  {
   "cell_type": "markdown",
   "metadata": {},
   "source": [
    "### Step 7.  Take it in action\n",
    "\n",
    "If you run the above code step by step, you will see nothing happens in the end.  The reason is, the information can only be shown through the <code>bokeh</code> server. You may follow the following steps to make it happen.\n",
    "\n",
    "How to test this dashboard.\n",
    "\n",
    "1. Download the data file <code>all_stocks_5yr.csv</code>\n",
    "2. Copy the following code in the following cell (I put all the above code together) into a py file, for example, name it as <code>mydashboard.py</code>\n",
    "3. From Anaconda Navigator, go to your Environment's terminal window (please refer to SoftwareInstruction document). In my case it is \n",
    "<code> cd C:\\Users\\leesi\\usyd\\qbus6860\\2022S2 </code>\n",
    "4. In the terminal window, cd to the folder where you save the <code>mydashboard.py</code> and <code>all_stocks_5yr.csv</code>, then type in the following command\n",
    "      <code>bokeh serve --show mydashboard.py</code>\n",
    "\n",
    "5. A new tab window will be popped out in your browser where you will have the dashboard. See the image at the bottom"
   ]
  },
  {
   "cell_type": "code",
   "execution_count": null,
   "metadata": {},
   "outputs": [],
   "source": [
    "# The codes below are not meant for execution in Jupyter\n",
    "import pandas as pd\n",
    "import numpy as np\n",
    "import random\n",
    "from datetime import datetime as dt\n",
    "from bokeh.io import output_file, show\n",
    "from bokeh.layouts import gridplot, layout\n",
    "from bokeh.palettes import Category20\n",
    "from bokeh.plotting import figure, curdoc\n",
    "from bokeh.models import (ColumnDataSource, CDSView, RadioButtonGroup, GroupFilter, DataTable,\n",
    "                          TableColumn, DateFormatter, CategoricalColorMapper, CheckboxGroup,\n",
    "                          TextInput, Column, Row, Div, HoverTool, Slider, RangeSlider, MultiChoice)\n",
    "# Read the data:\n",
    "data = pd.read_csv('all_stocks_5yr.csv')\n",
    "# Format the date variable to datetime and sort the data by date:\n",
    "data['date'] = pd.to_datetime(data['date'], format='%Y-%m-%d')\n",
    "data.sort_values(by='date', ascending=False, inplace=True)\n",
    "# Create the month and year variables:\n",
    "data['Month'] = pd.to_datetime(data['date']).dt.month\n",
    "data['Year'] = pd.to_datetime(data['date']).dt.year\n",
    "\n",
    "# INITIAL VARIABLES:\n",
    "# Create a sorted list of ticker names:\n",
    "tickers = sorted(list(data.Name.unique()))\n",
    "# Creat a sorted list of months:\n",
    "month = sorted(list(data.Month.unique()))\n",
    "# Creat a sorted list of years:\n",
    "year = sorted(list(data.Year.unique()))\n",
    "\n",
    "# WIDGETS:\n",
    "# Initialize the ticker choice:\n",
    "ticker_button = MultiChoice(value=tickers[:2], options=tickers)\n",
    "# Initialize the year slider:\n",
    "year_slider = Slider(start=year[0], end=year[-1], value=year[1], step=1, title='Year')\n",
    "# Initialize the month range slider:\n",
    "month_slider = RangeSlider(start=month[0], end=month[-1], value=month[:2], step=1, title='Month')\n",
    "\n",
    "\n",
    "# Filter the initial data source:\n",
    "df = data[(data['Name'].isin(ticker_button.value)) & (data['Month'] >= month_slider.value[0]) & (data['Month'] <= month_slider.value[1]) & (data['Year'] == year_slider.value)]\n",
    "# Pass the filtered data source to the ColumnDataSource class:\n",
    "source = ColumnDataSource(data=df)\n",
    "\n",
    "# TABLE\n",
    "# Creating the list of columns:\n",
    "columns = [\n",
    "        TableColumn(field=\"date\", title=\"Date\", formatter=DateFormatter(format=\"%Y-%m-%d\")),\n",
    "        TableColumn(field=\"Name\", title=\"Name\"),\n",
    "        TableColumn(field=\"close\", title=\"Close\"),\n",
    "    ]\n",
    "# Initializing the table:\n",
    "table = DataTable(source=source, columns=columns, height=500)\n",
    "\n",
    "# PLOT\n",
    "def plot_function(tickers):\n",
    "    # Getting some colors:\n",
    "    colors = list(Category20.values())[17]\n",
    "    random_colors = []\n",
    "    for c in range(len(tickers)):\n",
    "        random_colors.append(random.choice(colors))\n",
    "\n",
    "    # Create the hovertool:\n",
    "    TOOLTIPS = HoverTool(tooltips=[    ('date', '$x{%Y-%m-%d}'),\n",
    "                   ('close', '$@{close}{0.0}'),\n",
    "                   ('high', '$@{high}{0.0}'),\n",
    "                   ('low', '$@{low}{0.0}'),\n",
    "                   ('volume', '@volume{0.00 a}')],\n",
    "                         formatters={'$x': 'datetime'})\n",
    "\n",
    "    # Create the figure to store all the plot lines in:\n",
    "    p = figure(x_axis_type='datetime', width=1000, height=500)\n",
    "\n",
    "    # Loop through the tickers and colors and create plot line for each:\n",
    "    for t, rc in zip(tickers, random_colors):\n",
    "        view = CDSView(source=source, filters=[GroupFilter(column_name='Name', group=t)])\n",
    "        p.line(x='date', y='close', source=source, view=view, line_color=rc, line_width=4)\n",
    "\n",
    "    # Add the hovertool to the figure:\n",
    "    p.add_tools(TOOLTIPS)\n",
    "    return p\n",
    "p = plot_function(tickers)\n",
    "\n",
    "def text_function(attr, old, new):\n",
    "    new_text = new\n",
    "    old_text = old\n",
    "    text_data = pd.read_json('text_data.json')\n",
    "\n",
    "def filter_function():\n",
    "    # Filter the data according to the widgets:\n",
    "    new_src = data[(data['Name'].isin(ticker_button.value)) & (data['Month'] >= month_slider.value[0]) & (data['Month'] <= month_slider.value[1]) & (data['Year'] == year_slider.value)]\n",
    "\n",
    "    # Replace the data in the current data source with the new data:\n",
    "    source.data = new_src.to_dict('series')\n",
    "\n",
    "def change_function(attr, old, new):\n",
    "    filter_function()\n",
    "\n",
    "ticker_button.on_change('value' ,change_function)\n",
    "month_slider.on_change('value', change_function)\n",
    "year_slider.on_change('value', change_function)\n",
    "\n",
    "# Header\n",
    "title = Div(text='<h1 style=\"text-align: center\">Stock Dashboard</h1>')\n",
    "\n",
    "widgets_col = Column(month_slider, year_slider)\n",
    "widgets_row = Row(widgets_col, ticker_button)\n",
    "layout = layout([[title],\n",
    "                 [widgets_row],\n",
    "                 [p,table]])\n",
    "curdoc().title = 'Stock Dashboard'\n",
    "curdoc().add_root(layout)"
   ]
  },
  {
   "cell_type": "markdown",
   "metadata": {},
   "source": [
    "<hr style=\"border:1px solid gray\"> <center><h1> Alternative Tasks </h1></center><hr style=\"border:1px solid gray\">"
   ]
  },
  {
   "cell_type": "markdown",
   "metadata": {},
   "source": [
    "## Task: Simple Dashboard in Notebook using <code>pandas_bokeh</code>\n",
    "\n",
    "In this task, we will demonstrate how to build an interactive dashboard. The code is adopted from https://www.analyticsvidhya.com/blog/2021/09/building-an-interactive-dashboard-using-bokeh-and-pandas/\n",
    "\n",
    "To run this notebook, you must install <code>pandas_bokeh</code>. If you have not installed it, you can do the following pip install <code>pandas_bokeh</code>.\n",
    "\n",
    "### Step 1.  Import the packages\n",
    "\n",
    "Remember to import <code>pandas</code>, <code>numpy</code> etc before the <code>pandas_bokeh</code> library."
   ]
  },
  {
   "cell_type": "code",
   "execution_count": null,
   "metadata": {},
   "outputs": [],
   "source": [
    "# conda install -c patrikhlobil pandas-bokeh"
   ]
  },
  {
   "cell_type": "code",
   "execution_count": null,
   "metadata": {},
   "outputs": [],
   "source": [
    "import numpy as np\n",
    "import pandas as pd\n",
    "import pandas_bokeh "
   ]
  },
  {
   "cell_type": "markdown",
   "metadata": {},
   "source": [
    "Prepare for plots to be shown inside Notebook.  However if you wish to produce html file for the dashboard, use the following\n",
    "\n",
    "<code>pandas_bokeh.output_file('mydashboard.html')</code>"
   ]
  },
  {
   "cell_type": "code",
   "execution_count": null,
   "metadata": {},
   "outputs": [],
   "source": [
    "pandas_bokeh.output_notebook()"
   ]
  },
  {
   "cell_type": "markdown",
   "metadata": {},
   "source": [
    "### Step 2. Produce some simulated data to draw"
   ]
  },
  {
   "cell_type": "code",
   "execution_count": null,
   "metadata": {},
   "outputs": [],
   "source": [
    "#define the categorical variable\n",
    "category = ['A','B','C']\n",
    "#set random seed to make the dataset reproducible\n",
    "np.random.seed(42)\n",
    "#create a dataset\n",
    "df_random = pd.DataFrame({\n",
    "   'id': np.arange(0, 15),\n",
    "   'month':np.random.randint(1, 12, 15),\n",
    "   'sensor_1': np.random.uniform(0, 1,15),\n",
    "   'sensor_2': np.random.uniform(10, 15, 15),\n",
    "   'sensor_3': np.random.randint(0, 20, 15),\n",
    "   'category': np.random.choice(category, 15, p=[0.2, 0.4, 0.4])\n",
    "})\n",
    "\n",
    "#set index to id column\n",
    "df_random=df_random.set_index('id')\n",
    "df_random"
   ]
  },
  {
   "cell_type": "markdown",
   "metadata": {},
   "source": [
    "### Step 3.   Draw Plots\n",
    "\n",
    "Let us plot the following charts using the pandas_bokeh library-\n",
    "\n",
    "    Line plot\n",
    "    Bar chart\n",
    "    Stacked Bar chart\n",
    "    Scatter plot\n",
    "    Pie chart\n",
    "    Histogram\n",
    "\n",
    "Also please think about how these plotting function of <code>bokeh</code> under <code>pandas</code> are different from plotting function in <code>seaborn</code>."
   ]
  },
  {
   "cell_type": "code",
   "execution_count": null,
   "metadata": {},
   "outputs": [],
   "source": [
    "# Plot1 - Line plot\n",
    "p_line= df_random.groupby(['month']).mean().plot_bokeh(kind=\"line\",y=\"sensor_2\",color='#d01c8b',plot_data_points=True,show_figure=False)\n",
    "\n",
    "# Plot2 - Barplot\n",
    "p_bar = df_random.groupby(['month']).mean().plot_bokeh(kind=\"bar\",show_figure=False)   \n",
    "\n",
    "# Plot3 - stacked bar chart\n",
    "df_sensor=df_random.drop(['month'],axis=1)\n",
    "p_stack=df_sensor.groupby(['category']).mean().plot_bokeh(kind='barh', stacked=True,show_figure=False)  \n",
    "\n",
    "#Plot4 - Scatterplot\n",
    "p_scatter = df_random.plot_bokeh(kind=\"scatter\", x=\"month\", y=\"sensor_2\",category=\"category\",show_figure=False)  \n",
    "\n",
    "#Plot5 - Pie chart\n",
    "p_pie= df_random.groupby(['category']).mean().plot_bokeh.pie(y='sensor_1',show_figure=False)  \n",
    "\n",
    "#Plot6 - Histogram\n",
    "p_hist=df_sensor.plot_bokeh(kind='hist', histogram_type=\"stacked\",bins=6,show_figure=False)  "
   ]
  },
  {
   "cell_type": "markdown",
   "metadata": {},
   "source": [
    "### Step 4. Make the Dashboard"
   ]
  },
  {
   "cell_type": "code",
   "execution_count": null,
   "metadata": {},
   "outputs": [],
   "source": [
    "#Make Dashboard with Grid Layout: \n",
    "pandas_bokeh.plot_grid([[p_line, p_bar,p_stack],[p_scatter, p_pie,p_hist]], plot_width=300)"
   ]
  }
 ],
 "metadata": {
  "kernelspec": {
   "display_name": "Python 3 (ipykernel)",
   "language": "python",
   "name": "python3"
  },
  "language_info": {
   "codemirror_mode": {
    "name": "ipython",
    "version": 3
   },
   "file_extension": ".py",
   "mimetype": "text/x-python",
   "name": "python",
   "nbconvert_exporter": "python",
   "pygments_lexer": "ipython3",
   "version": "3.11.5"
  },
  "latex_envs": {
   "LaTeX_envs_menu_present": true,
   "autoclose": false,
   "autocomplete": true,
   "bibliofile": "biblio.bib",
   "cite_by": "apalike",
   "current_citInitial": 1,
   "eqLabelWithNumbers": true,
   "eqNumInitial": 1,
   "hotkeys": {
    "equation": "Ctrl-E",
    "itemize": "Ctrl-I"
   },
   "labels_anchors": false,
   "latex_user_defs": false,
   "report_style_numbering": false,
   "user_envs_cfg": false
  },
  "varInspector": {
   "cols": {
    "lenName": 16,
    "lenType": 16,
    "lenVar": 40
   },
   "kernels_config": {
    "python": {
     "delete_cmd_postfix": "",
     "delete_cmd_prefix": "del ",
     "library": "var_list.py",
     "varRefreshCmd": "print(var_dic_list())"
    },
    "r": {
     "delete_cmd_postfix": ") ",
     "delete_cmd_prefix": "rm(",
     "library": "var_list.r",
     "varRefreshCmd": "cat(var_dic_list()) "
    }
   },
   "types_to_exclude": [
    "module",
    "function",
    "builtin_function_or_method",
    "instance",
    "_Feature"
   ],
   "window_display": false
  }
 },
 "nbformat": 4,
 "nbformat_minor": 2
}
