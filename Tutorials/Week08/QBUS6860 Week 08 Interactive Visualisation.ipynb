{
 "cells": [
  {
   "cell_type": "markdown",
   "metadata": {},
   "source": [
    "<center><h1>QBUS6860 - Visual Data Analytics</h1></center>"
   ]
  },
  {
   "cell_type": "markdown",
   "metadata": {},
   "source": [
    "# Tutorial 08 - Interactive visualizations and dashboards\n",
    "\n",
    "## Learning objectives and tasks:\n",
    "\n",
    "1. Produce a dynamic map to present historical land temperature\n",
    "2. Expand on an existing script of a dashboard created using <code>dash</code>\n",
    "3. Demonstration: Create a standalone interactive dashboard with <code>bokeh</code>"
   ]
  },
  {
   "cell_type": "code",
   "execution_count": 1,
   "metadata": {},
   "outputs": [],
   "source": [
    "import seaborn as sns\n",
    "import matplotlib.pyplot as plt\n",
    "import pandas as pd\n",
    "import plotly.express as px\n",
    "from dash import Dash, dcc, html, Input, Output"
   ]
  },
  {
   "cell_type": "markdown",
   "metadata": {},
   "source": [
    "## Task 1: Dynamic map to present historical land temperature globally"
   ]
  },
  {
   "cell_type": "markdown",
   "metadata": {},
   "source": [
    "### Step 1: Importing Data \n"
   ]
  },
  {
   "cell_type": "code",
   "execution_count": 2,
   "metadata": {},
   "outputs": [
    {
     "ename": "FileNotFoundError",
     "evalue": "[Errno 2] No such file or directory: '/Users/leesi/usyd/qbus6860/data/GlobalLandTemperaturesByCountry.csv'",
     "output_type": "error",
     "traceback": [
      "\u001b[0;31m---------------------------------------------------------------------------\u001b[0m",
      "\u001b[0;31mFileNotFoundError\u001b[0m                         Traceback (most recent call last)",
      "\u001b[0;32m<ipython-input-2-e0fd986886e6>\u001b[0m in \u001b[0;36m<module>\u001b[0;34m\u001b[0m\n\u001b[0;32m----> 1\u001b[0;31m \u001b[0mdf\u001b[0m \u001b[0;34m=\u001b[0m \u001b[0mpd\u001b[0m\u001b[0;34m.\u001b[0m\u001b[0mread_csv\u001b[0m\u001b[0;34m(\u001b[0m\u001b[0;34mr'/Users/leesi/usyd/qbus6860/data/GlobalLandTemperaturesByCountry.csv'\u001b[0m\u001b[0;34m)\u001b[0m\u001b[0;34m\u001b[0m\u001b[0;34m\u001b[0m\u001b[0m\n\u001b[0m\u001b[1;32m      2\u001b[0m \u001b[0mdf\u001b[0m\u001b[0;34m.\u001b[0m\u001b[0mhead\u001b[0m\u001b[0;34m(\u001b[0m\u001b[0;34m)\u001b[0m\u001b[0;34m\u001b[0m\u001b[0;34m\u001b[0m\u001b[0m\n",
      "\u001b[0;32m~/anaconda3/lib/python3.8/site-packages/pandas/io/parsers.py\u001b[0m in \u001b[0;36mread_csv\u001b[0;34m(filepath_or_buffer, sep, delimiter, header, names, index_col, usecols, squeeze, prefix, mangle_dupe_cols, dtype, engine, converters, true_values, false_values, skipinitialspace, skiprows, skipfooter, nrows, na_values, keep_default_na, na_filter, verbose, skip_blank_lines, parse_dates, infer_datetime_format, keep_date_col, date_parser, dayfirst, cache_dates, iterator, chunksize, compression, thousands, decimal, lineterminator, quotechar, quoting, doublequote, escapechar, comment, encoding, dialect, error_bad_lines, warn_bad_lines, delim_whitespace, low_memory, memory_map, float_precision)\u001b[0m\n\u001b[1;32m    684\u001b[0m     )\n\u001b[1;32m    685\u001b[0m \u001b[0;34m\u001b[0m\u001b[0m\n\u001b[0;32m--> 686\u001b[0;31m     \u001b[0;32mreturn\u001b[0m \u001b[0m_read\u001b[0m\u001b[0;34m(\u001b[0m\u001b[0mfilepath_or_buffer\u001b[0m\u001b[0;34m,\u001b[0m \u001b[0mkwds\u001b[0m\u001b[0;34m)\u001b[0m\u001b[0;34m\u001b[0m\u001b[0;34m\u001b[0m\u001b[0m\n\u001b[0m\u001b[1;32m    687\u001b[0m \u001b[0;34m\u001b[0m\u001b[0m\n\u001b[1;32m    688\u001b[0m \u001b[0;34m\u001b[0m\u001b[0m\n",
      "\u001b[0;32m~/anaconda3/lib/python3.8/site-packages/pandas/io/parsers.py\u001b[0m in \u001b[0;36m_read\u001b[0;34m(filepath_or_buffer, kwds)\u001b[0m\n\u001b[1;32m    450\u001b[0m \u001b[0;34m\u001b[0m\u001b[0m\n\u001b[1;32m    451\u001b[0m     \u001b[0;31m# Create the parser.\u001b[0m\u001b[0;34m\u001b[0m\u001b[0;34m\u001b[0m\u001b[0;34m\u001b[0m\u001b[0m\n\u001b[0;32m--> 452\u001b[0;31m     \u001b[0mparser\u001b[0m \u001b[0;34m=\u001b[0m \u001b[0mTextFileReader\u001b[0m\u001b[0;34m(\u001b[0m\u001b[0mfp_or_buf\u001b[0m\u001b[0;34m,\u001b[0m \u001b[0;34m**\u001b[0m\u001b[0mkwds\u001b[0m\u001b[0;34m)\u001b[0m\u001b[0;34m\u001b[0m\u001b[0;34m\u001b[0m\u001b[0m\n\u001b[0m\u001b[1;32m    453\u001b[0m \u001b[0;34m\u001b[0m\u001b[0m\n\u001b[1;32m    454\u001b[0m     \u001b[0;32mif\u001b[0m \u001b[0mchunksize\u001b[0m \u001b[0;32mor\u001b[0m \u001b[0miterator\u001b[0m\u001b[0;34m:\u001b[0m\u001b[0;34m\u001b[0m\u001b[0;34m\u001b[0m\u001b[0m\n",
      "\u001b[0;32m~/anaconda3/lib/python3.8/site-packages/pandas/io/parsers.py\u001b[0m in \u001b[0;36m__init__\u001b[0;34m(self, f, engine, **kwds)\u001b[0m\n\u001b[1;32m    944\u001b[0m             \u001b[0mself\u001b[0m\u001b[0;34m.\u001b[0m\u001b[0moptions\u001b[0m\u001b[0;34m[\u001b[0m\u001b[0;34m\"has_index_names\"\u001b[0m\u001b[0;34m]\u001b[0m \u001b[0;34m=\u001b[0m \u001b[0mkwds\u001b[0m\u001b[0;34m[\u001b[0m\u001b[0;34m\"has_index_names\"\u001b[0m\u001b[0;34m]\u001b[0m\u001b[0;34m\u001b[0m\u001b[0;34m\u001b[0m\u001b[0m\n\u001b[1;32m    945\u001b[0m \u001b[0;34m\u001b[0m\u001b[0m\n\u001b[0;32m--> 946\u001b[0;31m         \u001b[0mself\u001b[0m\u001b[0;34m.\u001b[0m\u001b[0m_make_engine\u001b[0m\u001b[0;34m(\u001b[0m\u001b[0mself\u001b[0m\u001b[0;34m.\u001b[0m\u001b[0mengine\u001b[0m\u001b[0;34m)\u001b[0m\u001b[0;34m\u001b[0m\u001b[0;34m\u001b[0m\u001b[0m\n\u001b[0m\u001b[1;32m    947\u001b[0m \u001b[0;34m\u001b[0m\u001b[0m\n\u001b[1;32m    948\u001b[0m     \u001b[0;32mdef\u001b[0m \u001b[0mclose\u001b[0m\u001b[0;34m(\u001b[0m\u001b[0mself\u001b[0m\u001b[0;34m)\u001b[0m\u001b[0;34m:\u001b[0m\u001b[0;34m\u001b[0m\u001b[0;34m\u001b[0m\u001b[0m\n",
      "\u001b[0;32m~/anaconda3/lib/python3.8/site-packages/pandas/io/parsers.py\u001b[0m in \u001b[0;36m_make_engine\u001b[0;34m(self, engine)\u001b[0m\n\u001b[1;32m   1176\u001b[0m     \u001b[0;32mdef\u001b[0m \u001b[0m_make_engine\u001b[0m\u001b[0;34m(\u001b[0m\u001b[0mself\u001b[0m\u001b[0;34m,\u001b[0m \u001b[0mengine\u001b[0m\u001b[0;34m=\u001b[0m\u001b[0;34m\"c\"\u001b[0m\u001b[0;34m)\u001b[0m\u001b[0;34m:\u001b[0m\u001b[0;34m\u001b[0m\u001b[0;34m\u001b[0m\u001b[0m\n\u001b[1;32m   1177\u001b[0m         \u001b[0;32mif\u001b[0m \u001b[0mengine\u001b[0m \u001b[0;34m==\u001b[0m \u001b[0;34m\"c\"\u001b[0m\u001b[0;34m:\u001b[0m\u001b[0;34m\u001b[0m\u001b[0;34m\u001b[0m\u001b[0m\n\u001b[0;32m-> 1178\u001b[0;31m             \u001b[0mself\u001b[0m\u001b[0;34m.\u001b[0m\u001b[0m_engine\u001b[0m \u001b[0;34m=\u001b[0m \u001b[0mCParserWrapper\u001b[0m\u001b[0;34m(\u001b[0m\u001b[0mself\u001b[0m\u001b[0;34m.\u001b[0m\u001b[0mf\u001b[0m\u001b[0;34m,\u001b[0m \u001b[0;34m**\u001b[0m\u001b[0mself\u001b[0m\u001b[0;34m.\u001b[0m\u001b[0moptions\u001b[0m\u001b[0;34m)\u001b[0m\u001b[0;34m\u001b[0m\u001b[0;34m\u001b[0m\u001b[0m\n\u001b[0m\u001b[1;32m   1179\u001b[0m         \u001b[0;32melse\u001b[0m\u001b[0;34m:\u001b[0m\u001b[0;34m\u001b[0m\u001b[0;34m\u001b[0m\u001b[0m\n\u001b[1;32m   1180\u001b[0m             \u001b[0;32mif\u001b[0m \u001b[0mengine\u001b[0m \u001b[0;34m==\u001b[0m \u001b[0;34m\"python\"\u001b[0m\u001b[0;34m:\u001b[0m\u001b[0;34m\u001b[0m\u001b[0;34m\u001b[0m\u001b[0m\n",
      "\u001b[0;32m~/anaconda3/lib/python3.8/site-packages/pandas/io/parsers.py\u001b[0m in \u001b[0;36m__init__\u001b[0;34m(self, src, **kwds)\u001b[0m\n\u001b[1;32m   2006\u001b[0m         \u001b[0mkwds\u001b[0m\u001b[0;34m[\u001b[0m\u001b[0;34m\"usecols\"\u001b[0m\u001b[0;34m]\u001b[0m \u001b[0;34m=\u001b[0m \u001b[0mself\u001b[0m\u001b[0;34m.\u001b[0m\u001b[0musecols\u001b[0m\u001b[0;34m\u001b[0m\u001b[0;34m\u001b[0m\u001b[0m\n\u001b[1;32m   2007\u001b[0m \u001b[0;34m\u001b[0m\u001b[0m\n\u001b[0;32m-> 2008\u001b[0;31m         \u001b[0mself\u001b[0m\u001b[0;34m.\u001b[0m\u001b[0m_reader\u001b[0m \u001b[0;34m=\u001b[0m \u001b[0mparsers\u001b[0m\u001b[0;34m.\u001b[0m\u001b[0mTextReader\u001b[0m\u001b[0;34m(\u001b[0m\u001b[0msrc\u001b[0m\u001b[0;34m,\u001b[0m \u001b[0;34m**\u001b[0m\u001b[0mkwds\u001b[0m\u001b[0;34m)\u001b[0m\u001b[0;34m\u001b[0m\u001b[0;34m\u001b[0m\u001b[0m\n\u001b[0m\u001b[1;32m   2009\u001b[0m         \u001b[0mself\u001b[0m\u001b[0;34m.\u001b[0m\u001b[0munnamed_cols\u001b[0m \u001b[0;34m=\u001b[0m \u001b[0mself\u001b[0m\u001b[0;34m.\u001b[0m\u001b[0m_reader\u001b[0m\u001b[0;34m.\u001b[0m\u001b[0munnamed_cols\u001b[0m\u001b[0;34m\u001b[0m\u001b[0;34m\u001b[0m\u001b[0m\n\u001b[1;32m   2010\u001b[0m \u001b[0;34m\u001b[0m\u001b[0m\n",
      "\u001b[0;32mpandas/_libs/parsers.pyx\u001b[0m in \u001b[0;36mpandas._libs.parsers.TextReader.__cinit__\u001b[0;34m()\u001b[0m\n",
      "\u001b[0;32mpandas/_libs/parsers.pyx\u001b[0m in \u001b[0;36mpandas._libs.parsers.TextReader._setup_parser_source\u001b[0;34m()\u001b[0m\n",
      "\u001b[0;31mFileNotFoundError\u001b[0m: [Errno 2] No such file or directory: '/Users/leesi/usyd/qbus6860/data/GlobalLandTemperaturesByCountry.csv'"
     ]
    }
   ],
   "source": [
    "df = pd.read_csv(r'/Users/leesi/usyd/qbus6860/data/GlobalLandTemperaturesByCountry.csv')\n",
    "df.head()"
   ]
  },
  {
   "cell_type": "markdown",
   "metadata": {},
   "source": [
    "### Step 2: Let's explore the data a bit more"
   ]
  },
  {
   "cell_type": "code",
   "execution_count": null,
   "metadata": {},
   "outputs": [],
   "source": [
    "print(df.head())"
   ]
  },
  {
   "cell_type": "code",
   "execution_count": null,
   "metadata": {},
   "outputs": [],
   "source": [
    "print(df.tail())"
   ]
  },
  {
   "cell_type": "code",
   "execution_count": null,
   "metadata": {},
   "outputs": [],
   "source": [
    "df.isnull().sum()"
   ]
  },
  {
   "cell_type": "markdown",
   "metadata": {},
   "source": [
    "### Step 3: Let's clean the data\n",
    "\n",
    "#### 1) We will drop “AverageTemperatureUncertainty” as we will not need it"
   ]
  },
  {
   "cell_type": "code",
   "execution_count": null,
   "metadata": {},
   "outputs": [],
   "source": [
    "df = df.drop(\"AverageTemperatureUncertainty\", axis=1)"
   ]
  },
  {
   "cell_type": "markdown",
   "metadata": {},
   "source": [
    "#### 2) We will rename columns to have a better workable columns"
   ]
  },
  {
   "cell_type": "code",
   "execution_count": null,
   "metadata": {},
   "outputs": [],
   "source": [
    "df = df.rename(columns={'dt':'Date'})\n",
    "df = df.rename(columns={'AverageTemperature':'AvTemp'})"
   ]
  },
  {
   "cell_type": "markdown",
   "metadata": {},
   "source": [
    "#### 3) Finally, we will drop the rows with the null values  \n",
    "\n",
    "We have around 32000 rows with null values in AverageTemperature column. And in total we have around 577000 rows, so dropping them will not affect our analysis"
   ]
  },
  {
   "cell_type": "code",
   "execution_count": null,
   "metadata": {},
   "outputs": [],
   "source": [
    "df = df.dropna()"
   ]
  },
  {
   "cell_type": "markdown",
   "metadata": {},
   "source": [
    "#### 4) Now we cleansed the data so let's have a look at the new dataset to check it\n",
    "\n",
    "I like to look at first few rows of my data (you might want to look at fewer rows)"
   ]
  },
  {
   "cell_type": "code",
   "execution_count": null,
   "metadata": {},
   "outputs": [],
   "source": [
    "df.head(10)"
   ]
  },
  {
   "cell_type": "markdown",
   "metadata": {},
   "source": [
    "### Step 4: Now we need to filter data\n",
    "\n",
    "#### 1) We will group the dataframe by Country name and the date.  \n",
    "#### 2) We will also sort the values by date from latest to earliest time (luckily in Python we can do it together with grouping operation 1) above.\n",
    "\n"
   ]
  },
  {
   "cell_type": "code",
   "execution_count": null,
   "metadata": {},
   "outputs": [],
   "source": [
    "df_countries = df.groupby(['Country', 'Date']).sum().reset_index().sort_values('Date', ascending=False)\n",
    "df_countries.head(10)"
   ]
  },
  {
   "cell_type": "markdown",
   "metadata": {},
   "source": [
    "Our historical climate data is showing temperatures for all months between 1744 to 2013.  That's too much data, so let's work with a selection from 2005 to 2013.\n",
    "You can select longer period, but it will take time to get a map.  If getting a map takes too long, select a shorter time period (play around, try different periods)"
   ]
  },
  {
   "cell_type": "code",
   "execution_count": null,
   "metadata": {},
   "outputs": [],
   "source": [
    "start_date = '2005-01-01'\n",
    "end_date = '2013-01-01'\n",
    "\n",
    "mask = (df_countries['Date'] > start_date) & (df_countries['Date'] <= end_date)\n",
    "df_countries = df_countries.loc[mask]\n",
    "df_countries.head(5)"
   ]
  },
  {
   "cell_type": "markdown",
   "metadata": {},
   "source": [
    "### Step 5: Overall visualisation"
   ]
  },
  {
   "cell_type": "code",
   "execution_count": null,
   "metadata": {},
   "outputs": [],
   "source": [
    "# Reorder the dataframe by ascending order of date and country name\n",
    "df_countrydate = df_countries.groupby(['Date','Country']).sum().reset_index()\n",
    "df_countrydate.head(5)"
   ]
  },
  {
   "cell_type": "markdown",
   "metadata": {},
   "source": [
    "**Exercise 1:** Using the image of the dynamic map below as a guide, complete the blanks in the codes:"
   ]
  },
  {
   "cell_type": "markdown",
   "metadata": {},
   "source": [
    "<img src = 'tutorial7_task1.png' />"
   ]
  },
  {
   "cell_type": "code",
   "execution_count": null,
   "metadata": {},
   "outputs": [],
   "source": [
    "import plotly.express as px\n",
    "import plotly.graph_objs as go\n",
    "from plotly.subplots import make_subplots\n",
    "from plotly.offline import download_plotlyjs, init_notebook_mode, plot, iplot\n",
    "\n",
    "# Create the visualization\n",
    "# For more information: https://plotly.com/python-api-reference/generated/plotly.express.choropleth.html\n",
    "fig = px.choropleth(df_countrydate,\n",
    "    locations=\"       \",\n",
    "    locationmode = \"             \",\n",
    "    color=\"    \",\n",
    "    hover_name=\"Country\",\n",
    "    animation_frame=\"    \"\n",
    "    )\n",
    "\n",
    "fig.update_layout(\n",
    "    title_text = '                ',\n",
    "    title_x = 0.5,\n",
    "    geo=dict(\n",
    "        showframe = ,\n",
    "        showcoastlines = False,\n",
    "        ))\n",
    "\n",
    "fig.show() "
   ]
  },
  {
   "cell_type": "code",
   "execution_count": null,
   "metadata": {},
   "outputs": [],
   "source": [
    "# Solutions\n",
    "import plotly.express as px\n",
    "import plotly.graph_objs as go\n",
    "from plotly.subplots import make_subplots\n",
    "from plotly.offline import download_plotlyjs, init_notebook_mode, plot, iplot\n",
    "\n",
    "# Create the visualization\n",
    "fig = px.choropleth(df_countrydate,\n",
    "    locations=\"Country\",\n",
    "    locationmode = \"country names\",\n",
    "    color=\"AvTemp\",\n",
    "    hover_name=\"Country\",\n",
    "    animation_frame=\"Date\"\n",
    "    )\n",
    "\n",
    "fig.update_layout(\n",
    "    title_text = 'Average Monthly Temperature Change 2005-2013',\n",
    "    title_x = 0.5,\n",
    "    geo=dict(\n",
    "        showframe = False,\n",
    "        showcoastlines = False,\n",
    "        ))\n",
    "\n",
    "fig.show() "
   ]
  },
  {
   "cell_type": "markdown",
   "metadata": {},
   "source": [
    "> Ask yourself:\n",
    "> 1. What is your experience like when you watched the dynamic map play?\n",
    "> 2. What would you change in this dynamic map?"
   ]
  },
  {
   "cell_type": "markdown",
   "metadata": {},
   "source": [
    "## Task 2: Expand on an existing script of a dashboard created using <code>dash</code>\n",
    "\n",
    "In this task, we will learn to expand the functionality and the look of the dashboard that was presented during Lecture 7. As a quick re-cap, the original underlying dataframe behind the dashboard, and the content of the dashboard (which changes according to the slider) are seen below:"
   ]
  },
  {
   "cell_type": "code",
   "execution_count": null,
   "metadata": {},
   "outputs": [],
   "source": [
    "df = px.data.gapminder()\n",
    "df.head(3)"
   ]
  },
  {
   "cell_type": "markdown",
   "metadata": {},
   "source": [
    "<img src = 'tutorial7_lecture.png' />"
   ]
  },
  {
   "cell_type": "markdown",
   "metadata": {},
   "source": [
    "**Note:** The script below, adapted from Lecture 7 is <u>**not**</u> meant to be executed in this Jupyter notebook. Refer to slide 23 of Lecture 7 for instructions."
   ]
  },
  {
   "cell_type": "code",
   "execution_count": null,
   "metadata": {},
   "outputs": [],
   "source": [
    "from dash import Dash, dcc, html, Input, Output\n",
    "import plotly.express as px\n",
    "\n",
    "app = Dash(__name__)\n",
    "\n",
    "# The layout describes what the app looks like using HTML. The layout is a hierarchical tree of components\n",
    "# For more information: https://dash.plotly.com/dash-html-components\n",
    "app.layout = html.Div([\n",
    "\n",
    "    # This is an interactive graph component. \n",
    "    # For more information: https://dash.plotly.com/interactive-graphing & https://dash.plotly.com/dash-core-components/graph\n",
    "    dcc.Graph(id=\"scatter-plot\"),\n",
    "    html.P(\"Select a year:\"),\n",
    "    dcc.Slider(1952,2007,5,\n",
    "        value = 1952,\n",
    "        id='year-slider',\n",
    "        marks={i: '{}'.format(i) for i in range(1952,2007,5)}\n",
    "    )\n",
    "])\n",
    "\n",
    "# This is a callback decorator, which functions to change an output based on an input \n",
    "# The component_id and component_property keywords are optional\n",
    "# For more information: https://dash.plotly.com/basic-callbacks\n",
    "@app.callback(\n",
    "    Output(component_id=\"scatter-plot\", component_property=\"figure\"), \n",
    "    Input(component_id=\"year-slider\", component_property=\"value\")\n",
    "    )\n",
    "\n",
    "def update_plot(year, continent):\n",
    "    \n",
    "    # replace with your own data source\n",
    "    gm = px.data.gapminder()\n",
    "    \n",
    "    # using filtered data frame\n",
    "    gmy = gm[gm['year']==year]\n",
    "\n",
    "    # standard plotly graph - plotly documentation includes template codes for Dash\n",
    "    fig = px.scatter( \n",
    "        gmy, y='lifeExp', x='gdpPercap',\n",
    "        size='pop', color= 'continent', hover_data = ['country'],\n",
    "        log_x=True, log_y = True,\n",
    "        title = 'Health vs. Wealth across the world in '+str(year)\n",
    "    )\n",
    "    return fig\n",
    "\n",
    "app.run_server(debug=True)"
   ]
  },
  {
   "cell_type": "markdown",
   "metadata": {},
   "source": [
    "**Exercise 2:** Fill in the blanks below (and run the script in your terminal separately) to create an updated dashboard which now contains:\n",
    "\n",
    "1. A markdown for description\n",
    "2. Checkboxes for each continent\n",
    "3. Actions in checkboxes that update the underlying dataframe"
   ]
  },
  {
   "cell_type": "markdown",
   "metadata": {},
   "source": [
    "<img src = 'tutorial7_task2.png' />"
   ]
  },
  {
   "cell_type": "code",
   "execution_count": null,
   "metadata": {},
   "outputs": [],
   "source": [
    "from dash import Dash, dcc, html, Input, Output\n",
    "import plotly.express as px\n",
    "\n",
    "app = Dash(__name__)\n",
    "\n",
    "##### Fill in the blanks with your code here #####\n",
    "markdown_text = '''\n",
    "\n",
    "\n",
    "'''\n",
    "\n",
    "# The layout describes what the app looks like using HTML. The layout is a hierarchical tree of components\n",
    "# For more information: https://dash.plotly.com/dash-html-components\n",
    "app.layout = html.Div([\n",
    "\n",
    "    # This is a markdown component, a Dash Core Component. DCCs are interactive components\n",
    "    # For more information: https://dash.plotly.com/dash-core-components\n",
    "    dcc.Markdown(children=             ),                                       ##### Fill in the blanks with your code here #####\n",
    "\n",
    "    # This is an interactive graph component. \n",
    "    # For more information: https://dash.plotly.com/interactive-graphing & https://dash.plotly.com/dash-core-components/graph\n",
    "    dcc.Graph(id=\"scatter-plot\"),\n",
    "    html.P(\"Select a year:\"),\n",
    "    dcc.Slider(1952,2007,5,\n",
    "        value = 1952,\n",
    "        id='year-slider',\n",
    "        marks={i: '{}'.format(i) for i in range(1952,2007,5)}\n",
    "    ),\n",
    "    \n",
    "    html.Br(),                                                                       \n",
    "    html.Label(\"                                                 :\"),           ##### Fill in the blanks with your code here ##### \n",
    "    dcc.Checklist(options=[                                                 ],  ##### Fill in the blanks with your code here ##### \n",
    "        value=[                                                 ],              ##### Fill in the blanks with your code here ##### \n",
    "        inline=True,                                                                 \n",
    "        id='continent-slider'),                                                      \n",
    "])\n",
    "\n",
    "# This is a callback decorator, which functions to change an output based on an input \n",
    "# The component_id and component_property keywords are optional\n",
    "# For more information: https://dash.plotly.com/basic-callbacks\n",
    "@app.callback(\n",
    "    Output(component_id=\"scatter-plot\", component_property=\"figure\"), \n",
    "    Input(component_id=\"year-slider\", component_property=\"value\"),\n",
    "    Input(component_id=\"                \", component_property=\"value\")          ##### Fill in the blanks with your code here #####\n",
    "    )\n",
    "\n",
    "def update_plot(year, continent):\n",
    "    \n",
    "    # replace with your own data source\n",
    "    gm = px.data.gapminder()\n",
    "    \n",
    "    # using filtered data frame\n",
    "    gmy = gm[(gm['year']==year) & (gm['continent'].isin(         ))]            ##### Fill in the blanks with your code here #####\n",
    "\n",
    "    # standard plotly graph - plotly documentation includes template codes for Dash\n",
    "    fig = px.scatter( \n",
    "        gmy, y='lifeExp', x='gdpPercap',\n",
    "        size='pop', color= 'continent', hover_data = ['country'],\n",
    "        log_x=True, log_y = True,\n",
    "        title = 'Health vs. Wealth across the world in '+str(year)\n",
    "    )\n",
    "    return fig\n",
    "\n",
    "app.run_server(debug=True)"
   ]
  },
  {
   "cell_type": "code",
   "execution_count": null,
   "metadata": {},
   "outputs": [],
   "source": [
    "# Solutions:\n",
    "from dash import Dash, dcc, html, Input, Output\n",
    "import plotly.express as px\n",
    "\n",
    "app = Dash(__name__)\n",
    "\n",
    "# new\n",
    "markdown_text = '''\n",
    "#### The bubble chart below describes the relationship between life expectancy, \n",
    "GDP and population (indicated by size of each bubble) across continents in a particular year.\n",
    "'''\n",
    "\n",
    "# The layout describes what the app looks like using HTML. The layout is a hierarchical tree of components\n",
    "# For more information: https://dash.plotly.com/dash-html-components\n",
    "app.layout = html.Div([\n",
    "\n",
    "    # This is a markdown component, a Dash Core Component. DCCs are interactive components\n",
    "    # For more information: https://dash.plotly.com/dash-core-components\n",
    "    dcc.Markdown(children=markdown_text),                                            # new\n",
    "\n",
    "    # This is an interactive graph component. \n",
    "    # For more information: https://dash.plotly.com/interactive-graphing & https://dash.plotly.com/dash-core-components/graph\n",
    "    dcc.Graph(id=\"scatter-plot\"),\n",
    "    html.P(\"Select a year:\"),\n",
    "    dcc.Slider(1952,2007,5,\n",
    "        value = 1952,\n",
    "        id='year-slider',\n",
    "        marks={i: '{}'.format(i) for i in range(1952,2007,5)}\n",
    "    ),\n",
    "\n",
    "    html.Br(),                                                                       # new\n",
    "    html.Label(\"Select continents of interest in checkboxes below:\"),                # new\n",
    "    dcc.Checklist(options=['Asia', 'Europe', 'Africa', 'Americas', 'Oceania'],       # new\n",
    "        value=['Asia', 'Europe', 'Africa', 'Americas', 'Oceania'],                   # new\n",
    "        inline=True,                                                                 # new\n",
    "        id='continent-slider'),                                                      # new\n",
    "])\n",
    "\n",
    "# This is a callback decorator, which functions to change an output based on an input \n",
    "# The component_id and component_property keywords are optional\n",
    "# For more information: https://dash.plotly.com/basic-callbacks\n",
    "@app.callback(\n",
    "    Output(component_id=\"scatter-plot\", component_property=\"figure\"), \n",
    "    Input(component_id=\"year-slider\", component_property=\"value\"),\n",
    "    Input(component_id=\"continent-slider\", component_property=\"value\")               # new\n",
    "    )\n",
    "\n",
    "def update_plot(year, continent):\n",
    "    \n",
    "    # replace with your own data source\n",
    "    gm = px.data.gapminder()\n",
    "    \n",
    "    # using filtered data frame\n",
    "    gmy = gm[(gm['year']==year) & (gm['continent'].isin(continent))]                 # new\n",
    "\n",
    "    # standard plotly graph - plotly documentation includes template codes for Dash\n",
    "    fig = px.scatter( \n",
    "        gmy, y='lifeExp', x='gdpPercap',\n",
    "        size='pop', color= 'continent', hover_data = ['country'],\n",
    "        log_x=True, log_y = True,\n",
    "        title = 'Health vs. Wealth across the world in '+str(year)\n",
    "    )\n",
    "    return fig\n",
    "\n",
    "app.run_server(debug=True)"
   ]
  },
  {
   "cell_type": "markdown",
   "metadata": {},
   "source": [
    "## Task 3: Demonstration: Creating a  <code>bokeh</code> standalone dashboard\n",
    "\n",
    "Now we are going to learn another way of using <code>bokeh</code> to produce more sophisticated dashboard.  We will start with the example from \n",
    "\n",
    "https://optimizemydayjob.medium.com/a-guide-to-interactive-python-dashboards-using-bokeh-2fc4904b20f2\n",
    "\n",
    "Similar to Task 2 above, we will be using a python <code>.py</code> file to create the following dashboard:\n"
   ]
  },
  {
   "cell_type": "markdown",
   "metadata": {},
   "source": [
    "<img src = 'tutorial7_task3.png' />"
   ]
  },
  {
   "cell_type": "markdown",
   "metadata": {},
   "source": [
    "### Step 1.  Import Packages and Load the Data"
   ]
  },
  {
   "cell_type": "code",
   "execution_count": null,
   "metadata": {},
   "outputs": [],
   "source": [
    "import pandas as pd\n",
    "import numpy as np\n",
    "import random\n",
    "from datetime import datetime as dt\n",
    "from bokeh.io import output_file, show\n",
    "from bokeh.layouts import gridplot, layout\n",
    "from bokeh.palettes import Category20\n",
    "from bokeh.plotting import figure, curdoc\n",
    "from bokeh.models import (ColumnDataSource, CDSView, RadioButtonGroup, GroupFilter, DataTable,\n",
    "                          TableColumn, DateFormatter, CategoricalColorMapper, CheckboxGroup,\n",
    "                          TextInput, Column, Row, Div, HoverTool, Slider, RangeSlider, MultiChoice)\n",
    "\n",
    "# Read the data:\n",
    "data = pd.read_csv(r'/Users/leesi/usyd/qbus6860/data/all_stocks_5yr.csv')\n",
    "\n",
    "# Format the date variable to datetime and sort the data by date:\n",
    "data['date'] = pd.to_datetime(data['date'], format='%Y-%m-%d')\n",
    "data.sort_values(by='date', ascending=False, inplace=True)\n",
    "\n",
    "# Create the month and year variables:\n",
    "data['Month'] = pd.to_datetime(data['date']).dt.month\n",
    "data['Year'] = pd.to_datetime(data['date']).dt.year"
   ]
  },
  {
   "cell_type": "markdown",
   "metadata": {},
   "source": [
    "As you can see, after reading in the data, we convert the <code>date</code> column into <code>Datetime</code> objects (we will learn more about this in doing time series plotting), then create two new columns <code>Month</code> and <code>Year</code>.  Please add your code to see the <code>data</code>.\n",
    "\n",
    "### Step 2.   Get Data for Dashboard definition\n",
    "\n",
    "Let us prepare several variables for the use in plotting"
   ]
  },
  {
   "cell_type": "code",
   "execution_count": null,
   "metadata": {},
   "outputs": [],
   "source": [
    "# INITIAL VARIABLES:\n",
    "# Create a sorted list of ticker names:\n",
    "tickers = sorted(list(data.Name.unique()))\n",
    "# Creat a sorted list of months:\n",
    "month = sorted(list(data.Month.unique()))\n",
    "# Creat a sorted list of years:\n",
    "year = sorted(list(data.Year.unique()))"
   ]
  },
  {
   "cell_type": "markdown",
   "metadata": {},
   "source": [
    "### Step 3.  Define Widgets\n",
    "\n",
    "Most of time, similar to any windows, online form etc, we always see such as Button, InputField, Sliders, Droplist etc.  All these are normally called Widgets.  Many apps provide their own ways to produce to be used in an interface design.  <code>bokeh</code> defines all these tools we can use.  We have already import them at the beginning.  The following code will create a MultiChoice (or droplist), a Slider and a RangeSlider for our dashboard."
   ]
  },
  {
   "cell_type": "code",
   "execution_count": null,
   "metadata": {},
   "outputs": [],
   "source": [
    "# WIDGETS:\n",
    "# Initialize the ticker choice:\n",
    "ticker_button = MultiChoice(value=tickers[:2], options=tickers)\n",
    "# Initialize the year slider:\n",
    "year_slider = Slider(start=year[0], end=year[-1], value=year[1], step=1, title='Year')\n",
    "# Initialize the month range slider:\n",
    "month_slider = RangeSlider(start=month[0], end=month[-1], value=month[:2], step=1, title='Month')"
   ]
  },
  {
   "cell_type": "markdown",
   "metadata": {},
   "source": [
    "### Step 4. Organize Data in Table to be shown on the Dashboard\n",
    "\n",
    "Next we prepare the data for the Dashboard that we are going to create. We only pick up the data within the definition of the above three widgets.  In this table, we will only show the Data, Stock Code (Name) and Close prices."
   ]
  },
  {
   "cell_type": "code",
   "execution_count": null,
   "metadata": {},
   "outputs": [],
   "source": [
    "# Filter the initial data source:\n",
    "df = data[(data['Name'].isin(ticker_button.value)) & (data['Month'] >= month_slider.value[0]) & (data['Month'] <= month_slider.value[1]) & (data['Year'] == year_slider.value)]\n",
    "# Pass the filtered data source to the ColumnDataSource class:\n",
    "source = ColumnDataSource(data=df)\n",
    "\n",
    "# TABLE\n",
    "# Creating the list of columns:\n",
    "columns = [\n",
    "        TableColumn(field=\"date\", title=\"Date\", formatter=DateFormatter(format=\"%Y-%m-%d\")),\n",
    "        TableColumn(field=\"Name\", title=\"Name\"),\n",
    "        TableColumn(field=\"close\", title=\"Close\"),\n",
    "    ]\n",
    "# Initializing the table:\n",
    "table = DataTable(source=source, columns=columns, height=500)"
   ]
  },
  {
   "cell_type": "markdown",
   "metadata": {},
   "source": [
    "### Step 5.  Define Actions for Widgets \n",
    "\n",
    "In interactive dashboard, we shall repeatedly draw the plots. So it is better to define our own functions to be called everytime when an update is needed.  For example, <code>plot_function</code> will take the stock names from the droplist (<code>ticker</code>), and pick up the \"close\" prices of those stocks and draw them as lineplots."
   ]
  },
  {
   "cell_type": "code",
   "execution_count": null,
   "metadata": {},
   "outputs": [],
   "source": [
    "# PLOT\n",
    "def plot_function(tickers):\n",
    "    # Getting some colors:\n",
    "    colors = list(Category20.values())[17]\n",
    "    random_colors = []\n",
    "    for c in range(len(tickers)):\n",
    "        random_colors.append(random.choice(colors))\n",
    "\n",
    "    # Create the hovertool:\n",
    "    TOOLTIPS = HoverTool(tooltips=[    ('date', '$x{%Y-%m-%d}'),\n",
    "                   ('close', '$@{close}{0.0}'),\n",
    "                   ('high', '$@{high}{0.0}'),\n",
    "                   ('low', '$@{low}{0.0}'),\n",
    "                   ('volume', '@volume{0.00 a}')],\n",
    "                         formatters={'$x': 'datetime'})\n",
    "\n",
    "    # Create the figure to store all the plot lines in:\n",
    "    p = figure(x_axis_type='datetime', width=1000, height=500)\n",
    "\n",
    "    # Loop through the tickers and colors and create plot line for each:\n",
    "    for t, rc in zip(tickers, random_colors):\n",
    "        view = CDSView(source=source, filters=[GroupFilter(column_name='Name', group=t)])\n",
    "        p.line(x='date', y='close', source=source, view=view, line_color=rc, line_width=4)\n",
    "\n",
    "    # Add the hovertool to the figure:\n",
    "    p.add_tools(TOOLTIPS)\n",
    "    return p\n",
    "p = plot_function(tickers)\n",
    "\n",
    "def text_function(attr, old, new):\n",
    "    new_text = new\n",
    "    old_text = old\n",
    "    text_data = pd.read_json('text_data.json')\n",
    "\n",
    "def filter_function():\n",
    "    # Filter the data according to the widgets:\n",
    "    new_src = data[(data['Name'].isin(ticker_button.value)) & (data['Month'] >= month_slider.value[0]) & (data['Month'] <= month_slider.value[1]) & (data['Year'] == year_slider.value)]\n",
    "\n",
    "    # Replace the data in the current data source with the new data:\n",
    "    source.data = new_src.to_dict('series')\n",
    "\n",
    "def change_function(attr, old, new):\n",
    "    filter_function()\n"
   ]
  },
  {
   "cell_type": "markdown",
   "metadata": {},
   "source": [
    "Now set the function (or action to be taken) to the relevant widgets."
   ]
  },
  {
   "cell_type": "code",
   "execution_count": null,
   "metadata": {},
   "outputs": [],
   "source": [
    "ticker_button.on_change('value', change_function)\n",
    "month_slider.on_change('value', change_function)\n",
    "year_slider.on_change('value', change_function)"
   ]
  },
  {
   "cell_type": "markdown",
   "metadata": {},
   "source": [
    "### Step 6.  Build our Dashboard"
   ]
  },
  {
   "cell_type": "code",
   "execution_count": null,
   "metadata": {},
   "outputs": [],
   "source": [
    "# Header\n",
    "title = Div(text='<h1 style=\"text-align: center\">Stock Dashboard</h1>')\n",
    "\n",
    "widgets_col = Column(month_slider, year_slider)   # Two sliders are arranged in column way\n",
    "widgets_row = Row(widgets_col, ticker_button) \n",
    "layout = layout([[title],\n",
    "                 [widgets_row],\n",
    "                 [p,table]])\n",
    "curdoc().title = 'Stock Dashboard'\n",
    "curdoc().add_root(layout)"
   ]
  },
  {
   "cell_type": "markdown",
   "metadata": {},
   "source": [
    "The above code defines the dashboard layout:  Two sliders are arranged in column way, then on the right is the droplist (ticker_button) from which users can choose different stocks. Finally there are three rows:  A title row at the top showing a title, then the first widgets (two sliders and a droplist), and the last row with a plot (<code>bokeh</code> figure object) and a table."
   ]
  },
  {
   "cell_type": "markdown",
   "metadata": {},
   "source": [
    "### Step 7.  Take it in action\n",
    "\n",
    "If you run the above code step by step, you will see nothing happens in the end.  The reason is, the information can only be shown through the <code>bokeh</code> server. You may follow the following steps to make it happen.\n",
    "\n",
    "How to test this dashboard.\n",
    "\n",
    "1. Download the data file <code>all_stocks_5yr.csv</code>\n",
    "2. Copy the following code in the following cell (I put all the above code together) into a py file, for example, name it as <code>mydashboard.py</code>\n",
    "3. From Anaconda Navigator, go to your Environment's terminal window (please refer to SoftwareInstruction document). In my case it is \n",
    "<code> cd C:\\Users\\leesi\\usyd\\qbus6860\\2022S2 </code>\n",
    "4. In the terminal window, cd to the folder where you save the <code>mydashboard.py</code> and <code>all_stocks_5yr.csv</code>, then type in the following command\n",
    "      <code>bokeh serve --show mydashboard.py</code>\n",
    "\n",
    "5. A new tab window will be popped out in your browser where you will have the dashboard. See the image at the bottom"
   ]
  },
  {
   "cell_type": "code",
   "execution_count": null,
   "metadata": {},
   "outputs": [],
   "source": [
    "# The codes below are not meant for execution in Jupyter\n",
    "import pandas as pd\n",
    "import numpy as np\n",
    "import random\n",
    "from datetime import datetime as dt\n",
    "from bokeh.io import output_file, show\n",
    "from bokeh.layouts import gridplot, layout\n",
    "from bokeh.palettes import Category20\n",
    "from bokeh.plotting import figure, curdoc\n",
    "from bokeh.models import (ColumnDataSource, CDSView, RadioButtonGroup, GroupFilter, DataTable,\n",
    "                          TableColumn, DateFormatter, CategoricalColorMapper, CheckboxGroup,\n",
    "                          TextInput, Column, Row, Div, HoverTool, Slider, RangeSlider, MultiChoice)\n",
    "# Read the data:\n",
    "data = pd.read_csv('all_stocks_5yr.csv')\n",
    "# Format the date variable to datetime and sort the data by date:\n",
    "data['date'] = pd.to_datetime(data['date'], format='%Y-%m-%d')\n",
    "data.sort_values(by='date', ascending=False, inplace=True)\n",
    "# Create the month and year variables:\n",
    "data['Month'] = pd.to_datetime(data['date']).dt.month\n",
    "data['Year'] = pd.to_datetime(data['date']).dt.year\n",
    "\n",
    "# INITIAL VARIABLES:\n",
    "# Create a sorted list of ticker names:\n",
    "tickers = sorted(list(data.Name.unique()))\n",
    "# Creat a sorted list of months:\n",
    "month = sorted(list(data.Month.unique()))\n",
    "# Creat a sorted list of years:\n",
    "year = sorted(list(data.Year.unique()))\n",
    "\n",
    "# WIDGETS:\n",
    "# Initialize the ticker choice:\n",
    "ticker_button = MultiChoice(value=tickers[:2], options=tickers)\n",
    "# Initialize the year slider:\n",
    "year_slider = Slider(start=year[0], end=year[-1], value=year[1], step=1, title='Year')\n",
    "# Initialize the month range slider:\n",
    "month_slider = RangeSlider(start=month[0], end=month[-1], value=month[:2], step=1, title='Month')\n",
    "\n",
    "\n",
    "# Filter the initial data source:\n",
    "df = data[(data['Name'].isin(ticker_button.value)) & (data['Month'] >= month_slider.value[0]) & (data['Month'] <= month_slider.value[1]) & (data['Year'] == year_slider.value)]\n",
    "# Pass the filtered data source to the ColumnDataSource class:\n",
    "source = ColumnDataSource(data=df)\n",
    "\n",
    "# TABLE\n",
    "# Creating the list of columns:\n",
    "columns = [\n",
    "        TableColumn(field=\"date\", title=\"Date\", formatter=DateFormatter(format=\"%Y-%m-%d\")),\n",
    "        TableColumn(field=\"Name\", title=\"Name\"),\n",
    "        TableColumn(field=\"close\", title=\"Close\"),\n",
    "    ]\n",
    "# Initializing the table:\n",
    "table = DataTable(source=source, columns=columns, height=500)\n",
    "\n",
    "# PLOT\n",
    "def plot_function(tickers):\n",
    "    # Getting some colors:\n",
    "    colors = list(Category20.values())[17]\n",
    "    random_colors = []\n",
    "    for c in range(len(tickers)):\n",
    "        random_colors.append(random.choice(colors))\n",
    "\n",
    "    # Create the hovertool:\n",
    "    TOOLTIPS = HoverTool(tooltips=[    ('date', '$x{%Y-%m-%d}'),\n",
    "                   ('close', '$@{close}{0.0}'),\n",
    "                   ('high', '$@{high}{0.0}'),\n",
    "                   ('low', '$@{low}{0.0}'),\n",
    "                   ('volume', '@volume{0.00 a}')],\n",
    "                         formatters={'$x': 'datetime'})\n",
    "\n",
    "    # Create the figure to store all the plot lines in:\n",
    "    p = figure(x_axis_type='datetime', width=1000, height=500)\n",
    "\n",
    "    # Loop through the tickers and colors and create plot line for each:\n",
    "    for t, rc in zip(tickers, random_colors):\n",
    "        view = CDSView(source=source, filters=[GroupFilter(column_name='Name', group=t)])\n",
    "        p.line(x='date', y='close', source=source, view=view, line_color=rc, line_width=4)\n",
    "\n",
    "    # Add the hovertool to the figure:\n",
    "    p.add_tools(TOOLTIPS)\n",
    "    return p\n",
    "p = plot_function(tickers)\n",
    "\n",
    "def text_function(attr, old, new):\n",
    "    new_text = new\n",
    "    old_text = old\n",
    "    text_data = pd.read_json('text_data.json')\n",
    "\n",
    "def filter_function():\n",
    "    # Filter the data according to the widgets:\n",
    "    new_src = data[(data['Name'].isin(ticker_button.value)) & (data['Month'] >= month_slider.value[0]) & (data['Month'] <= month_slider.value[1]) & (data['Year'] == year_slider.value)]\n",
    "\n",
    "    # Replace the data in the current data source with the new data:\n",
    "    source.data = new_src.to_dict('series')\n",
    "\n",
    "def change_function(attr, old, new):\n",
    "    filter_function()\n",
    "\n",
    "ticker_button.on_change('value' ,change_function)\n",
    "month_slider.on_change('value', change_function)\n",
    "year_slider.on_change('value', change_function)\n",
    "\n",
    "# Header\n",
    "title = Div(text='<h1 style=\"text-align: center\">Stock Dashboard</h1>')\n",
    "\n",
    "widgets_col = Column(month_slider, year_slider)\n",
    "widgets_row = Row(widgets_col, ticker_button)\n",
    "layout = layout([[title],\n",
    "                 [widgets_row],\n",
    "                 [p,table]])\n",
    "curdoc().title = 'Stock Dashboard'\n",
    "curdoc().add_root(layout)"
   ]
  },
  {
   "cell_type": "markdown",
   "metadata": {},
   "source": [
    "<hr style=\"border:1px solid gray\"> <center><h1> Alternative Tasks </h1></center><hr style=\"border:1px solid gray\">"
   ]
  },
  {
   "cell_type": "markdown",
   "metadata": {},
   "source": [
    "## Task: Simple Dashboard in Notebook using <code>pandas_bokeh</code>\n",
    "\n",
    "In this task, we will demonstrate how to build an interactive dashboard. The code is adopted from https://www.analyticsvidhya.com/blog/2021/09/building-an-interactive-dashboard-using-bokeh-and-pandas/\n",
    "\n",
    "To run this notebook, you must install <code>pandas_bokeh</code>. If you have not installed it, you can do the following pip install <code>pandas_bokeh</code>.\n",
    "\n",
    "### Step 1.  Import the packages\n",
    "\n",
    "Remember to import <code>pandas</code>, <code>numpy</code> etc before the <code>pandas_bokeh</code> library."
   ]
  },
  {
   "cell_type": "code",
   "execution_count": null,
   "metadata": {},
   "outputs": [],
   "source": [
    "# conda install -c patrikhlobil pandas-bokeh"
   ]
  },
  {
   "cell_type": "code",
   "execution_count": null,
   "metadata": {},
   "outputs": [],
   "source": [
    "import numpy as np\n",
    "import pandas as pd\n",
    "import pandas_bokeh "
   ]
  },
  {
   "cell_type": "markdown",
   "metadata": {},
   "source": [
    "Prepare for plots to be shown inside Notebook.  However if you wish to produce html file for the dashboard, use the following\n",
    "\n",
    "<code>pandas_bokeh.output_file('mydashboard.html')</code>"
   ]
  },
  {
   "cell_type": "code",
   "execution_count": null,
   "metadata": {},
   "outputs": [],
   "source": [
    "pandas_bokeh.output_notebook()"
   ]
  },
  {
   "cell_type": "markdown",
   "metadata": {},
   "source": [
    "### Step 2. Produce some simulated data to draw"
   ]
  },
  {
   "cell_type": "code",
   "execution_count": null,
   "metadata": {},
   "outputs": [],
   "source": [
    "#define the categorical variable\n",
    "category = ['A','B','C']\n",
    "#set random seed to make the dataset reproducible\n",
    "np.random.seed(42)\n",
    "#create a dataset\n",
    "df_random = pd.DataFrame({\n",
    "   'id': np.arange(0, 15),\n",
    "   'month':np.random.randint(1, 12, 15),\n",
    "   'sensor_1': np.random.uniform(0, 1,15),\n",
    "   'sensor_2': np.random.uniform(10, 15, 15),\n",
    "   'sensor_3': np.random.randint(0, 20, 15),\n",
    "   'category': np.random.choice(category, 15, p=[0.2, 0.4, 0.4])\n",
    "})\n",
    "\n",
    "#set index to id column\n",
    "df_random=df_random.set_index('id')\n",
    "df_random"
   ]
  },
  {
   "cell_type": "markdown",
   "metadata": {},
   "source": [
    "### Step 3.   Draw Plots\n",
    "\n",
    "Let us plot the following charts using the pandas_bokeh library-\n",
    "\n",
    "    Line plot\n",
    "    Bar chart\n",
    "    Stacked Bar chart\n",
    "    Scatter plot\n",
    "    Pie chart\n",
    "    Histogram\n",
    "\n",
    "Also please think about how these plotting function of <code>bokeh</code> under <code>pandas</code> are different from plotting function in <code>seaborn</code>."
   ]
  },
  {
   "cell_type": "code",
   "execution_count": null,
   "metadata": {},
   "outputs": [],
   "source": [
    "# Plot1 - Line plot\n",
    "p_line= df_random.groupby(['month']).mean().plot_bokeh(kind=\"line\",y=\"sensor_2\",color='#d01c8b',plot_data_points=True,show_figure=False)\n",
    "\n",
    "# Plot2 - Barplot\n",
    "p_bar = df_random.groupby(['month']).mean().plot_bokeh(kind=\"bar\",show_figure=False)   \n",
    "\n",
    "# Plot3 - stacked bar chart\n",
    "df_sensor=df_random.drop(['month'],axis=1)\n",
    "p_stack=df_sensor.groupby(['category']).mean().plot_bokeh(kind='barh', stacked=True,show_figure=False)  \n",
    "\n",
    "#Plot4 - Scatterplot\n",
    "p_scatter = df_random.plot_bokeh(kind=\"scatter\", x=\"month\", y=\"sensor_2\",category=\"category\",show_figure=False)  \n",
    "\n",
    "#Plot5 - Pie chart\n",
    "p_pie= df_random.groupby(['category']).mean().plot_bokeh.pie(y='sensor_1',show_figure=False)  \n",
    "\n",
    "#Plot6 - Histogram\n",
    "p_hist=df_sensor.plot_bokeh(kind='hist', histogram_type=\"stacked\",bins=6,show_figure=False)  "
   ]
  },
  {
   "cell_type": "markdown",
   "metadata": {},
   "source": [
    "### Step 4. Make the Dashboard"
   ]
  },
  {
   "cell_type": "code",
   "execution_count": null,
   "metadata": {},
   "outputs": [],
   "source": [
    "#Make Dashboard with Grid Layout: \n",
    "pandas_bokeh.plot_grid([[p_line, p_bar,p_stack],[p_scatter, p_pie,p_hist]], plot_width=300)"
   ]
  }
 ],
 "metadata": {
  "kernelspec": {
   "display_name": "Python 3",
   "language": "python",
   "name": "python3"
  },
  "language_info": {
   "codemirror_mode": {
    "name": "ipython",
    "version": 3
   },
   "file_extension": ".py",
   "mimetype": "text/x-python",
   "name": "python",
   "nbconvert_exporter": "python",
   "pygments_lexer": "ipython3",
   "version": "3.8.5"
  },
  "latex_envs": {
   "LaTeX_envs_menu_present": true,
   "autoclose": false,
   "autocomplete": true,
   "bibliofile": "biblio.bib",
   "cite_by": "apalike",
   "current_citInitial": 1,
   "eqLabelWithNumbers": true,
   "eqNumInitial": 1,
   "hotkeys": {
    "equation": "Ctrl-E",
    "itemize": "Ctrl-I"
   },
   "labels_anchors": false,
   "latex_user_defs": false,
   "report_style_numbering": false,
   "user_envs_cfg": false
  },
  "varInspector": {
   "cols": {
    "lenName": 16,
    "lenType": 16,
    "lenVar": 40
   },
   "kernels_config": {
    "python": {
     "delete_cmd_postfix": "",
     "delete_cmd_prefix": "del ",
     "library": "var_list.py",
     "varRefreshCmd": "print(var_dic_list())"
    },
    "r": {
     "delete_cmd_postfix": ") ",
     "delete_cmd_prefix": "rm(",
     "library": "var_list.r",
     "varRefreshCmd": "cat(var_dic_list()) "
    }
   },
   "types_to_exclude": [
    "module",
    "function",
    "builtin_function_or_method",
    "instance",
    "_Feature"
   ],
   "window_display": false
  }
 },
 "nbformat": 4,
 "nbformat_minor": 2
}
