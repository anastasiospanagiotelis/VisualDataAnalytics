{
 "cells": [
  {
   "cell_type": "markdown",
   "metadata": {},
   "source": [
    "<center><h1>QBUS6860 - Visual Data Analytics</h1></center>"
   ]
  },
  {
   "cell_type": "markdown",
   "metadata": {},
   "source": [
    "# Tutorial 09 - Visualizing networks\n",
    "\n",
    "## Learning objectives and tasks:\n",
    "\n",
    "1. Plotting basic network graphs with <code>networkx</code>\n",
    "2. Interpreting characteristics of a network\n",
    "3. Chord Diagram using <code>bokeh</code> and <code>holoviews</code>\n",
    "4. Sankey Diagram using <code>bokeh</code> and <code>holoviews</code>"
   ]
  },
  {
   "cell_type": "markdown",
   "metadata": {},
   "source": [
    "## Task 1: Drawing a basic network\n",
    "\n",
    "Solve the following problem using network visualisation in Python:\n",
    "\n",
    "### Step 1.  Understand the data\n",
    "\n",
    "A company, producing umbrellas has headquarters in China, keeps warehouses in China, UK, Ireland, USA, Canada, India and Brazil. In each country, it stores the following number of umbrellas (in millions of units):\n",
    "\n",
    "* China=150\n",
    "* UK=25\n",
    "* USA=75\n",
    "* India=15\n",
    "* Canada=40\n",
    "* Ireland=30\n",
    "* Brazil=5\n",
    "\n",
    "The supply chain of the company is organized as follows:\n",
    "\n",
    "* From China, the umbrellas go to the UK, the USA, India and Brazil directly\n",
    "* Umbrellas get to Ireland from the UK\n",
    "* Umbrellas get to Canada from the USA\n",
    "\n",
    "Using network visualisation, plot the company supply chain using \n",
    "\n",
    "(1) continuous color to capture the stock volume\n",
    "\n",
    "(2) [if time permits] discrete color to capture the supply chain groups \n",
    "\n",
    "\n",
    "First you need need install the following packages:"
   ]
  },
  {
   "cell_type": "code",
   "execution_count": null,
   "metadata": {},
   "outputs": [],
   "source": [
    "#pip install decorator==5.0.9"
   ]
  },
  {
   "cell_type": "markdown",
   "metadata": {},
   "source": [
    "### Step 2. Start defining the network"
   ]
  },
  {
   "cell_type": "markdown",
   "metadata": {},
   "source": [
    "We have two key elements of network (edges and nodes). Next, we need to build our graph (instance in memory).<br>\n",
    "\n",
    "<code>**networkx.from_pandas_edgelist(df, source='source', target='target', edge_attr=None, create_using=None, edge_key=None)**</code>.<br>\n",
    "\n",
    "Parameters:\n",
    " - **df** (*Pandas DataFrame*): An edge list representation of a graph\n",
    "\n",
    " - **source** (*str or int*): A valid column name (string or integer) for the source nodes (for the directed case).\n",
    "\n",
    " - **target** (*str or int*): A valid column name (string or integer) for the target nodes (for the directed case).\n",
    "<!--  - **edge_attr** (*str or int, iterable, True, or None): A valid column name (str or int*) or iterable of column names that are used to retrieve items and add them to the graph as edge attributes. If True, all of the remaining columns will be added. If None, no edge attributes are added to the graph. -->\n",
    " - **create_using** (*NetworkX graph constructor, optional (default=nx.Graph)*): Graph type to create. If graph instance, then cleared before populated.\n",
    "\n",
    "<!--  - **edge_key** (*str or None, optional (default=None)*): A valid column name for the edge keys (for a MultiGraph). The values in this column are used for the edge keys when adding edges if create_using is a multigraph. -->\n",
    "\n",
    "- **edge_attr** :adding weight for each edge\n",
    "\n",
    "Build the graph object by <code>nx.from_pandas_edgelist</code>\n",
    "\n",
    "Plot the supply chain network providing a continuous color scale with cmap (we will use Blue color, if you want to use Red colour write \"Reds\" intead of \"Blues\", if you want Green color, use \"Greens\" etc.):\n",
    "\n",
    "<code>**draw(G, pos=None, ax=None, **kwds)**</code><br>\n",
    "Parameters:\n",
    " - **G (*graph*)**: A networkx graph\n",
    "\n",
    " - **pos (*dictionary, optional*)**: A dictionary with nodes as keys and positions as values. If not specified a spring layout positioning will be computed. See networkx.drawing.layout for functions that compute node positions.\n",
    "\n",
    " - **ax (*Matplotlib Axes object, optional*)**: Draw the graph in specified Matplotlib axes."
   ]
  },
  {
   "cell_type": "code",
   "execution_count": null,
   "metadata": {},
   "outputs": [],
   "source": [
    "import pandas as pd\n",
    "import numpy as np\n",
    "import networkx as nx\n",
    "import matplotlib.pyplot as plt\n",
    "\n",
    " \n",
    "# Build a dataframe with your connections\n",
    "# Remember that the \"from\" part should be linked with \"to\" part\n",
    "# In our case, China is linked to India; UK to China; USA to Canada; China to USA; UK to Ireland; and Brazil to China\n",
    "\n",
    "# Yuning's comment\n",
    "# You can think this DataFrame contain the graph topology information\n",
    "# Connection or Edges \n",
    "# create nodes for the graph\n",
    "# from-to: a relationship between the nodes\n",
    "# each row: an edge in the graph\n",
    "\n",
    "\n",
    "df = pd.DataFrame({ 'from':['China', 'UK', 'USA','China','UK', 'Brazil'], \n",
    "                   'to':['India', 'China', 'Canada','USA','Ireland','China']})\n",
    " \n",
    "# Add data frame with characteristics for your nodes (in our case, stock volumes)\n",
    "\n",
    "# Yuning:\n",
    "# This carac contain all node features informations.\n",
    "# Features or Node\n",
    "# name of nodes ---> the number of stock in each warehouse \n",
    "carac = pd.DataFrame({ 'ID':['China', 'UK', 'USA','India','Canada','Ireland','Brazil'], \n",
    "                      'myvalue':['150','25','75','15','40','30','5'] })\n",
    " \n",
    "# Build your graph\n",
    "# Yuning: fisrtly create an empty graph using nx.Graph(), then add edge with the data in df to the empty graph\n",
    "G=nx.from_pandas_edgelist(df, 'from', 'to', create_using=nx.Graph() )\n",
    " \n",
    "# The order of the node for networkX is the following order:\n",
    "G.nodes()\n",
    "# The outcome for this step: NodeView(('China', 'India', 'UK', 'USA', 'Canada', 'Ireland', 'Brazil'))\n",
    "\n",
    "# We cannot give the 'myvalue' column to netowrkX directly: we need to arrange the order.\n",
    " \n",
    "# We need to reorder carac to assign the correct color to each node (the larger the stock, the deeper the colour)\n",
    "carac= carac.set_index('ID') # Setting the row index as ID column\n",
    "carac=carac.reindex(G.nodes()) # Reset index order by Node view\n",
    " \n",
    "# Plot the supply chain network providing a continuous color scale with cmap \n",
    "#(we will use Blue color, if you want to use Red colour write \"Reds\" intead of \"Blues\"\n",
    "# if you want Green color, use \"Greens\", etc.):\n",
    "nx.draw(G, with_labels=True, node_color=carac['myvalue'].astype(int), cmap=plt.cm.Blues)\n",
    "plt.savefig('Network1.png')\n",
    "plt.show()"
   ]
  },
  {
   "cell_type": "markdown",
   "metadata": {},
   "source": [
    "Yuning's comment: The efficiency of this visualization is not good actually, coz the colors are not distinguishable, e.g. comparing UK, Canada and Ireland.\n",
    "\n",
    "Be careful to use it when you have more nodes."
   ]
  },
  {
   "cell_type": "markdown",
   "metadata": {},
   "source": [
    "### Step 3. Using colors for groups\n",
    "\n",
    "Now let's plot the same thing using groupings and discrete color\n",
    "\n",
    "* USA and Canada form a group\n",
    "* UK and Ireland form a group\n",
    "* China, India, and Brazil form their own groups\n",
    "\n",
    "Each group should be plotted using a different colour\n"
   ]
  },
  {
   "cell_type": "markdown",
   "metadata": {},
   "source": [
    "we need to transform our categorical column in a numerical value: group1->0, group2->1...<br>\n",
    "<code>**pandas.Categorical(values, ...)**</code>\n",
    "Parameters:\n",
    "- **values (*list-like*)**: The values of the categorical. If categories are given, values not in categories will be replaced with NaN.\n",
    "\n",
    "<code>**Series.cat.categories**</code>:<br>\n",
    "The categories of this categorical. Setting assigns new values to each category (effectively a rename of each individual category). The assigned value has to be a list-like object. All items must be unique and the number of items in the new categories must be the same as the number of items in the old categories.<br>\n",
    "<br>\n",
    "<code>**Series.cat.codes**</code>:<br>\n",
    "Return Series of codes as well as the index and get the numerical values."
   ]
  },
  {
   "cell_type": "code",
   "execution_count": null,
   "metadata": {},
   "outputs": [],
   "source": [
    "# libraries\n",
    "import pandas as pd\n",
    "import numpy as np\n",
    "import networkx as nx\n",
    "import matplotlib.pyplot as plt\n",
    " \n",
    "# Build a dataframe with your connections (you can copy-paste from the previous graph code)\n",
    "df = pd.DataFrame({ 'from':['China', 'UK', 'USA','China','UK', 'Brazil'], \n",
    "                   'to':['India', 'China', 'Canada','USA','Ireland','China']})\n",
    " \n",
    "# Add data frame with characteristics for your nodes (in our case, supply chain groups)\n",
    "carac = pd.DataFrame({ 'ID':['China', 'UK', 'USA','India','Canada','Ireland','Brazil'], \n",
    "                      'myvalue':['group1','group2','group3','group4','group3', 'group2', 'group5'] })\n",
    " \n",
    "# Build your graph\n",
    "G=nx.from_pandas_edgelist(df, 'from', 'to', create_using=nx.Graph())\n",
    " \n",
    "# The order of the node for networkX is the following order:\n",
    "G.nodes()\n",
    "# We cannot give the 'myvalue' column to netowrkX directly, we need to arrange the order.\n",
    " \n",
    "# Now we reorder carac to assign the correct color to each node\n",
    "carac = carac.set_index('ID')\n",
    "carac = carac.reindex(G.nodes())\n",
    " \n",
    "# And we need to transform our categorical column in a numerical value: group1->1, group2->2...\n",
    "carac['myvalue']=pd.Categorical(carac['myvalue'])\n",
    "carac['myvalue'].cat.codes\n",
    " \n",
    "# Custom the nodes (we will use node size = 800, you can select a lower or higher number):\n",
    "nx.draw(G, with_labels=True, node_color=carac['myvalue'].cat.codes, cmap=plt.cm.Set1, node_size=800)\n",
    "plt.savefig('Network2.png')"
   ]
  },
  {
   "cell_type": "markdown",
   "metadata": {},
   "source": [
    "## Task 2: Interpreting characteristics of a network"
   ]
  },
  {
   "cell_type": "markdown",
   "metadata": {},
   "source": [
    "Centrality algorithms measure how important a node is. This is not a clear definition, but it’s useful when we want to identify important (highly connected, in some cases) nodes or potential bottlenecks (barely connected, in some cases) in network.\n",
    "\n",
    "A walk is a path which can go through a node several times. Centrality measures vary with the type of walk considered and the way of counting them."
   ]
  },
  {
   "cell_type": "markdown",
   "metadata": {},
   "source": [
    "<code>networkx</code> provides a series of functions https://networkx.org/documentation/stable/reference/functions.html and algorithms https://networkx.org/documentation/stable/reference/algorithms/index.htmlto understand and analyze a network."
   ]
  },
  {
   "cell_type": "code",
   "execution_count": null,
   "metadata": {},
   "outputs": [],
   "source": [
    "# Expanding on the previous network from Task 1 to include more nodes and countries\n",
    "df2 = pd.DataFrame({'from':['Brazil', 'Argentina', 'Brazil', 'Chile', 'Canada', 'Argentina', 'Canada', 'Russia', 'Mexico', 'India'], \n",
    "                   'to':['USA', 'Chile', 'Chile', 'Peru', 'Mexico', 'Bolivia', 'Argentina', 'China', 'USA', 'Australia']})\n",
    "edf = pd.concat([df, df2])\n",
    "G = nx.from_pandas_edgelist(edf, 'from', 'to', create_using=nx.Graph())\n",
    "nx.draw(G, with_labels=True, node_size=1000, node_color='grey')"
   ]
  },
  {
   "cell_type": "markdown",
   "metadata": {},
   "source": [
    "### Step 1: Summary statistics"
   ]
  },
  {
   "cell_type": "markdown",
   "metadata": {},
   "source": [
    "Methodology adapted from: https://towardsdatascience.com/introduction-to-graphs-part-1-2de6cda8c5a5"
   ]
  },
  {
   "cell_type": "code",
   "execution_count": null,
   "metadata": {},
   "outputs": [],
   "source": [
    "# Compute number of nodes, edges and metrics\n",
    "nodes = G.number_of_nodes()\n",
    "edges = G.number_of_edges()\n",
    "degrees = list(G.degree())\n",
    "\n",
    "avg_degree = np.mean(np.array(degrees)[:,1].astype(float))\n",
    "med_degree = np.median(np.array(degrees)[:,1].astype(float))\n",
    "max_degree = max(np.array(degrees)[:,1].astype(float))\n",
    "min_degree = np.min(np.array(degrees)[:,1].astype(float))\n",
    "\n",
    "print(\"Number of nodes: \" + str(nodes))\n",
    "print(\"Number of edges: \" + str(edges))\n",
    "print(\"Maximum degree of a node: \" + str(max_degree))\n",
    "print(\"Minimum degree of a node: \" + str(min_degree))\n",
    "print(\"Average degree of nodes: \" + str(avg_degree))\n",
    "print(\"Median degree of nodes: \" + str(med_degree))"
   ]
  },
  {
   "cell_type": "markdown",
   "metadata": {},
   "source": [
    "> Ask yourself: What is your interpretation based on the summary statistics above?"
   ]
  },
  {
   "cell_type": "markdown",
   "metadata": {},
   "source": [
    "### Step 2.1. Degree centrality\n",
    "Degree centrality counts the number of walks of length 1 ending at node i. It is used to identify the most influential node. All the values are standardarised score."
   ]
  },
  {
   "cell_type": "code",
   "execution_count": null,
   "metadata": {},
   "outputs": [],
   "source": [
    "degree_centrality = nx.degree_centrality(G)\n",
    "dict(sorted(degree_centrality.items(), key=lambda item: item[1], reverse=True))"
   ]
  },
  {
   "cell_type": "code",
   "execution_count": null,
   "metadata": {},
   "outputs": [],
   "source": [
    "c_degree = list(degree_centrality.values())\n",
    "nx.draw(G, cmap = plt.get_cmap('tab20'), node_color = c_degree, node_size=1000, with_labels=True)\n",
    "plt.title('Degree Centrality')"
   ]
  },
  {
   "cell_type": "markdown",
   "metadata": {},
   "source": [
    "### Step 2.2. Eigenvector centrality\n",
    "Eigenvector Centrality is the number of walks of infinite length ending at node i. This gives more importance to nodes with well-connected neighbors."
   ]
  },
  {
   "cell_type": "code",
   "execution_count": null,
   "metadata": {},
   "outputs": [],
   "source": [
    "eigenvector_centrality = nx.eigenvector_centrality(G)\n",
    "dict(sorted(eigenvector_centrality.items(), key=lambda item: item[1], reverse=True))"
   ]
  },
  {
   "cell_type": "code",
   "execution_count": null,
   "metadata": {},
   "outputs": [],
   "source": [
    "c_eigenvector = list(eigenvector_centrality.values())\n",
    "nx.draw(G, cmap = plt.get_cmap('tab20'), node_color = c_eigenvector, node_size=1000, with_labels=True)\n",
    "plt.title('Eigenvector Centrality')"
   ]
  },
  {
   "cell_type": "markdown",
   "metadata": {},
   "source": [
    "### Step 2.3. Closeness centrality\n",
    "Closeness Centrality detects nodes that are can spread information efficiently through a graph. It is inversely proportional to the sum of lengths of the shortest paths to other nodes."
   ]
  },
  {
   "cell_type": "code",
   "execution_count": null,
   "metadata": {},
   "outputs": [],
   "source": [
    "closeness_centrality = nx.closeness_centrality(G)\n",
    "dict(sorted(closeness_centrality.items(), key=lambda item: item[1], reverse=True))"
   ]
  },
  {
   "cell_type": "code",
   "execution_count": null,
   "metadata": {},
   "outputs": [],
   "source": [
    "c_closeness = list(closeness_centrality.values())\n",
    "nx.draw(G, cmap = plt.get_cmap('tab20'), node_color = c_closeness, node_size=1000, with_labels=True)\n",
    "plt.title('Closeness Centrality')"
   ]
  },
  {
   "cell_type": "markdown",
   "metadata": {},
   "source": [
    "### Step 2.4. Betweenness centrality\n",
    "Betweenness Centrality detects the amount of influence a node has over the flow of information in a graph. It is often used to find nodes that serve as a bridge from one part of a graph to another"
   ]
  },
  {
   "cell_type": "code",
   "execution_count": null,
   "metadata": {},
   "outputs": [],
   "source": [
    "betweenness_centrality = nx.betweenness_centrality(G)\n",
    "dict(sorted(betweenness_centrality.items(), key=lambda item: item[1], reverse=True))"
   ]
  },
  {
   "cell_type": "code",
   "execution_count": null,
   "metadata": {},
   "outputs": [],
   "source": [
    "c_betweenness = list(betweenness_centrality.values())\n",
    "nx.draw(G, cmap = plt.get_cmap('tab20'), node_color = c_betweenness, node_size=1000, with_labels=True)\n",
    "plt.title('Betweenness Centrality')"
   ]
  },
  {
   "cell_type": "markdown",
   "metadata": {},
   "source": [
    "### Centrality in summary:"
   ]
  },
  {
   "cell_type": "code",
   "execution_count": null,
   "metadata": {},
   "outputs": [],
   "source": [
    "# Set node colors\n",
    "cmap = plt.get_cmap('tab20')\n",
    "\n",
    "# Set node sizes\n",
    "node_sizes = 1000\n",
    "\n",
    "# Set overall figure size\n",
    "f = plt.figure(figsize=(20,20))\n",
    "f.tight_layout()\n",
    "\n",
    "# Subplot 1\n",
    "plt.subplot(2, 2, 1)\n",
    "nx.draw(G, with_labels=True, node_color=c_degree, cmap=cmap, \n",
    "        node_size = node_sizes, edgecolors='gray')\n",
    "plt.title('Degree Centrality', fontsize=18)\n",
    "\n",
    "# Subplot 2\n",
    "plt.subplot(2, 2, 2)\n",
    "nx.draw(G, with_labels=True, node_color=c_eigenvector, cmap=cmap, \n",
    "               node_size = node_sizes, edgecolors='gray')\n",
    "plt.title('Eigenvector Centrality', fontsize=18)\n",
    "\n",
    "# Subplot 3\n",
    "plt.subplot(2, 2, 3)\n",
    "nx.draw(G, with_labels=True, node_color=c_closeness, cmap=cmap, \n",
    "            node_size = node_sizes, edgecolors='gray')\n",
    "plt.title('Closeness Centrality', fontsize=18)\n",
    "\n",
    "# Subplot 4\n",
    "plt.subplot(2, 2, 4)\n",
    "nx.draw(G, with_labels=True, node_color=c_betweenness, cmap=cmap, \n",
    "            node_size = node_sizes, edgecolors='gray')\n",
    "plt.title('Betweenness Centrality', fontsize=18)"
   ]
  },
  {
   "cell_type": "markdown",
   "metadata": {},
   "source": [
    "> Ask yourself:\n",
    "> How would you describe the characteristics of a country (of your choice) based on the visualizations and metrics above?"
   ]
  },
  {
   "cell_type": "markdown",
   "metadata": {},
   "source": [
    "## Task 3:  Chord Diagram using <code>bokeh</code> and <code>holoviews</code>\n",
    "\n",
    "As demonstrated in Lecture example, we can use <code>bokeh</code> along with <code>holoviews</code> to draw Chord Diagrams.\n",
    "Here is a quick example"
   ]
  },
  {
   "cell_type": "markdown",
   "metadata": {},
   "source": [
    "### Step 1.   Importing Packages and Preparing data\n",
    "\n",
    "We will use <code>bokeh</code>'s own datasets."
   ]
  },
  {
   "cell_type": "code",
   "execution_count": null,
   "metadata": {},
   "outputs": [],
   "source": [
    "# pip install holoviews"
   ]
  },
  {
   "cell_type": "code",
   "execution_count": null,
   "metadata": {},
   "outputs": [],
   "source": [
    "import pandas as pd\n",
    "import holoviews as hv\n",
    "from holoviews import opts, dim\n",
    "from bokeh.sampledata.les_mis import data\n",
    "\n",
    "hv.extension('bokeh')\n",
    "hv.output(size=200)\n",
    "\n",
    "\n",
    "# data set, transfer to hv.Dataset format\n",
    "nodes = hv.Dataset(pd.DataFrame(data['nodes']), 'index') \n",
    "links = pd.DataFrame(data['links'])"
   ]
  },
  {
   "cell_type": "code",
   "execution_count": null,
   "metadata": {},
   "outputs": [],
   "source": [
    "data"
   ]
  },
  {
   "cell_type": "code",
   "execution_count": null,
   "metadata": {},
   "outputs": [],
   "source": [
    "nodes"
   ]
  },
  {
   "cell_type": "markdown",
   "metadata": {},
   "source": [
    "As been seen, the variable <code>nodes</code> is a <code>holoviews</code> defined <code>Dataset</code> constructed from the given DataFrame. The purpose of doing so is to add node labels and other information such that the Dataset contains with a key dimension of node indices.\n",
    "\n",
    "More **details** in <code>holoviews.Dataset()</code>, Please check https://holoviews.org/getting_started/Tabular_Datasets.html\n",
    "\n",
    "You may explore the information inside the data and link as follows"
   ]
  },
  {
   "cell_type": "code",
   "execution_count": null,
   "metadata": {},
   "outputs": [],
   "source": [
    "# The environment doesnt have holoview package so you have to install it yourself\n",
    "# pip install holoviews"
   ]
  },
  {
   "cell_type": "markdown",
   "metadata": {},
   "source": [
    "As been seen, the variable <code>nodes</code> is a <code>holoviews</code> defined <code>Dataset</code> constructed from the given DataFrame. The purpose of doing so is to add node labels and other information such that the Dataset contains with a key dimension of node indices.\n",
    "\n",
    "You may explore the information inside the data and link as follows"
   ]
  },
  {
   "cell_type": "code",
   "execution_count": null,
   "metadata": {},
   "outputs": [],
   "source": [
    "nodes_DataFrame = pd.DataFrame(data['nodes'])\n",
    "nodes_DataFrame.head()"
   ]
  },
  {
   "cell_type": "code",
   "execution_count": null,
   "metadata": {},
   "outputs": [],
   "source": [
    "links = pd.DataFrame(data['links']) #value is the info from the edge\n",
    "links.info() "
   ]
  },
  {
   "cell_type": "markdown",
   "metadata": {},
   "source": [
    "### Step 2.  Draw the diagram with added feature"
   ]
  },
  {
   "cell_type": "code",
   "execution_count": null,
   "metadata": {},
   "outputs": [],
   "source": [
    "# chord diagram\n",
    "chord = hv.Chord((links, nodes)).select(value=(5, None))\n",
    "# no more graph object and the data consists link and nodes together,\n",
    "# select the values of links greater or equal than 5\n",
    "chord.opts(\n",
    "    opts.Chord(cmap='Category20', edge_cmap='Category20', edge_color=dim('source').str(), \n",
    "               labels='name', node_color=dim('index').str()))"
   ]
  },
  {
   "cell_type": "markdown",
   "metadata": {},
   "source": [
    "## Task 4:  Sankey Diagram using <code>bokeh</code> and <code>holoviews</code>\n",
    "\n",
    "In this example (adopted from holoviews examples), we want to show Careers paths. The following data is extracted from the 2010 Royal Society policy report entitled “The Scientific Century: securing our future prosperity” https://royalsociety.org/~/media/royal_society_content/policy/publications/2010/4294970126.pdf. \n",
    "\n",
    "In fact, we have known that 53% of the PhD Students went to a Career Outside Science, 47% of the them got an Early Career Researcher. 17% of those had been in an Early Career Researcher had a Non-Academic Research and 30% became a Permanent Research Staff. Only 22% of the last category got a Professor position which represents only 0.45% of the PhD students.\n",
    "\n",
    "source: https://malouche.github.io/notebooks/Sankey_graphs.html\n",
    "\n",
    "### Step 1. Import Packages and Preparing data"
   ]
  },
  {
   "cell_type": "code",
   "execution_count": null,
   "metadata": {},
   "outputs": [],
   "source": [
    "import pandas as pd\n",
    "import holoviews as hv\n",
    "from holoviews import opts, dim\n",
    "from bokeh.sampledata.les_mis import data\n",
    "\n",
    "hv.extension('bokeh')\n",
    "hv.output(size=100)"
   ]
  },
  {
   "cell_type": "code",
   "execution_count": null,
   "metadata": {},
   "outputs": [],
   "source": [
    "careers = [\"PhD\", \"Career Outside Science\",  \"Early Career Researcher\", \"Research Staff\",\n",
    "         \"Permanent Research Staff\",  \"Professor\",  \"Non-Academic Research\"]\n",
    "\n",
    "nodes = pd.DataFrame({'label':careers})  # make a DataFrame for nodes\n",
    "\n",
    "nodes = hv.Dataset(nodes, 'index')     # add an index column explicitly"
   ]
  },
  {
   "cell_type": "markdown",
   "metadata": {},
   "source": [
    "According to the order, we know that \"PhD\" has index value 0, \"Career Outside Science\" has index value 1, ...  Based on these indices and the information, the career path edge can be defined as three elements tuples instead of using rows of a DataFrame.  In the following code, there is an edge from \"PhD\" (index 0) to \"Career Outside Science\" (index 1) with 53%, which is represented as a tuple (0, 1, 53).\n"
   ]
  },
  {
   "cell_type": "code",
   "execution_count": null,
   "metadata": {},
   "outputs": [],
   "source": [
    "edges = [\n",
    "    (0, 1, 53), \n",
    "    (0, 2, 47), \n",
    "    (2, 6, 17), \n",
    "    (2, 3, 30), \n",
    "    (3, 1, 22.5), \n",
    "    (3, 4, 3.5), \n",
    "    (3, 6, 4.), \n",
    "    (4, 5, 0.45)   \n",
    "]\n",
    "value_dim = hv.Dimension('Percentage', unit='%')  # explain the value as percentage"
   ]
  },
  {
   "cell_type": "markdown",
   "metadata": {},
   "source": [
    "### Step 2.  Draw the diagram\n",
    "\n",
    "Once the data is ready, it is straightforward to draw the diagram"
   ]
  },
  {
   "cell_type": "code",
   "execution_count": null,
   "metadata": {},
   "outputs": [],
   "source": [
    "hv.Sankey((edges, nodes), ['From', 'To'], vdims=value_dim).options(\n",
    "    label_index='label', label_position='left', width=900, height=600, edge_color_index='To'\n",
    ")"
   ]
  },
  {
   "cell_type": "markdown",
   "metadata": {},
   "source": [
    "<hr style=\"border:1px solid gray\"> <center><h1> Alternative Task </h1></center><hr style=\"border:1px solid gray\">"
   ]
  },
  {
   "cell_type": "markdown",
   "metadata": {},
   "source": [
    "## Task:  Graph layout in <code>networkx</code>\n",
    "\n",
    "Adopted from the example in https://towardsdatascience.com/customizing-networkx-graphs-f80b4e69bedf.\n",
    "\n",
    "### Step 1.  Define the Graph Data  \n",
    "\n",
    "We normally define all the edges and node information (features) in two different DataFrames."
   ]
  },
  {
   "cell_type": "code",
   "execution_count": null,
   "metadata": {},
   "outputs": [],
   "source": [
    "import pandas as pd\n",
    "import numpy as np\n",
    "import networkx as nx\n",
    "import matplotlib.pyplot as plt\n",
    "import matplotlib\n",
    "\n",
    "\n",
    "# Specify data and attributes\n",
    "edges = pd.DataFrame({'from': ['A', 'A', 'A', '1', '2', '3', '1', 'Center', 'Center', \n",
    "                                       'Center', 'Center', 'Center', 'Center', 'Center'], \n",
    "                              'to': ['B', 'C', 'D', 'C', 'C', 'A', '3', '1', '3', '2', 'A', 'B', \n",
    "                                     'C', 'D']})\n",
    "\n",
    "# Create DF for node characteristics\n",
    "nodes = pd.DataFrame({'ID':['A', 'B', 'C', 'D', '1', '2', '3', 'Center'], \n",
    "                      'type':['Letter','Letter', 'Letter', 'Letter', 'Number', 'Number', \n",
    "                              'Number', 'Center']})\n"
   ]
  },
  {
   "cell_type": "code",
   "execution_count": null,
   "metadata": {},
   "outputs": [],
   "source": [
    "# Let's check what we have in edges and nodes\n",
    "edges, nodes"
   ]
  },
  {
   "cell_type": "markdown",
   "metadata": {},
   "source": [
    "### Step 2.   Creating <code>networkx</code> Graph Object\n",
    "\n",
    "Graph can be simply created from edge information stored in a <code>pandas</code> DataFrame"
   ]
  },
  {
   "cell_type": "code",
   "execution_count": null,
   "metadata": {},
   "outputs": [],
   "source": [
    "# Create graph object\n",
    "G = nx.from_pandas_edgelist(edges, 'from', 'to', create_using=nx.Graph())"
   ]
  },
  {
   "cell_type": "markdown",
   "metadata": {},
   "source": [
    "### Step 3. Preparing Node Characteristic Information"
   ]
  },
  {
   "cell_type": "markdown",
   "metadata": {},
   "source": [
    "<code>pandas.Categorical(values, ...)</code>\n",
    "\n",
    "**Parameters**:\n",
    "\n",
    "**values**: list-like\n",
    "- The values of the categorical. If categories are given, values not in categories will be replaced with NaN.\n",
    "\n",
    "<code>pandas.Categorical.codes</code>\n",
    "\n",
    "**property** Categorical.codes\n",
    "\n",
    "The category codes of this categorical.\n",
    "\n",
    "Codes are an array of integers which are the positions of the actual values in the categories array.\n",
    "\n",
    "There is no setter, use the other categorical methods and the normal item setter to change values in the categorical.\n",
    "\n",
    "Returns\n",
    "ndarray[int]\n",
    "\n",
    "A non-writable view of the codes array."
   ]
  },
  {
   "cell_type": "code",
   "execution_count": null,
   "metadata": {},
   "outputs": [],
   "source": [
    "# Make types into categories\n",
    "nodes= nodes.set_index('ID')\n",
    "nodes=nodes.reindex(G.nodes())\n",
    "\n",
    "nodes['type']=pd.Categorical(nodes['type'])\n",
    "nodes['type'].cat.codes #transfer the categorical info to numbers"
   ]
  },
  {
   "cell_type": "markdown",
   "metadata": {},
   "source": [
    "### Step 4. Preparing Drawing Information and Outputing Graphs"
   ]
  },
  {
   "cell_type": "code",
   "execution_count": null,
   "metadata": {},
   "outputs": [],
   "source": [
    "# Set node colors\n",
    "cmap = matplotlib.colors.ListedColormap(['dodgerblue', 'lightgray', 'darkorange'])\n",
    "\n",
    "# Set node sizes\n",
    "# letter nodes are smaller than others\n",
    "node_sizes = [4000 if entry != 'Letter' else 1000 for entry in nodes.type]\n",
    "\n",
    "# Set overall figure size\n",
    "f = plt.figure(figsize=(20,20))\n",
    "f.tight_layout()\n",
    "\n",
    "# Create Layouts\n",
    "\n",
    "# Subplot 1\n",
    "plt.subplot(2, 2, 1)\n",
    "nx.draw(G, with_labels=True, node_color=nodes['type'].cat.codes, cmap=cmap, \n",
    "        node_size = node_sizes, edgecolors='gray')\n",
    "plt.title('Spring Layout (Default)', fontsize=18)\n",
    "\n",
    "# Subplot 2\n",
    "plt.subplot(2, 2, 2)\n",
    "nx.draw_random(G, with_labels=True, node_color=nodes['type'].cat.codes, cmap=cmap, \n",
    "               node_size = node_sizes, edgecolors='gray')\n",
    "plt.title('Random Layout', fontsize=18)\n",
    "\n",
    "# Subplot 3\n",
    "plt.subplot(2, 2, 3)\n",
    "nx.draw_shell(G, with_labels=True, node_color=nodes['type'].cat.codes, cmap=cmap, \n",
    "            node_size = node_sizes, edgecolors='gray')\n",
    "plt.title('Shell Layout', fontsize=18)\n",
    "\n",
    "# Subplot 4\n",
    "plt.subplot(2, 2, 4)\n",
    "nx.draw_spectral(G, with_labels=True, node_color=nodes['type'].cat.codes, cmap=cmap, \n",
    "            node_size = node_sizes, edgecolors='gray')\n",
    "plt.title('Spectral Layout', fontsize=18)"
   ]
  },
  {
   "cell_type": "markdown",
   "metadata": {},
   "source": [
    "**Spring layout**\n",
    "https://networkx.org/documentation/stable/reference/generated/networkx.drawing.layout.spring_layout.html\n",
    "\n",
    "Position nodes using Fruchterman-Reingold force-directed algorithm.\n",
    "\n",
    "The algorithm simulates a force-directed representation of the network treating edges as springs holding nodes close, while treating nodes as repelling objects, sometimes called an anti-gravity force. Simulation continues until the positions are close to an equilibrium.\n",
    "\n",
    "**Random layout**\n",
    "\n",
    "https://networkx.org/documentation/stable/reference/generated/networkx.drawing.layout.random_layout.html\n",
    "\n",
    "Position nodes uniformly at random in the unit square.\n",
    "\n",
    "For every node, a position is generated by choosing each of dim coordinates uniformly at random on the interval [0.0, 1.0).\n",
    "\n",
    "NumPy (http://scipy.org) is required for this function.\n",
    "\n",
    "**Shell layout**\n",
    "\n",
    "https://networkx.org/documentation/stable/reference/generated/networkx.drawing.layout.shell_layout.html\n",
    "\n",
    "Position nodes in concentric circles.\n",
    "\n",
    "**Spectral layout**\n",
    "\n",
    "https://networkx.org/documentation/stable/reference/generated/networkx.drawing.layout.spectral_layout.html\n",
    "\n",
    "Position nodes using the eigenvectors of the graph Laplacian.\n",
    "\n",
    "Using the unnormalized Laplacian, the layout shows possible clusters of nodes which are an approximation of the ratio cut. If dim is the number of dimensions then the positions are the entries of the dim eigenvectors corresponding to the ascending eigenvalues starting from the second one."
   ]
  },
  {
   "cell_type": "markdown",
   "metadata": {},
   "source": [
    "### Summary\n",
    "\n",
    "1. A graph can be created in <code>networkx</code> according to a DataFrame whose rows correspond to the edges in the graph and two columns define the nodes.\n",
    "\n",
    "2. The nodes of the graph is also defined by another DataFrame whose Index should be same as the node \"names\" (or IDs) in the edge DataFrame columns, and a categorical column as node types.  Dont forget convert the categorical values (sometimes string values) into numeric values as code.\n",
    "\n",
    "3. To draw the graph, the characteristic or style such as node colors, node sizes should be provided to the drawing funciton <code>networkx.draw</code> or one of four defined layouts such as <code>draw</code>, <code>draw_random</code>, <code>draw_shell</code> and <code>draw_spectral</code>. "
   ]
  }
 ],
 "metadata": {
  "kernelspec": {
   "display_name": "Python 3 (ipykernel)",
   "language": "python",
   "name": "python3"
  },
  "language_info": {
   "codemirror_mode": {
    "name": "ipython",
    "version": 3
   },
   "file_extension": ".py",
   "mimetype": "text/x-python",
   "name": "python",
   "nbconvert_exporter": "python",
   "pygments_lexer": "ipython3",
   "version": "3.12.4"
  },
  "latex_envs": {
   "LaTeX_envs_menu_present": true,
   "autoclose": false,
   "autocomplete": true,
   "bibliofile": "biblio.bib",
   "cite_by": "apalike",
   "current_citInitial": 1,
   "eqLabelWithNumbers": true,
   "eqNumInitial": 1,
   "hotkeys": {
    "equation": "Ctrl-E",
    "itemize": "Ctrl-I"
   },
   "labels_anchors": false,
   "latex_user_defs": false,
   "report_style_numbering": false,
   "user_envs_cfg": false
  },
  "varInspector": {
   "cols": {
    "lenName": 16,
    "lenType": 16,
    "lenVar": 40
   },
   "kernels_config": {
    "python": {
     "delete_cmd_postfix": "",
     "delete_cmd_prefix": "del ",
     "library": "var_list.py",
     "varRefreshCmd": "print(var_dic_list())"
    },
    "r": {
     "delete_cmd_postfix": ") ",
     "delete_cmd_prefix": "rm(",
     "library": "var_list.r",
     "varRefreshCmd": "cat(var_dic_list()) "
    }
   },
   "types_to_exclude": [
    "module",
    "function",
    "builtin_function_or_method",
    "instance",
    "_Feature"
   ],
   "window_display": false
  }
 },
 "nbformat": 4,
 "nbformat_minor": 4
}
