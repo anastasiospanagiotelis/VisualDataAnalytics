{
 "cells": [
  {
   "cell_type": "code",
   "execution_count": null,
   "id": "a461abbb",
   "metadata": {},
   "outputs": [],
   "source": [
    "import seaborn as sns\n",
    "taxisdat = sns.load_dataset('taxis')\n",
    "taxisdat"
   ]
  },
  {
   "cell_type": "code",
   "execution_count": null,
   "id": "2a4b349b",
   "metadata": {},
   "outputs": [],
   "source": [
    "sns.countplot(data = taxisdat, x='pickup_borough')"
   ]
  },
  {
   "cell_type": "code",
   "execution_count": null,
   "id": "5ca8dfcb",
   "metadata": {},
   "outputs": [],
   "source": [
    "sns.countplot(data = taxisdat, y='pickup_borough')"
   ]
  },
  {
   "cell_type": "code",
   "execution_count": null,
   "id": "5cfd39cd",
   "metadata": {},
   "outputs": [],
   "source": [
    "sns.countplot(data = taxisdat, x='pickup_borough', order = taxisdat['pickup_borough'].value_counts().index)"
   ]
  },
  {
   "cell_type": "code",
   "execution_count": null,
   "id": "ab85bce7",
   "metadata": {},
   "outputs": [],
   "source": [
    "diam = sns.load_dataset('diamonds')\n",
    "diam"
   ]
  },
  {
   "cell_type": "code",
   "execution_count": null,
   "id": "8d62636a",
   "metadata": {},
   "outputs": [],
   "source": [
    "diam = sns.load_dataset('diamonds')\n",
    "sns.countplot(data=diam,x='clarity')"
   ]
  },
  {
   "cell_type": "code",
   "execution_count": null,
   "id": "0c7dcb87",
   "metadata": {},
   "outputs": [],
   "source": [
    "diam = sns.load_dataset('diamonds')\n",
    "sns.countplot(data=diam,x='clarity',color='tab:blue')"
   ]
  },
  {
   "cell_type": "code",
   "execution_count": null,
   "id": "ad437258",
   "metadata": {},
   "outputs": [],
   "source": [
    "freq = taxisdat[taxisdat['pickup_borough']=='Bronx'].value_counts('pickup_zone')\n",
    "freq"
   ]
  },
  {
   "cell_type": "code",
   "execution_count": null,
   "id": "6e9d01f8",
   "metadata": {},
   "outputs": [],
   "source": [
    "sns.histplot(taxisdat['fare'])"
   ]
  },
  {
   "cell_type": "code",
   "execution_count": null,
   "id": "c33f4a13",
   "metadata": {
    "scrolled": true
   },
   "outputs": [],
   "source": [
    "sns.histplot(taxisdat['fare'], bins=10)"
   ]
  },
  {
   "cell_type": "code",
   "execution_count": null,
   "id": "020ff932",
   "metadata": {},
   "outputs": [],
   "source": [
    "sns.histplot(taxisdat['fare'], bins=2000)"
   ]
  },
  {
   "cell_type": "code",
   "execution_count": null,
   "id": "c32246b3",
   "metadata": {},
   "outputs": [],
   "source": [
    "sns.kdeplot(taxisdat['fare'])"
   ]
  },
  {
   "cell_type": "code",
   "execution_count": null,
   "id": "29a3cf13",
   "metadata": {},
   "outputs": [],
   "source": [
    "sns.kdeplot(taxisdat['fare'], bw_adjust = 2)"
   ]
  },
  {
   "cell_type": "code",
   "execution_count": null,
   "id": "81f18f77",
   "metadata": {},
   "outputs": [],
   "source": [
    "sns.kdeplot(taxisdat['fare'], bw_adjust = 0.5)"
   ]
  },
  {
   "cell_type": "code",
   "execution_count": null,
   "id": "73205c42",
   "metadata": {},
   "outputs": [],
   "source": [
    "sns.violinplot(taxisdat['fare'])"
   ]
  },
  {
   "cell_type": "code",
   "execution_count": null,
   "id": "57b709c3",
   "metadata": {},
   "outputs": [],
   "source": [
    "sns.boxplot(taxisdat['fare'])"
   ]
  },
  {
   "cell_type": "code",
   "execution_count": null,
   "id": "30a6c92d",
   "metadata": {},
   "outputs": [],
   "source": [
    "sns.rugplot(taxisdat['fare'])"
   ]
  },
  {
   "cell_type": "code",
   "execution_count": null,
   "id": "29515d8c",
   "metadata": {},
   "outputs": [],
   "source": [
    "sns.stripplot(y=taxisdat['fare'])"
   ]
  }
 ],
 "metadata": {
  "kernelspec": {
   "display_name": "Python 3 (ipykernel)",
   "language": "python",
   "name": "python3"
  },
  "language_info": {
   "codemirror_mode": {
    "name": "ipython",
    "version": 3
   },
   "file_extension": ".py",
   "mimetype": "text/x-python",
   "name": "python",
   "nbconvert_exporter": "python",
   "pygments_lexer": "ipython3",
   "version": "3.11.5"
  }
 },
 "nbformat": 4,
 "nbformat_minor": 5
}
