{
 "cells": [
  {
   "cell_type": "code",
   "execution_count": null,
   "id": "8d639fcd",
   "metadata": {},
   "outputs": [],
   "source": [
    "import seaborn as sns\n",
    "import matplotlib.ticker as ticker\n",
    "import matplotlib.pyplot as plt\n",
    "\n",
    "hle = sns.load_dataset('healthexp')\n",
    "hleusa = hle[hle['Country']=='USA']\n",
    "sns.lineplot(data = hleusa, x='Year', y='Life_Expectancy')"
   ]
  },
  {
   "cell_type": "code",
   "execution_count": null,
   "id": "c2dbd82a",
   "metadata": {},
   "outputs": [],
   "source": [
    "dj = sns.load_dataset('dowjones')\n",
    "g = sns.lineplot(data=dj, x = 'Date', y = 'Price')\n",
    "g.xaxis.set_major_locator(ticker.LinearLocator(6))\n",
    "plt.show()"
   ]
  },
  {
   "cell_type": "code",
   "execution_count": null,
   "id": "7deed050",
   "metadata": {},
   "outputs": [],
   "source": [
    "hleusa['LEChange'] = hleusa[\"Life_Expectancy\"].diff()\n",
    "sns.lineplot(data = hleusa, x='Year', y='LEChange')"
   ]
  },
  {
   "cell_type": "code",
   "execution_count": null,
   "id": "c4dd97e2",
   "metadata": {},
   "outputs": [],
   "source": [
    "hleusa['LE%Change'] = hleusa[\"Life_Expectancy\"].pct_change()\n",
    "sns.lineplot(data = hleusa, x='Year', y='LE%Change')"
   ]
  },
  {
   "cell_type": "code",
   "execution_count": null,
   "id": "542e5082",
   "metadata": {},
   "outputs": [],
   "source": [
    "flights = sns.load_dataset('flights')\n",
    "flights['firstlag']=flights['passengers'].shift()\n",
    "sns.scatterplot(data=flights, x = 'firstlag', y = 'passengers')"
   ]
  },
  {
   "cell_type": "code",
   "execution_count": null,
   "id": "9fcdd612",
   "metadata": {},
   "outputs": [],
   "source": [
    "flights['lag12']=flights['passengers'].shift(12)\n",
    "sns.scatterplot(data=flights, x = 'lag12', y = 'passengers')"
   ]
  },
  {
   "cell_type": "code",
   "execution_count": null,
   "id": "ee5ff579",
   "metadata": {},
   "outputs": [],
   "source": [
    "dj['Returns']=dj['Price'].pct_change()\n",
    "g = sns.lineplot(data=dj, x = 'Date', y = 'Returns')\n",
    "g.xaxis.set_major_locator(ticker.LinearLocator(6))\n",
    "plt.show()"
   ]
  },
  {
   "cell_type": "code",
   "execution_count": null,
   "id": "72758931",
   "metadata": {},
   "outputs": [],
   "source": [
    "fig, ax = plt.subplots(figsize = (40,4) )\n",
    "sns.lineplot(data = hleusa, x='Year', y='LEChange')"
   ]
  },
  {
   "cell_type": "code",
   "execution_count": null,
   "id": "4db2427c",
   "metadata": {},
   "outputs": [],
   "source": [
    "fig, ax = plt.subplots(figsize = (3,5) )\n",
    "sns.lineplot(data = hleusa, x='Year', y='LEChange')"
   ]
  },
  {
   "cell_type": "code",
   "execution_count": null,
   "id": "03296ac7",
   "metadata": {},
   "outputs": [],
   "source": [
    "import datetime\n",
    "x=datetime.datetime.now()\n",
    "y=datetime.datetime(2008, 3, 16)\n",
    "print(x)"
   ]
  },
  {
   "cell_type": "code",
   "execution_count": null,
   "id": "b61ed77b",
   "metadata": {},
   "outputs": [],
   "source": [
    "print(y)"
   ]
  },
  {
   "cell_type": "code",
   "execution_count": null,
   "id": "a6bfe3aa",
   "metadata": {},
   "outputs": [],
   "source": [
    "print(x-y)"
   ]
  },
  {
   "cell_type": "code",
   "execution_count": null,
   "id": "7812a3e2",
   "metadata": {},
   "outputs": [],
   "source": [
    "print(y)"
   ]
  },
  {
   "cell_type": "code",
   "execution_count": null,
   "id": "5a971970",
   "metadata": {},
   "outputs": [],
   "source": [
    "print(y+datetime.timedelta(days=10))"
   ]
  },
  {
   "cell_type": "code",
   "execution_count": null,
   "id": "20a79d83",
   "metadata": {},
   "outputs": [],
   "source": [
    "import pandas as pd\n",
    "elec = pd.read_csv('../data/electricity.csv')\n",
    "elec"
   ]
  },
  {
   "cell_type": "code",
   "execution_count": null,
   "id": "0140bf75",
   "metadata": {},
   "outputs": [],
   "source": [
    "elec.dtypes"
   ]
  },
  {
   "cell_type": "code",
   "execution_count": null,
   "id": "dd7ebda4",
   "metadata": {},
   "outputs": [],
   "source": [
    "elec['INTERVAL_DATETIME'] = pd.to_datetime(elec['INTERVAL_DATETIME'])\n",
    "elec.dtypes"
   ]
  },
  {
   "cell_type": "code",
   "execution_count": null,
   "id": "ab7a61ea",
   "metadata": {},
   "outputs": [],
   "source": [
    "datetime.datetime.strftime(y,'%a %d-%B-%Y')"
   ]
  },
  {
   "cell_type": "code",
   "execution_count": null,
   "id": "fecead0f",
   "metadata": {},
   "outputs": [],
   "source": [
    "datetime.datetime.strftime(y,'%B %d, %y')"
   ]
  },
  {
   "cell_type": "code",
   "execution_count": null,
   "id": "47c9fd3f",
   "metadata": {},
   "outputs": [],
   "source": [
    "print(datetime.datetime.strptime('December 10, 22','%B %d, %y'))"
   ]
  },
  {
   "cell_type": "code",
   "execution_count": null,
   "id": "ad6bb87b",
   "metadata": {},
   "outputs": [],
   "source": [
    "fig, ax = plt.subplots()\n",
    "g = sns.lineplot(data = elec[elec['REGIONID']=='NSW1'],x='INTERVAL_DATETIME', y = 'OPERATIONAL_DEMAND')\n",
    "g.xaxis.set_major_locator(ticker.LinearLocator(6))\n",
    "plt.show()"
   ]
  },
  {
   "cell_type": "code",
   "execution_count": null,
   "id": "6add704c",
   "metadata": {},
   "outputs": [],
   "source": [
    "elec['TIME']=elec['INTERVAL_DATETIME'].dt.strftime('%H:%M') \n",
    "elec['DAY']=elec['INTERVAL_DATETIME'].dt.strftime('%a %d-%b') \n",
    "g = sns.lineplot(data = elec[elec['REGIONID']=='NSW1'],x='TIME', y = 'OPERATIONAL_DEMAND', hue='DAY') \n",
    "g.xaxis.set_major_locator(ticker.LinearLocator(8))\n",
    "plt.show()"
   ]
  },
  {
   "cell_type": "code",
   "execution_count": null,
   "id": "267da1f7",
   "metadata": {},
   "outputs": [],
   "source": [
    "taxisdat = sns.load_dataset('taxis')\n",
    "taxisdat['timestamp'] = pd.to_datetime(taxisdat['pickup'])\n",
    "taxisdat['date'] = taxisdat['timestamp'].dt.strftime('%Y/%m/%d')\n",
    "taxists = taxisdat.groupby('date').size().reset_index(name='trips')\n",
    "taxists['date'] = pd.to_datetime(taxists['date'])\n",
    "taxists"
   ]
  },
  {
   "cell_type": "code",
   "execution_count": null,
   "id": "b4f74775",
   "metadata": {},
   "outputs": [],
   "source": [
    "g = sns.lineplot(data = taxists, x='date', y='trips')\n",
    "g.xaxis.set_major_locator(ticker.LinearLocator(6))\n",
    "plt.show()"
   ]
  },
  {
   "cell_type": "code",
   "execution_count": null,
   "id": "311621cf",
   "metadata": {},
   "outputs": [],
   "source": [
    "taxisdat['datehour'] = pd.to_datetime(taxisdat['pickup']).dt.strftime('%Y/%m/%d %H')\n",
    "taxish = taxisdat.groupby('datehour').agg({'fare':'mean','distance':'mean'})\n",
    "taxish['hour'] = taxish.index.str[-2:].astype(int)\n",
    "taxish"
   ]
  },
  {
   "cell_type": "code",
   "execution_count": null,
   "id": "b75a3413",
   "metadata": {},
   "outputs": [],
   "source": [
    "sns.scatterplot(data = taxish, x = 'distance', y = 'fare', hue = 'hour', palette = 'twilight')"
   ]
  },
  {
   "cell_type": "code",
   "execution_count": null,
   "id": "328445e5",
   "metadata": {},
   "outputs": [],
   "source": [
    "taxisdat['day'] = pd.to_datetime(taxisdat['pickup']).dt.strftime('%a')\n",
    "sns.kdeplot(data = taxisdat, x='fare', hue='day')"
   ]
  }
 ],
 "metadata": {
  "kernelspec": {
   "display_name": "Python 3 (ipykernel)",
   "language": "python",
   "name": "python3"
  },
  "language_info": {
   "codemirror_mode": {
    "name": "ipython",
    "version": 3
   },
   "file_extension": ".py",
   "mimetype": "text/x-python",
   "name": "python",
   "nbconvert_exporter": "python",
   "pygments_lexer": "ipython3",
   "version": "3.11.5"
  }
 },
 "nbformat": 4,
 "nbformat_minor": 5
}
