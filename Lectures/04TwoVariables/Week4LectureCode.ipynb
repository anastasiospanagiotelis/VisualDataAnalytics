{
 "cells": [
  {
   "cell_type": "code",
   "execution_count": null,
   "id": "fbcb1c98",
   "metadata": {},
   "outputs": [],
   "source": [
    "import seaborn as sns\n",
    "import pandas as pd\n",
    "diam = sns.load_dataset('diamonds')\n",
    "taxisdat = sns.load_dataset('taxis')\n",
    "sns.countplot(data=diam, x='clarity', hue='cut')"
   ]
  },
  {
   "cell_type": "code",
   "execution_count": null,
   "id": "a2422fa9",
   "metadata": {},
   "outputs": [],
   "source": [
    "diamct = pd.crosstab(diam['clarity'],diam['cut'])\n",
    "diamct"
   ]
  },
  {
   "cell_type": "code",
   "execution_count": null,
   "id": "13e019bc",
   "metadata": {},
   "outputs": [],
   "source": [
    "diamct = pd.crosstab(diam['clarity'],diam['cut'])\n",
    "diamct"
   ]
  },
  {
   "cell_type": "code",
   "execution_count": null,
   "id": "577e7131",
   "metadata": {},
   "outputs": [],
   "source": [
    "diamct = pd.crosstab(diam['clarity'],diam['cut'], normalize='index')\n",
    "diamct"
   ]
  },
  {
   "cell_type": "code",
   "execution_count": null,
   "id": "eae49cda",
   "metadata": {},
   "outputs": [],
   "source": [
    "diamct.plot(kind = 'bar', stacked = True)"
   ]
  },
  {
   "cell_type": "code",
   "execution_count": null,
   "id": "372b0b9d",
   "metadata": {},
   "outputs": [],
   "source": [
    "sns.boxplot(data = taxisdat, y = 'fare', x = 'pickup_borough')"
   ]
  },
  {
   "cell_type": "code",
   "execution_count": null,
   "id": "39596e22",
   "metadata": {},
   "outputs": [],
   "source": [
    "sns.violinplot(data = taxisdat, y = 'fare', x = 'pickup_borough')"
   ]
  },
  {
   "cell_type": "code",
   "execution_count": null,
   "id": "9eddd993",
   "metadata": {},
   "outputs": [],
   "source": [
    "sns.stripplot(data = taxisdat, y = 'fare', x = 'pickup_borough')"
   ]
  },
  {
   "cell_type": "code",
   "execution_count": null,
   "id": "552e2ed7",
   "metadata": {},
   "outputs": [],
   "source": [
    "sns.swarmplot(data = taxisdat[taxisdat['dropoff_borough']=='Bronx'], y = 'fare', x = 'pickup_borough')"
   ]
  },
  {
   "cell_type": "code",
   "execution_count": null,
   "id": "ab71c188",
   "metadata": {},
   "outputs": [],
   "source": [
    "sns.scatterplot(data = taxisdat, y = 'fare', x = 'distance')"
   ]
  },
  {
   "cell_type": "code",
   "execution_count": null,
   "id": "bdc40883",
   "metadata": {},
   "outputs": [],
   "source": [
    "sns.scatterplot(data = taxisdat, y = 'fare', x = 'distance') \n",
    "sns.rugplot(data = taxisdat, y = 'fare', x = 'distance')"
   ]
  },
  {
   "cell_type": "code",
   "execution_count": null,
   "id": "5927fde7",
   "metadata": {},
   "outputs": [],
   "source": [
    "sns.lmplot(data = taxisdat, y = 'fare', x = 'distance')"
   ]
  },
  {
   "cell_type": "code",
   "execution_count": null,
   "id": "141962dd",
   "metadata": {},
   "outputs": [],
   "source": [
    "mpg = sns.load_dataset('mpg')\n",
    "sns.lmplot(data = mpg, y = 'mpg', x = 'displacement', lowess=True)"
   ]
  },
  {
   "cell_type": "code",
   "execution_count": null,
   "id": "185ca43f",
   "metadata": {},
   "outputs": [],
   "source": [
    "sns.scatterplot(data = taxisdat, y = 'fare', x = 'distance')"
   ]
  },
  {
   "cell_type": "code",
   "execution_count": null,
   "id": "6091707b",
   "metadata": {},
   "outputs": [],
   "source": [
    "sns.scatterplot(data = diam, y = 'price', x = 'carat')"
   ]
  },
  {
   "cell_type": "code",
   "execution_count": null,
   "id": "1049c3ce",
   "metadata": {},
   "outputs": [],
   "source": [
    "sns.scatterplot(data = diam, y = 'price', x = 'carat', s=1)"
   ]
  },
  {
   "cell_type": "code",
   "execution_count": null,
   "id": "af2a77be",
   "metadata": {},
   "outputs": [],
   "source": [
    "sns.scatterplot(data = diam, y = 'price', x = 'carat', alpha=0.1)"
   ]
  },
  {
   "cell_type": "code",
   "execution_count": null,
   "id": "2d16734b",
   "metadata": {},
   "outputs": [],
   "source": [
    "sns.scatterplot(data = diam, y = 'price', x = 'carat', s=1) \n",
    "sns.kdeplot(data = diam, y = 'price', x = 'carat')"
   ]
  },
  {
   "cell_type": "code",
   "execution_count": null,
   "id": "d6d3cbba",
   "metadata": {},
   "outputs": [],
   "source": [
    "sns.kdeplot(data = diam, y = 'price', x = 'carat', shade = True)"
   ]
  },
  {
   "cell_type": "code",
   "execution_count": null,
   "id": "480ba384",
   "metadata": {},
   "outputs": [],
   "source": [
    "sns.displot(data = diam, y = 'price', x = 'carat')"
   ]
  }
 ],
 "metadata": {
  "kernelspec": {
   "display_name": "Python 3 (ipykernel)",
   "language": "python",
   "name": "python3"
  },
  "language_info": {
   "codemirror_mode": {
    "name": "ipython",
    "version": 3
   },
   "file_extension": ".py",
   "mimetype": "text/x-python",
   "name": "python",
   "nbconvert_exporter": "python",
   "pygments_lexer": "ipython3",
   "version": "3.11.5"
  }
 },
 "nbformat": 4,
 "nbformat_minor": 5
}
