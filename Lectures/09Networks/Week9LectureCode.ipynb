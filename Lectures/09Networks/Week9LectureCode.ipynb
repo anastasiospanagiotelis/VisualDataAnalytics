{
 "cells": [
  {
   "cell_type": "code",
   "execution_count": null,
   "id": "e6b836bb-e6dc-45bc-beb9-e559d5b85fd1",
   "metadata": {},
   "outputs": [],
   "source": [
    "import networkx as nx\n",
    "import pandas as pd\n",
    "import matplotlib.pyplot as plt\n",
    "df = pd.DataFrame({ 'from':['A', 'A', 'A','B','C'], 'to':['B', 'C', 'D','D','D']})\n",
    "df"
   ]
  },
  {
   "cell_type": "code",
   "execution_count": null,
   "id": "f6467d09-7c37-420d-86db-5b4f953eb091",
   "metadata": {},
   "outputs": [],
   "source": [
    "G=nx.from_pandas_edgelist(df, 'from', 'to')\n",
    "nx.draw(G, with_labels=True)\n",
    "plt.show()"
   ]
  },
  {
   "cell_type": "code",
   "execution_count": null,
   "id": "5b62993d-8823-4926-8e76-9a1df717318b",
   "metadata": {},
   "outputs": [],
   "source": [
    "G=nx.from_pandas_edgelist(df, 'from', 'to')\n",
    "nx.draw(G, with_labels=True, node_size=2000, font_size=20, width = 6)\n",
    "plt.show()"
   ]
  },
  {
   "cell_type": "code",
   "execution_count": null,
   "id": "8416fec3-c84a-4c77-9db2-536471723ecf",
   "metadata": {},
   "outputs": [],
   "source": [
    "G=nx.from_pandas_edgelist(df, 'from', 'to')\n",
    "nx.draw(G, with_labels=True, node_size=2000, font_size=20, width = 6, pos=nx.fruchterman_reingold_layout(G,seed=10))\n",
    "plt.show()"
   ]
  },
  {
   "cell_type": "code",
   "execution_count": null,
   "id": "b8834505-c924-4d5c-a37b-9f903e687644",
   "metadata": {},
   "outputs": [],
   "source": [
    "G=nx.from_pandas_edgelist(df, 'from', 'to')\n",
    "nx.draw(G, with_labels=True, node_size=2000, font_size=20, width = 6, pos=nx.fruchterman_reingold_layout(G,seed=10))\n",
    "plt.show()"
   ]
  },
  {
   "cell_type": "code",
   "execution_count": null,
   "id": "4b4a359d-629a-4bc9-b22b-3bba901f3289",
   "metadata": {},
   "outputs": [],
   "source": [
    "nem = pd.DataFrame({ 'from':['QLD', 'NSW', 'VIC','VIC'], 'to':['NSW', 'VIC', 'SA','TAS']})\n",
    "G=nx.from_pandas_edgelist(nem, 'from', 'to')\n",
    "nx.draw(G, with_labels=True, node_size=2000, font_size=20, width = 6, pos= nx.fruchterman_reingold_layout(G, seed=20))\n",
    "#plt.show()"
   ]
  },
  {
   "cell_type": "code",
   "execution_count": null,
   "id": "8a97eefd-d179-460c-b9be-7e9f7a355534",
   "metadata": {},
   "outputs": [],
   "source": [
    "nem = pd.DataFrame({ 'from':['QLD', 'NSW', 'VIC','VIC'], 'to':['NSW', 'VIC', 'SA','TAS'], \n",
    "'capacity':[1380,1770,495, 500]})\n",
    "nx.draw(G, with_labels=True, node_size=2000, font_size=20, width = nem['capacity']/500, pos= nx.fruchterman_reingold_layout(G, seed=20))\n",
    "plt.show()"
   ]
  },
  {
   "cell_type": "code",
   "execution_count": null,
   "id": "fe50de68-b0a1-41ed-b2fd-6b37ab7e70f3",
   "metadata": {},
   "outputs": [],
   "source": [
    "nx.draw(G, with_labels=True, node_size=2000, font_size=20, width = 6, edge_color = nem['capacity']/500, pos= nx.fruchterman_reingold_layout(G, seed=20))\n",
    "plt.show()"
   ]
  },
  {
   "cell_type": "code",
   "execution_count": null,
   "id": "d5541e7f-fddf-4e93-8b1b-bf5b8c2fcffe",
   "metadata": {},
   "outputs": [],
   "source": [
    "nem = pd.DataFrame({ \n",
    "  'from':['QLD', 'NSW', 'SA','VIC'], \n",
    "  'to':['NSW', 'VIC', 'VIC','TAS'],\n",
    "  'flow':[332, 644, 339, 308]})\n",
    "Gd=nx.from_pandas_edgelist(\n",
    "  nem,\n",
    "  'from', \n",
    "  'to', \n",
    "  create_using=nx.DiGraph()\n",
    "  )"
   ]
  },
  {
   "cell_type": "code",
   "execution_count": null,
   "id": "2d4a677b-b9a7-4d9a-bd0c-e8a7f9e5a058",
   "metadata": {},
   "outputs": [],
   "source": [
    "nx.draw(Gd, arrows=True, with_labels=True, node_size=2000, font_size=20, width = nem['flow']/100, pos= nx.fruchterman_reingold_layout(Gd, seed=20))\n",
    "plt.show()"
   ]
  },
  {
   "cell_type": "code",
   "execution_count": null,
   "id": "85d556a5-1ac6-4fb4-925b-6d970fb2c5bf",
   "metadata": {},
   "outputs": [],
   "source": [
    "df = pd.DataFrame({  'customer':['Bec', 'Chao', 'Anastasios', 'Bec','Anastasios','Bec','Chao'], 'restaurant':['Atom', 'Atom', 'Beirut','Beirut','Cafe','Cafe','Cafe']})\n",
    "G=nx.from_pandas_edgelist(df, 'customer', 'restaurant')"
   ]
  },
  {
   "cell_type": "code",
   "execution_count": null,
   "id": "5eeafedd-766c-4d2d-8c82-56e080d1030e",
   "metadata": {},
   "outputs": [],
   "source": [
    "nx.draw(G, with_labels=True, node_size=3000, font_size=15, width = 6, pos=nx.bipartite_layout(G, nodes=['Anastasios','Bec','Chao']))\n",
    "plt.show()"
   ]
  },
  {
   "cell_type": "code",
   "execution_count": null,
   "id": "5cdac656-60f6-477a-b2b4-65a10731a05f",
   "metadata": {},
   "outputs": [],
   "source": [
    "import plotly.graph_objects as go\n",
    "source = [0,0,1,1,1,2,2]\n",
    "target = [4,5,3,4,5,3,5]\n",
    "value = [10,25,15,12,18,12,20]\n",
    "link = dict(source = source, target = target, value = value)\n",
    "data = go.Sankey(link = link)\n",
    "fig = go.Figure(data)\n",
    "fig.write_html('sankey.html')"
   ]
  }
 ],
 "metadata": {
  "kernelspec": {
   "display_name": "Python 3 (ipykernel)",
   "language": "python",
   "name": "python3"
  },
  "language_info": {
   "codemirror_mode": {
    "name": "ipython",
    "version": 3
   },
   "file_extension": ".py",
   "mimetype": "text/x-python",
   "name": "python",
   "nbconvert_exporter": "python",
   "pygments_lexer": "ipython3",
   "version": "3.12.4"
  }
 },
 "nbformat": 4,
 "nbformat_minor": 5
}
