{
 "cells": [
  {
   "cell_type": "code",
   "execution_count": null,
   "id": "99196fe0-05ec-4899-99ba-4b1c868d511d",
   "metadata": {},
   "outputs": [],
   "source": [
    "import pandas as pd\n",
    "NBA = pd.read_csv('NBA1.csv')\n",
    "NBA"
   ]
  },
  {
   "cell_type": "code",
   "execution_count": null,
   "id": "0d8662f6-f82d-412e-9963-d0bc28f2cd14",
   "metadata": {},
   "outputs": [],
   "source": [
    "new = NBA.Birthplace.str.split(', ',expand = True)\n",
    "new"
   ]
  },
  {
   "cell_type": "code",
   "execution_count": null,
   "id": "e1bd423e-5baa-4590-a971-b16b17ab3f16",
   "metadata": {},
   "outputs": [],
   "source": [
    "NBA[\"CityOfBirth\"] = new[0]\n",
    "NBA[\"CountryOfBirth\"] = new[1]\n",
    "NBA"
   ]
  },
  {
   "cell_type": "code",
   "execution_count": null,
   "id": "048d4c3a-40db-4521-a87b-cf74347767e8",
   "metadata": {},
   "outputs": [],
   "source": [
    "NBA[\"PPG\"]=NBA[\"Points\"]/ NBA[\"Games Played\"]\n",
    "NBA"
   ]
  },
  {
   "cell_type": "code",
   "execution_count": null,
   "id": "36b0fae9-35e5-47d7-a451-cbfa1fbe2cdf",
   "metadata": {},
   "outputs": [],
   "source": [
    "NBAbymin = NBA.sort_values(by = 'Minutes')\n",
    "NBAbymin"
   ]
  },
  {
   "cell_type": "code",
   "execution_count": null,
   "id": "6f62c56d-89fe-493a-91d8-1d70c542b681",
   "metadata": {},
   "outputs": [],
   "source": [
    "NBAppg20 = NBA.loc[NBA[\"PPG\"]>20]\n",
    "NBAppg20"
   ]
  },
  {
   "cell_type": "code",
   "execution_count": null,
   "id": "e233a081-c5e8-4e48-8361-54356707d7f0",
   "metadata": {},
   "outputs": [],
   "source": [
    "NBAAkr = NBA.loc[NBA[\"CityOfBirth\"] == 'Akron']\n",
    "NBAAkr"
   ]
  },
  {
   "cell_type": "code",
   "execution_count": null,
   "id": "f63cd405-8d0d-4ca8-b981-300f1e5b2ef5",
   "metadata": {},
   "outputs": [],
   "source": [
    "NBAnonUS = NBA.loc[NBA[\"CountryOfBirth\"] != 'USA']\n",
    "NBAnonUS"
   ]
  },
  {
   "cell_type": "code",
   "execution_count": null,
   "id": "b7819ff6-44aa-4704-8d92-4af2099aa935",
   "metadata": {},
   "outputs": [],
   "source": [
    "NBAg = NBA.groupby('CountryOfBirth').agg({'Points': 'sum'})\n",
    "NBAg"
   ]
  },
  {
   "cell_type": "code",
   "execution_count": null,
   "id": "019151e3-d224-43bb-8fd0-0cd1486d7860",
   "metadata": {},
   "outputs": [],
   "source": [
    "NBAlong = NBA.melt(id_vars=['Player'],value_vars=['Games Played', 'Minutes', 'Points'])\n",
    "NBAlong"
   ]
  },
  {
   "cell_type": "code",
   "execution_count": null,
   "id": "8a51e792-512d-4269-8661-04ed82698346",
   "metadata": {},
   "outputs": [],
   "source": [
    "NBAwide = NBAlong.pivot(index='Player', columns = 'variable')\n",
    "NBAwide"
   ]
  },
  {
   "cell_type": "code",
   "execution_count": null,
   "id": "ec8bc979-aab1-46e3-aacd-a1f4356d47bc",
   "metadata": {},
   "outputs": [],
   "source": [
    "Sydney = pd.read_csv('SydneyClimate.csv')\n",
    "Sydney"
   ]
  },
  {
   "cell_type": "code",
   "execution_count": null,
   "id": "85b5755c-848d-43f2-96e3-83b04a452175",
   "metadata": {},
   "outputs": [],
   "source": [
    "Sydlong = Sydney.melt(id_vars='Year').sort_values(by = ['Year','variable'])\n",
    "Sydlong"
   ]
  },
  {
   "cell_type": "code",
   "execution_count": null,
   "id": "72d8ea51-f781-460d-b3ac-f4a0b84b2901",
   "metadata": {},
   "outputs": [],
   "source": [
    "CitiesStates = pd.read_csv('UScitiesstates.csv')\n",
    "NBAmerge = pd.merge(NBA,CitiesStates, left_on = 'CityOfBirth', right_on = 'City')\n",
    "NBAmerge"
   ]
  },
  {
   "cell_type": "code",
   "execution_count": null,
   "id": "924c5ca2-eb34-49f8-8f06-f350a19adddd",
   "metadata": {},
   "outputs": [],
   "source": [
    "NBAmerge = pd.merge(NBA,CitiesStates, how = 'outer', left_on = 'CityOfBirth', right_on = 'City')\n",
    "NBAmerge"
   ]
  },
  {
   "cell_type": "code",
   "execution_count": null,
   "id": "3c481f9b-976e-4990-b08d-4fd3dfc3b185",
   "metadata": {},
   "outputs": [],
   "source": [
    "NBA.dtypes"
   ]
  }
 ],
 "metadata": {
  "kernelspec": {
   "display_name": "Python 3 (ipykernel)",
   "language": "python",
   "name": "python3"
  },
  "language_info": {
   "codemirror_mode": {
    "name": "ipython",
    "version": 3
   },
   "file_extension": ".py",
   "mimetype": "text/x-python",
   "name": "python",
   "nbconvert_exporter": "python",
   "pygments_lexer": "ipython3",
   "version": "3.11.5"
  }
 },
 "nbformat": 4,
 "nbformat_minor": 5
}
